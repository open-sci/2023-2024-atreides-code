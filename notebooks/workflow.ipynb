{
 "cells": [
  {
   "cell_type": "code",
   "execution_count": 5,
   "metadata": {},
   "outputs": [
    {
     "name": "stderr",
     "output_type": "stream",
     "text": [
      "/home/leo/anaconda3/lib/python3.11/site-packages/pandas/core/arrays/masked.py:60: UserWarning: Pandas requires version '1.3.6' or newer of 'bottleneck' (version '1.3.5' currently installed).\n",
      "  from pandas.core import (\n"
     ]
    }
   ],
   "source": [
    "import glob\n",
    "import os\n",
    "import sys\n",
    "import tempfile\n",
    "from pathlib import Path\n",
    "from zipfile import ZipFile\n",
    "\n",
    "from dask.diagnostics import ProgressBar\n",
    "import dask.dataframe as dd\n",
    "from tqdm.auto import tqdm\n",
    "\n",
    "import polars as pl\n",
    "pl.Config.set_fmt_str_lengths(100)\n",
    "pl.Config.set_tbl_rows(10)\n",
    "\n",
    "sys.path.append('../src')\n",
    "from iris import read_iris\n",
    "\n",
    "\n",
    "from dask.diagnostics import ProgressBar\n",
    "ProgressBar().register()"
   ]
  },
  {
   "cell_type": "markdown",
   "metadata": {},
   "source": [
    "## Read Iris"
   ]
  },
  {
   "cell_type": "code",
   "execution_count": 6,
   "metadata": {},
   "outputs": [],
   "source": [
    "iris_path = Path('/run/media/leo/b9827f00-f8da-4458-bc94-97b28f1a0989/iris-data-2025-05-30.zip')"
   ]
  },
  {
   "cell_type": "markdown",
   "metadata": {},
   "source": [
    "We read the Master and Identifier tables of the Iris dataset and we join them by the ITEM_ID. We then filter this dataframe to keep only the entries that have at least a non-null DOI, ISBN or PMID. \n",
    "\n",
    "We also keep only the OWNING_COLLECTION column to denote the labels of the types of the entries, because of computational efficiency"
   ]
  },
  {
   "cell_type": "code",
   "execution_count": 7,
   "metadata": {},
   "outputs": [
    {
     "name": "stdout",
     "output_type": "stream",
     "text": [
      "original len:  402166 | len after filtering out entities without PIDs:  263133\n"
     ]
    },
    {
     "data": {
      "text/html": [
       "<div><style>\n",
       ".dataframe > thead > tr,\n",
       ".dataframe > tbody > tr {\n",
       "  text-align: right;\n",
       "  white-space: pre-wrap;\n",
       "}\n",
       "</style>\n",
       "<small>shape: (5, 5)</small><table border=\"1\" class=\"dataframe\"><thead><tr><th>ITEM_ID</th><th>IDE_DOI</th><th>IDE_ISBN</th><th>IDE_PMID</th><th>OWNING_COLLECTION</th></tr><tr><td>i64</td><td>str</td><td>str</td><td>str</td><td>i64</td></tr></thead><tbody><tr><td>60479</td><td>null</td><td>&quot;8883125150&quot;</td><td>null</td><td>50</td></tr><tr><td>82956</td><td>null</td><td>&quot;88.387.3686.3; 88.387.3687.1&quot;</td><td>null</td><td>57</td></tr><tr><td>70006</td><td>&quot;10.1441/13328&quot;</td><td>null</td><td>null</td><td>35</td></tr><tr><td>73478</td><td>&quot;10.2110/palo.2005.p05-020r&quot;</td><td>null</td><td>null</td><td>35</td></tr><tr><td>81464</td><td>null</td><td>&quot; 0769525881&quot;</td><td>null</td><td>57</td></tr></tbody></table></div>"
      ],
      "text/plain": [
       "shape: (5, 5)\n",
       "┌─────────┬────────────────────────────┬────────────────┬──────────┬───────────────────┐\n",
       "│ ITEM_ID ┆ IDE_DOI                    ┆ IDE_ISBN       ┆ IDE_PMID ┆ OWNING_COLLECTION │\n",
       "│ ---     ┆ ---                        ┆ ---            ┆ ---      ┆ ---               │\n",
       "│ i64     ┆ str                        ┆ str            ┆ str      ┆ i64               │\n",
       "╞═════════╪════════════════════════════╪════════════════╪══════════╪═══════════════════╡\n",
       "│ 60479   ┆ null                       ┆ 8883125150     ┆ null     ┆ 50                │\n",
       "│ 82956   ┆ null                       ┆ 88.387.3686.3; ┆ null     ┆ 57                │\n",
       "│         ┆                            ┆ 88.387.3687.1  ┆          ┆                   │\n",
       "│ 70006   ┆ 10.1441/13328              ┆ null           ┆ null     ┆ 35                │\n",
       "│ 73478   ┆ 10.2110/palo.2005.p05-020r ┆ null           ┆ null     ┆ 35                │\n",
       "│ 81464   ┆ null                       ┆  0769525881    ┆ null     ┆ 57                │\n",
       "└─────────┴────────────────────────────┴────────────────┴──────────┴───────────────────┘"
      ]
     },
     "execution_count": 7,
     "metadata": {},
     "output_type": "execute_result"
    }
   ],
   "source": [
    "df_iris_master = pl.read_csv(ZipFile(iris_path).open(\"POSTPROCESS-iris-data-2025-05-27/ODS_L1_IR_ITEM_MASTER_ALL.csv\").read())\n",
    "df_iris_identifier = pl.read_csv(ZipFile(iris_path).open(\"POSTPROCESS-iris-data-2025-05-27/ODS_L1_IR_ITEM_IDENTIFIER.csv\").read(), columns=['ITEM_ID', 'IDE_DOI', 'IDE_ISBN', 'IDE_PMID'], ignore_errors=True, schema_overrides={'ITEM_ID': pl.Int64, 'IDE_DOI': pl.Utf8, 'IDE_ISBN': pl.Utf8, 'IDE_PMID': pl.Utf8})\n",
    "df_iris_relation = pl.read_csv(ZipFile(iris_path).open('POSTPROCESS-iris-data-2025-05-27/ODS_L1_IR_ITEM_RELATION.csv').read(), columns=['ITEM_ID', 'REL_ISPARTOFBOOK', 'REL_ISPARTOFJOURNAL'],\n",
    "                                infer_schema_length=None)\n",
    "df_iris_description = pl.read_csv(ZipFile(iris_path).open('POSTPROCESS-iris-data-2025-05-27/ODS_L1_IR_ITEM_DESCRIPTION.csv').read(), columns=['ITEM_ID', 'DES_ALLPEOPLE', 'DES_NUMBEROFAUTHORS'])\n",
    "df_iris_publisher = pl.read_csv(ZipFile(iris_path).open('POSTPROCESS-iris-data-2025-05-27/ODS_L1_IR_ITEM_PUBLISHER.csv').read(), columns=['ITEM_ID', 'PUB_NAME', 'PUB_PLACE', 'PUB_COUNTRY'])\n",
    "\n",
    "\n",
    "df = df_iris_identifier.join(df_iris_master, on='ITEM_ID', how='inner')#.join(df_iris_relation, on='ITEM_ID', how='inner')\n",
    "#df_authors = df.join(df_iris_description, on='ITEM_ID', how='inner')\n",
    "\n",
    "\n",
    "\n",
    "# a df where for each br at least one of the identifiers is not null\n",
    "df_filtered = df.filter(pl.col('IDE_DOI').is_not_null() | pl.col('IDE_ISBN').is_not_null() | pl.col('IDE_PMID').is_not_null())[\n",
    "    ['ITEM_ID', 'IDE_DOI', 'IDE_ISBN', 'IDE_PMID', 'OWNING_COLLECTION']#, 'REL_ISPARTOFBOOK', 'REL_ISPARTOFJOURNAL']\n",
    "]\n",
    "\n",
    "df_noid =  df.filter(pl.col('IDE_DOI').is_null() & pl.col('IDE_ISBN').is_null() & pl.col('IDE_PMID').is_null())\n",
    "print('original len: ', df.__len__(), '| len after filtering out entities without PIDs: ', df_filtered.__len__())\n",
    "df_filtered.head()"
   ]
  },
  {
   "cell_type": "markdown",
   "metadata": {},
   "source": [
    "We see that 3 entries do not have a type assigned to them:"
   ]
  },
  {
   "cell_type": "code",
   "execution_count": 8,
   "metadata": {},
   "outputs": [
    {
     "data": {
      "text/html": [
       "<div><style>\n",
       ".dataframe > thead > tr,\n",
       ".dataframe > tbody > tr {\n",
       "  text-align: right;\n",
       "  white-space: pre-wrap;\n",
       "}\n",
       "</style>\n",
       "<small>shape: (3, 5)</small><table border=\"1\" class=\"dataframe\"><thead><tr><th>ITEM_ID</th><th>DATE_ISSUED_YEAR</th><th>TITLE</th><th>OWNING_COLLECTION</th><th>OWNING_COLLECTION_DES</th></tr><tr><td>i64</td><td>i64</td><td>str</td><td>i64</td><td>str</td></tr></thead><tbody><tr><td>813996</td><td>2023</td><td>&quot;Rare predicted loss-of-function variants of type I IFN immunity genes are associated with life-threa…</td><td>null</td><td>null</td></tr><tr><td>843497</td><td>2024</td><td>&quot;Quantifying Generalizations: Exploring the Divide Between Human and LLMs&#x27; Sensitivity to Quantificat…</td><td>null</td><td>null</td></tr><tr><td>718686</td><td>9999</td><td>&quot;Culture, Fashion, and Society Notebook&quot;</td><td>null</td><td>null</td></tr></tbody></table></div>"
      ],
      "text/plain": [
       "shape: (3, 5)\n",
       "┌─────────┬──────────────────┬─────────────────────────┬───────────────────┬───────────────────────┐\n",
       "│ ITEM_ID ┆ DATE_ISSUED_YEAR ┆ TITLE                   ┆ OWNING_COLLECTION ┆ OWNING_COLLECTION_DES │\n",
       "│ ---     ┆ ---              ┆ ---                     ┆ ---               ┆ ---                   │\n",
       "│ i64     ┆ i64              ┆ str                     ┆ i64               ┆ str                   │\n",
       "╞═════════╪══════════════════╪═════════════════════════╪═══════════════════╪═══════════════════════╡\n",
       "│ 813996  ┆ 2023             ┆ Rare predicted          ┆ null              ┆ null                  │\n",
       "│         ┆                  ┆ loss-of-function        ┆                   ┆                       │\n",
       "│         ┆                  ┆ variants of type I IFN  ┆                   ┆                       │\n",
       "│         ┆                  ┆ immunity genes are      ┆                   ┆                       │\n",
       "│         ┆                  ┆ associated with         ┆                   ┆                       │\n",
       "│         ┆                  ┆ life-threa…             ┆                   ┆                       │\n",
       "│ 843497  ┆ 2024             ┆ Quantifying             ┆ null              ┆ null                  │\n",
       "│         ┆                  ┆ Generalizations:        ┆                   ┆                       │\n",
       "│         ┆                  ┆ Exploring the Divide    ┆                   ┆                       │\n",
       "│         ┆                  ┆ Between Human and LLMs' ┆                   ┆                       │\n",
       "│         ┆                  ┆ Sensitivity to          ┆                   ┆                       │\n",
       "│         ┆                  ┆ Quantificat…            ┆                   ┆                       │\n",
       "│ 718686  ┆ 9999             ┆ Culture, Fashion, and   ┆ null              ┆ null                  │\n",
       "│         ┆                  ┆ Society Notebook        ┆                   ┆                       │\n",
       "└─────────┴──────────────────┴─────────────────────────┴───────────────────┴───────────────────────┘"
      ]
     },
     "execution_count": 8,
     "metadata": {},
     "output_type": "execute_result"
    }
   ],
   "source": [
    "df_iris_master.filter(pl.col('OWNING_COLLECTION').is_null())"
   ]
  },
  {
   "cell_type": "markdown",
   "metadata": {},
   "source": [
    "## Extract the list of PIDs"
   ]
  },
  {
   "cell_type": "markdown",
   "metadata": {},
   "source": [
    "We extract a list of all the PIDs for each entry of the filtered IRIS dataframe by extracting the values of the columns `IDE_DOI`, `IDE_ISBN`, and `IDE_PMID`. These ids are normalized and the rotten ones are filtered out. Finally, they are all stored in a single list that we'll use to filter the Meta dump."
   ]
  },
  {
   "cell_type": "code",
   "execution_count": 9,
   "metadata": {},
   "outputs": [
    {
     "name": "stdout",
     "output_type": "stream",
     "text": [
      "Final DOIs count: 183908. Removed 238 DOIs without a valid DOI.\n"
     ]
    }
   ],
   "source": [
    "dois = df_filtered.select('ITEM_ID', 'IDE_DOI', 'OWNING_COLLECTION').drop_nulls('IDE_DOI')\n",
    "\n",
    "filtered_dois = (\n",
    "    dois\n",
    "    .with_columns(('doi:'+pl.col('IDE_DOI').str.extract(r'(10\\.\\d{4,}\\/[^,\\s;]*)').str.to_lowercase()).alias('id'))\n",
    "    .drop_nulls('id')\n",
    "    .drop('IDE_DOI')\n",
    "    .rename({'ITEM_ID': 'iris_id'})\n",
    ")\n",
    "\n",
    "print(f'Final DOIs count: {filtered_dois.shape[0]}. Removed {dois.shape[0] - filtered_dois.shape[0]} DOIs without a valid DOI.')"
   ]
  },
  {
   "cell_type": "code",
   "execution_count": 10,
   "metadata": {},
   "outputs": [
    {
     "name": "stdout",
     "output_type": "stream",
     "text": [
      "Final PMIDs count: 59815. Removed 6 PMIDs without a valid PMID.\n"
     ]
    }
   ],
   "source": [
    "pmids = df_filtered.select('ITEM_ID', 'IDE_PMID', 'OWNING_COLLECTION').drop_nulls('IDE_PMID')\n",
    "\n",
    "filtered_pmids = (\n",
    "    pmids\n",
    "    .filter(\n",
    "        ~pl.col('IDE_PMID').str.contains('PMC')\n",
    "        )\n",
    "    .with_columns(('pmid:'+pl.col('IDE_PMID').str.extract(r'0*([1-9][0-9]{1,8})', 1).str.to_lowercase()).alias('id'))\n",
    "    .drop_nulls('id')\n",
    "    .drop('IDE_PMID')\n",
    "    .rename({'ITEM_ID': 'iris_id'})\n",
    ")\n",
    "\n",
    "print(f'Final PMIDs count: {filtered_pmids.shape[0]}. Removed {pmids.shape[0] - filtered_pmids.shape[0]} PMIDs without a valid PMID.')"
   ]
  },
  {
   "cell_type": "code",
   "execution_count": 11,
   "metadata": {},
   "outputs": [
    {
     "name": "stdout",
     "output_type": "stream",
     "text": [
      "Final ISBNs count: 42849. Removed 50644 ISBNs without a valid ISBN.\n"
     ]
    }
   ],
   "source": [
    "isbns = df_filtered.select('ITEM_ID', 'IDE_ISBN', 'OWNING_COLLECTION').drop_nulls('IDE_ISBN')\n",
    "\n",
    "filtered_isbns = (\n",
    "    isbns\n",
    "    .with_columns(\n",
    "        ('isbn:'+pl.col('IDE_ISBN').str.extract_all(r'(ISBN[-]*(1[03])*[ ]*(: ){0,1})*(([0-9Xx][- ]*){13}|([0-9Xx][- ]*){10})').list.first().str.replace_all(r'[- ]', '').str.to_lowercase()).alias('id')\n",
    "    )\n",
    "    .drop_nulls('id')\n",
    "    .drop('IDE_ISBN')\n",
    "    .rename({'ITEM_ID': 'iris_id'})\n",
    ")\n",
    "\n",
    "print(f'Final ISBNs count: {filtered_isbns.shape[0]}. Removed {isbns.shape[0] - filtered_isbns.shape[0]} ISBNs without a valid ISBN.')"
   ]
  },
  {
   "cell_type": "code",
   "execution_count": 12,
   "metadata": {},
   "outputs": [
    {
     "name": "stdout",
     "output_type": "stream",
     "text": [
      "number of total PIDs: 286572\n"
     ]
    },
    {
     "data": {
      "text/html": [
       "<div><style>\n",
       ".dataframe > thead > tr,\n",
       ".dataframe > tbody > tr {\n",
       "  text-align: right;\n",
       "  white-space: pre-wrap;\n",
       "}\n",
       "</style>\n",
       "<small>shape: (5, 3)</small><table border=\"1\" class=\"dataframe\"><thead><tr><th>iris_id</th><th>iris_type</th><th>id</th></tr><tr><td>i64</td><td>i64</td><td>str</td></tr></thead><tbody><tr><td>70006</td><td>35</td><td>&quot;doi:10.1441/13328&quot;</td></tr><tr><td>73478</td><td>35</td><td>&quot;doi:10.2110/palo.2005.p05-020r&quot;</td></tr><tr><td>157248</td><td>35</td><td>&quot;doi:10.1007/jhep07(2012)133&quot;</td></tr><tr><td>155300</td><td>40</td><td>&quot;doi:10.1016/s0021-9290(12)70228-2&quot;</td></tr><tr><td>156226</td><td>35</td><td>&quot;doi:10.1016/j.compstruct.2011.10.026&quot;</td></tr></tbody></table></div>"
      ],
      "text/plain": [
       "shape: (5, 3)\n",
       "┌─────────┬───────────┬──────────────────────────────────────┐\n",
       "│ iris_id ┆ iris_type ┆ id                                   │\n",
       "│ ---     ┆ ---       ┆ ---                                  │\n",
       "│ i64     ┆ i64       ┆ str                                  │\n",
       "╞═════════╪═══════════╪══════════════════════════════════════╡\n",
       "│ 70006   ┆ 35        ┆ doi:10.1441/13328                    │\n",
       "│ 73478   ┆ 35        ┆ doi:10.2110/palo.2005.p05-020r       │\n",
       "│ 157248  ┆ 35        ┆ doi:10.1007/jhep07(2012)133          │\n",
       "│ 155300  ┆ 40        ┆ doi:10.1016/s0021-9290(12)70228-2    │\n",
       "│ 156226  ┆ 35        ┆ doi:10.1016/j.compstruct.2011.10.026 │\n",
       "└─────────┴───────────┴──────────────────────────────────────┘"
      ]
     },
     "execution_count": 12,
     "metadata": {},
     "output_type": "execute_result"
    }
   ],
   "source": [
    "dois_pmids_isbns_list = pl.concat([filtered_dois, filtered_pmids, filtered_isbns]).rename({'OWNING_COLLECTION': 'iris_type'})\n",
    "\n",
    "print('number of total PIDs:', len(dois_pmids_isbns_list))\n",
    "dois_pmids_isbns_list.head()"
   ]
  },
  {
   "cell_type": "code",
   "execution_count": 13,
   "metadata": {},
   "outputs": [
    {
     "data": {
      "text/html": [
       "<div><style>\n",
       ".dataframe > thead > tr,\n",
       ".dataframe > tbody > tr {\n",
       "  text-align: right;\n",
       "  white-space: pre-wrap;\n",
       "}\n",
       "</style>\n",
       "<small>shape: (0, 3)</small><table border=\"1\" class=\"dataframe\"><thead><tr><th>iris_id</th><th>iris_type</th><th>id</th></tr><tr><td>i64</td><td>i64</td><td>str</td></tr></thead><tbody></tbody></table></div>"
      ],
      "text/plain": [
       "shape: (0, 3)\n",
       "┌─────────┬───────────┬─────┐\n",
       "│ iris_id ┆ iris_type ┆ id  │\n",
       "│ ---     ┆ ---       ┆ --- │\n",
       "│ i64     ┆ i64       ┆ str │\n",
       "╞═════════╪═══════════╪═════╡\n",
       "└─────────┴───────────┴─────┘"
      ]
     },
     "execution_count": 13,
     "metadata": {},
     "output_type": "execute_result"
    }
   ],
   "source": [
    "dois_pmids_isbns_list.filter(pl.col('id').is_null())"
   ]
  },
  {
   "cell_type": "code",
   "execution_count": 14,
   "metadata": {},
   "outputs": [
    {
     "data": {
      "text/html": [
       "<div><style>\n",
       ".dataframe > thead > tr,\n",
       ".dataframe > tbody > tr {\n",
       "  text-align: right;\n",
       "  white-space: pre-wrap;\n",
       "}\n",
       "</style>\n",
       "<small>shape: (3, 2)</small><table border=\"1\" class=\"dataframe\"><thead><tr><th>id</th><th>count</th></tr><tr><td>str</td><td>u32</td></tr></thead><tbody><tr><td>&quot;isbn&quot;</td><td>42849</td></tr><tr><td>&quot;pmid&quot;</td><td>59815</td></tr><tr><td>&quot;doi:&quot;</td><td>183908</td></tr></tbody></table></div>"
      ],
      "text/plain": [
       "shape: (3, 2)\n",
       "┌──────┬────────┐\n",
       "│ id   ┆ count  │\n",
       "│ ---  ┆ ---    │\n",
       "│ str  ┆ u32    │\n",
       "╞══════╪════════╡\n",
       "│ isbn ┆ 42849  │\n",
       "│ pmid ┆ 59815  │\n",
       "│ doi: ┆ 183908 │\n",
       "└──────┴────────┘"
      ]
     },
     "execution_count": 14,
     "metadata": {},
     "output_type": "execute_result"
    }
   ],
   "source": [
    "dois_pmids_isbns_list.group_by(pl.col('id').str.slice(0, 4)).agg(pl.count('id').alias('count')).sort('count').head()"
   ]
  },
  {
   "cell_type": "markdown",
   "metadata": {},
   "source": [
    "#### Examples of invalid PIDs"
   ]
  },
  {
   "cell_type": "code",
   "execution_count": 15,
   "metadata": {},
   "outputs": [
    {
     "data": {
      "text/html": [
       "<div><style>\n",
       ".dataframe > thead > tr,\n",
       ".dataframe > tbody > tr {\n",
       "  text-align: right;\n",
       "  white-space: pre-wrap;\n",
       "}\n",
       "</style>\n",
       "<small>shape: (5, 3)</small><table border=\"1\" class=\"dataframe\"><thead><tr><th>ITEM_ID</th><th>IDE_ISBN</th><th>OWNING_COLLECTION</th></tr><tr><td>i64</td><td>str</td><td>i64</td></tr></thead><tbody><tr><td>77859</td><td>&quot;9,78888E+12&quot;</td><td>57</td></tr><tr><td>157294</td><td>&quot;9,78275E+12&quot;</td><td>61</td></tr><tr><td>157237</td><td>&quot;9,78888E+12&quot;</td><td>57</td></tr><tr><td>156509</td><td>&quot;9,78162E+12&quot;</td><td>59</td></tr><tr><td>156810</td><td>&quot;9,78888E+12&quot;</td><td>41</td></tr></tbody></table></div>"
      ],
      "text/plain": [
       "shape: (5, 3)\n",
       "┌─────────┬─────────────┬───────────────────┐\n",
       "│ ITEM_ID ┆ IDE_ISBN    ┆ OWNING_COLLECTION │\n",
       "│ ---     ┆ ---         ┆ ---               │\n",
       "│ i64     ┆ str         ┆ i64               │\n",
       "╞═════════╪═════════════╪═══════════════════╡\n",
       "│ 77859   ┆ 9,78888E+12 ┆ 57                │\n",
       "│ 157294  ┆ 9,78275E+12 ┆ 61                │\n",
       "│ 157237  ┆ 9,78888E+12 ┆ 57                │\n",
       "│ 156509  ┆ 9,78162E+12 ┆ 59                │\n",
       "│ 156810  ┆ 9,78888E+12 ┆ 41                │\n",
       "└─────────┴─────────────┴───────────────────┘"
      ]
     },
     "execution_count": 15,
     "metadata": {},
     "output_type": "execute_result"
    }
   ],
   "source": [
    "# find dois that contain uppercase letters\n",
    "isbns.filter(pl.col('IDE_ISBN').str.contains(r'[A-Z]')).head()"
   ]
  },
  {
   "cell_type": "code",
   "execution_count": 16,
   "metadata": {},
   "outputs": [
    {
     "data": {
      "text/html": [
       "<div><style>\n",
       ".dataframe > thead > tr,\n",
       ".dataframe > tbody > tr {\n",
       "  text-align: right;\n",
       "  white-space: pre-wrap;\n",
       "}\n",
       "</style>\n",
       "<small>shape: (2, 3)</small><table border=\"1\" class=\"dataframe\"><thead><tr><th>iris_id</th><th>OWNING_COLLECTION</th><th>id</th></tr><tr><td>i64</td><td>i64</td><td>str</td></tr></thead><tbody><tr><td>55139</td><td>49</td><td>&quot;isbn:888809556x&quot;</td></tr><tr><td>79343</td><td>49</td><td>&quot;isbn:888809556x&quot;</td></tr></tbody></table></div>"
      ],
      "text/plain": [
       "shape: (2, 3)\n",
       "┌─────────┬───────────────────┬─────────────────┐\n",
       "│ iris_id ┆ OWNING_COLLECTION ┆ id              │\n",
       "│ ---     ┆ ---               ┆ ---             │\n",
       "│ i64     ┆ i64               ┆ str             │\n",
       "╞═════════╪═══════════════════╪═════════════════╡\n",
       "│ 55139   ┆ 49                ┆ isbn:888809556x │\n",
       "│ 79343   ┆ 49                ┆ isbn:888809556x │\n",
       "└─────────┴───────────────────┴─────────────────┘"
      ]
     },
     "execution_count": 16,
     "metadata": {},
     "output_type": "execute_result"
    }
   ],
   "source": [
    "filtered_isbns.filter(pl.col('id').str.contains(r'888809556x')).head()"
   ]
  },
  {
   "cell_type": "code",
   "execution_count": 17,
   "metadata": {},
   "outputs": [
    {
     "data": {
      "text/html": [
       "<div><style>\n",
       ".dataframe > thead > tr,\n",
       ".dataframe > tbody > tr {\n",
       "  text-align: right;\n",
       "  white-space: pre-wrap;\n",
       "}\n",
       "</style>\n",
       "<small>shape: (238, 3)</small><table border=\"1\" class=\"dataframe\"><thead><tr><th>ITEM_ID</th><th>IDE_DOI</th><th>OWNING_COLLECTION</th></tr><tr><td>i64</td><td>str</td><td>i64</td></tr></thead><tbody><tr><td>8576</td><td>&quot;WOS:000340333900012&quot;</td><td>35</td></tr><tr><td>192899</td><td>&quot;10.193/infdis/jiu617&quot;</td><td>35</td></tr><tr><td>174463</td><td>&quot;10.746/-fei-XI-02-13_11&quot;</td><td>35</td></tr><tr><td>176326</td><td>&quot;10.978.886760/1448&quot;</td><td>41</td></tr><tr><td>178153</td><td>&quot;10.978.886633/1223&quot;</td><td>50</td></tr><tr><td>&hellip;</td><td>&hellip;</td><td>&hellip;</td></tr><tr><td>8575</td><td>&quot;WOS:000335369200043&quot;</td><td>35</td></tr><tr><td>8579</td><td>&quot;2,99749E+11&quot;</td><td>35</td></tr><tr><td>10144</td><td>&quot;10.978.88490/03376&quot;</td><td>41</td></tr><tr><td>10211</td><td>&quot;p.2013.12.005&quot;</td><td>35</td></tr><tr><td>277688</td><td>&quot;101.016&quot;</td><td>35</td></tr></tbody></table></div>"
      ],
      "text/plain": [
       "shape: (238, 3)\n",
       "┌─────────┬─────────────────────────┬───────────────────┐\n",
       "│ ITEM_ID ┆ IDE_DOI                 ┆ OWNING_COLLECTION │\n",
       "│ ---     ┆ ---                     ┆ ---               │\n",
       "│ i64     ┆ str                     ┆ i64               │\n",
       "╞═════════╪═════════════════════════╪═══════════════════╡\n",
       "│ 8576    ┆ WOS:000340333900012     ┆ 35                │\n",
       "│ 192899  ┆ 10.193/infdis/jiu617    ┆ 35                │\n",
       "│ 174463  ┆ 10.746/-fei-XI-02-13_11 ┆ 35                │\n",
       "│ 176326  ┆ 10.978.886760/1448      ┆ 41                │\n",
       "│ 178153  ┆ 10.978.886633/1223      ┆ 50                │\n",
       "│ …       ┆ …                       ┆ …                 │\n",
       "│ 8575    ┆ WOS:000335369200043     ┆ 35                │\n",
       "│ 8579    ┆ 2,99749E+11             ┆ 35                │\n",
       "│ 10144   ┆ 10.978.88490/03376      ┆ 41                │\n",
       "│ 10211   ┆ p.2013.12.005           ┆ 35                │\n",
       "│ 277688  ┆ 101.016                 ┆ 35                │\n",
       "└─────────┴─────────────────────────┴───────────────────┘"
      ]
     },
     "execution_count": 17,
     "metadata": {},
     "output_type": "execute_result"
    }
   ],
   "source": [
    "# dois that got filtered out because invalid\n",
    "doi_anti = dois.join(filtered_dois, left_on='ITEM_ID', right_on='iris_id', how='anti')\n",
    "doi_anti"
   ]
  },
  {
   "cell_type": "code",
   "execution_count": 18,
   "metadata": {},
   "outputs": [
    {
     "data": {
      "text/html": [
       "<div><style>\n",
       ".dataframe > thead > tr,\n",
       ".dataframe > tbody > tr {\n",
       "  text-align: right;\n",
       "  white-space: pre-wrap;\n",
       "}\n",
       "</style>\n",
       "<small>shape: (6, 3)</small><table border=\"1\" class=\"dataframe\"><thead><tr><th>ITEM_ID</th><th>IDE_PMID</th><th>OWNING_COLLECTION</th></tr><tr><td>i64</td><td>str</td><td>i64</td></tr></thead><tbody><tr><td>554064</td><td>&quot;PMC7261988&quot;</td><td>35</td></tr><tr><td>516464</td><td>&quot;PMC7372170&quot;</td><td>35</td></tr><tr><td>369655</td><td>&quot;PMC6186108&quot;</td><td>35</td></tr><tr><td>153706</td><td>&quot;PMC 4874964&quot;</td><td>35</td></tr><tr><td>380644</td><td>&quot;PMC2206475&quot;</td><td>38</td></tr><tr><td>926697</td><td>&quot;4&quot;</td><td>35</td></tr></tbody></table></div>"
      ],
      "text/plain": [
       "shape: (6, 3)\n",
       "┌─────────┬─────────────┬───────────────────┐\n",
       "│ ITEM_ID ┆ IDE_PMID    ┆ OWNING_COLLECTION │\n",
       "│ ---     ┆ ---         ┆ ---               │\n",
       "│ i64     ┆ str         ┆ i64               │\n",
       "╞═════════╪═════════════╪═══════════════════╡\n",
       "│ 554064  ┆ PMC7261988  ┆ 35                │\n",
       "│ 516464  ┆ PMC7372170  ┆ 35                │\n",
       "│ 369655  ┆ PMC6186108  ┆ 35                │\n",
       "│ 153706  ┆ PMC 4874964 ┆ 35                │\n",
       "│ 380644  ┆ PMC2206475  ┆ 38                │\n",
       "│ 926697  ┆ 4           ┆ 35                │\n",
       "└─────────┴─────────────┴───────────────────┘"
      ]
     },
     "execution_count": 18,
     "metadata": {},
     "output_type": "execute_result"
    }
   ],
   "source": [
    "pmid_anti = pmids.join(filtered_pmids, left_on='ITEM_ID', right_on='iris_id', how='anti')\n",
    "pmid_anti"
   ]
  },
  {
   "cell_type": "code",
   "execution_count": 19,
   "metadata": {},
   "outputs": [
    {
     "data": {
      "text/html": [
       "<div><style>\n",
       ".dataframe > thead > tr,\n",
       ".dataframe > tbody > tr {\n",
       "  text-align: right;\n",
       "  white-space: pre-wrap;\n",
       "}\n",
       "</style>\n",
       "<small>shape: (50_644, 3)</small><table border=\"1\" class=\"dataframe\"><thead><tr><th>ITEM_ID</th><th>IDE_ISBN</th><th>OWNING_COLLECTION</th></tr><tr><td>i64</td><td>str</td><td>i64</td></tr></thead><tbody><tr><td>82956</td><td>&quot;88.387.3686.3; 88.387.3687.1&quot;</td><td>57</td></tr><tr><td>77859</td><td>&quot;9,78888E+12&quot;</td><td>57</td></tr><tr><td>157294</td><td>&quot;9,78275E+12&quot;</td><td>61</td></tr><tr><td>157237</td><td>&quot;9,78888E+12&quot;</td><td>57</td></tr><tr><td>156509</td><td>&quot;9,78162E+12&quot;</td><td>59</td></tr><tr><td>&hellip;</td><td>&hellip;</td><td>&hellip;</td></tr><tr><td>940793</td><td>&quot;9,78889E+12&quot;</td><td>49</td></tr><tr><td>940799</td><td>&quot;9,78291E+12&quot;</td><td>47</td></tr><tr><td>940804</td><td>&quot;9,78291E+12&quot;</td><td>47</td></tr><tr><td>941422</td><td>&quot;9,78887E+12&quot;</td><td>41</td></tr><tr><td>941592</td><td>&quot;9,78889E+12&quot;</td><td>41</td></tr></tbody></table></div>"
      ],
      "text/plain": [
       "shape: (50_644, 3)\n",
       "┌─────────┬──────────────────────────────┬───────────────────┐\n",
       "│ ITEM_ID ┆ IDE_ISBN                     ┆ OWNING_COLLECTION │\n",
       "│ ---     ┆ ---                          ┆ ---               │\n",
       "│ i64     ┆ str                          ┆ i64               │\n",
       "╞═════════╪══════════════════════════════╪═══════════════════╡\n",
       "│ 82956   ┆ 88.387.3686.3; 88.387.3687.1 ┆ 57                │\n",
       "│ 77859   ┆ 9,78888E+12                  ┆ 57                │\n",
       "│ 157294  ┆ 9,78275E+12                  ┆ 61                │\n",
       "│ 157237  ┆ 9,78888E+12                  ┆ 57                │\n",
       "│ 156509  ┆ 9,78162E+12                  ┆ 59                │\n",
       "│ …       ┆ …                            ┆ …                 │\n",
       "│ 940793  ┆ 9,78889E+12                  ┆ 49                │\n",
       "│ 940799  ┆ 9,78291E+12                  ┆ 47                │\n",
       "│ 940804  ┆ 9,78291E+12                  ┆ 47                │\n",
       "│ 941422  ┆ 9,78887E+12                  ┆ 41                │\n",
       "│ 941592  ┆ 9,78889E+12                  ┆ 41                │\n",
       "└─────────┴──────────────────────────────┴───────────────────┘"
      ]
     },
     "execution_count": 19,
     "metadata": {},
     "output_type": "execute_result"
    }
   ],
   "source": [
    "isbn_anti = isbns.join(filtered_isbns, left_on='ITEM_ID', right_on='iris_id', how='anti')\n",
    "isbn_anti"
   ]
  },
  {
   "cell_type": "markdown",
   "metadata": {},
   "source": [
    "---"
   ]
  },
  {
   "cell_type": "markdown",
   "metadata": {},
   "source": [
    "## Deduplication"
   ]
  },
  {
   "cell_type": "markdown",
   "metadata": {},
   "source": [
    "We now have a list of PIDs. However, we have lots of duplicates in the list, both from the iris dataset (e.g. an iris BR has multiple PIDs) and from the external ids (multiple iris BRs that share the same PID).\n",
    "\n",
    "Let's deal with the former case first:"
   ]
  },
  {
   "cell_type": "markdown",
   "metadata": {},
   "source": [
    "### 1. Deduplication of iris BRs\n",
    "\n",
    "Our aim is to keep only a single PID for each iris BR. We will keep the DOI if it exists, otherwise the PMID, and finally the ISBN."
   ]
  },
  {
   "cell_type": "code",
   "execution_count": 20,
   "metadata": {},
   "outputs": [
    {
     "data": {
      "text/html": [
       "<div><style>\n",
       ".dataframe > thead > tr,\n",
       ".dataframe > tbody > tr {\n",
       "  text-align: right;\n",
       "  white-space: pre-wrap;\n",
       "}\n",
       "</style>\n",
       "<small>shape: (1, 1)</small><table border=\"1\" class=\"dataframe\"><thead><tr><th>len</th></tr><tr><td>u32</td></tr></thead><tbody><tr><td>136636</td></tr></tbody></table></div>"
      ],
      "text/plain": [
       "shape: (1, 1)\n",
       "┌────────┐\n",
       "│ len    │\n",
       "│ ---    │\n",
       "│ u32    │\n",
       "╞════════╡\n",
       "│ 136636 │\n",
       "└────────┘"
      ]
     },
     "execution_count": 20,
     "metadata": {},
     "output_type": "execute_result"
    }
   ],
   "source": [
    "# number of BRs with multiple types of PIDs in the list\n",
    "dois_pmids_isbns_list.filter(pl.col('iris_id').is_duplicated()).select(pl.len())"
   ]
  },
  {
   "cell_type": "code",
   "execution_count": 21,
   "metadata": {},
   "outputs": [
    {
     "data": {
      "text/html": [
       "<div><style>\n",
       ".dataframe > thead > tr,\n",
       ".dataframe > tbody > tr {\n",
       "  text-align: right;\n",
       "  white-space: pre-wrap;\n",
       "}\n",
       "</style>\n",
       "<small>shape: (2, 3)</small><table border=\"1\" class=\"dataframe\"><thead><tr><th>iris_id</th><th>iris_type</th><th>id</th></tr><tr><td>i64</td><td>i64</td><td>str</td></tr></thead><tbody><tr><td>360</td><td>41</td><td>&quot;doi:10.1007/0-387-30394-4_33&quot;</td></tr><tr><td>360</td><td>41</td><td>&quot;isbn:0387298118&quot;</td></tr></tbody></table></div>"
      ],
      "text/plain": [
       "shape: (2, 3)\n",
       "┌─────────┬───────────┬──────────────────────────────┐\n",
       "│ iris_id ┆ iris_type ┆ id                           │\n",
       "│ ---     ┆ ---       ┆ ---                          │\n",
       "│ i64     ┆ i64       ┆ str                          │\n",
       "╞═════════╪═══════════╪══════════════════════════════╡\n",
       "│ 360     ┆ 41        ┆ doi:10.1007/0-387-30394-4_33 │\n",
       "│ 360     ┆ 41        ┆ isbn:0387298118              │\n",
       "└─────────┴───────────┴──────────────────────────────┘"
      ]
     },
     "execution_count": 21,
     "metadata": {},
     "output_type": "execute_result"
    }
   ],
   "source": [
    "# example:\n",
    "\n",
    "# take a look at the BR from IRIS with ID 360\n",
    "dois_pmids_isbns_list.filter(pl.col('iris_id').is_duplicated()).filter(pl.col('iris_id') == 360).sort('iris_id')"
   ]
  },
  {
   "cell_type": "code",
   "execution_count": 22,
   "metadata": {},
   "outputs": [
    {
     "data": {
      "text/html": [
       "<div><style>\n",
       ".dataframe > thead > tr,\n",
       ".dataframe > tbody > tr {\n",
       "  text-align: right;\n",
       "  white-space: pre-wrap;\n",
       "}\n",
       "</style>\n",
       "<small>shape: (1, 5)</small><table border=\"1\" class=\"dataframe\"><thead><tr><th>ITEM_ID</th><th>IDE_DOI</th><th>IDE_ISBN</th><th>IDE_PMID</th><th>OWNING_COLLECTION</th></tr><tr><td>i64</td><td>str</td><td>str</td><td>str</td><td>i64</td></tr></thead><tbody><tr><td>360</td><td>&quot;10.1007/0-387-30394-4_33&quot;</td><td>&quot;0-387-29811-8&quot;</td><td>null</td><td>41</td></tr></tbody></table></div>"
      ],
      "text/plain": [
       "shape: (1, 5)\n",
       "┌─────────┬──────────────────────────┬───────────────┬──────────┬───────────────────┐\n",
       "│ ITEM_ID ┆ IDE_DOI                  ┆ IDE_ISBN      ┆ IDE_PMID ┆ OWNING_COLLECTION │\n",
       "│ ---     ┆ ---                      ┆ ---           ┆ ---      ┆ ---               │\n",
       "│ i64     ┆ str                      ┆ str           ┆ str      ┆ i64               │\n",
       "╞═════════╪══════════════════════════╪═══════════════╪══════════╪═══════════════════╡\n",
       "│ 360     ┆ 10.1007/0-387-30394-4_33 ┆ 0-387-29811-8 ┆ null     ┆ 41                │\n",
       "└─────────┴──────────────────────────┴───────────────┴──────────┴───────────────────┘"
      ]
     },
     "execution_count": 22,
     "metadata": {},
     "output_type": "execute_result"
    }
   ],
   "source": [
    "# both the DOI and ISBN have been extracted from the BR, so it appears twice in the list of PIDs\n",
    "df_filtered.filter(pl.col('ITEM_ID') == 360)"
   ]
  },
  {
   "cell_type": "code",
   "execution_count": 23,
   "metadata": {},
   "outputs": [
    {
     "name": "stdout",
     "output_type": "stream",
     "text": [
      "We found 68247 iris entries that are tied to more than one external identifier\n"
     ]
    },
    {
     "data": {
      "text/html": [
       "<div><style>\n",
       ".dataframe > thead > tr,\n",
       ".dataframe > tbody > tr {\n",
       "  text-align: right;\n",
       "  white-space: pre-wrap;\n",
       "}\n",
       "</style>\n",
       "<small>shape: (2, 2)</small><table border=\"1\" class=\"dataframe\"><thead><tr><th># of dupes</th><th># of ids</th></tr><tr><td>u32</td><td>u32</td></tr></thead><tbody><tr><td>2</td><td>68105</td></tr><tr><td>3</td><td>142</td></tr></tbody></table></div>"
      ],
      "text/plain": [
       "shape: (2, 2)\n",
       "┌────────────┬──────────┐\n",
       "│ # of dupes ┆ # of ids │\n",
       "│ ---        ┆ ---      │\n",
       "│ u32        ┆ u32      │\n",
       "╞════════════╪══════════╡\n",
       "│ 2          ┆ 68105    │\n",
       "│ 3          ┆ 142      │\n",
       "└────────────┴──────────┘"
      ]
     },
     "execution_count": 23,
     "metadata": {},
     "output_type": "execute_result"
    }
   ],
   "source": [
    "dpi_dupes_iris = dois_pmids_isbns_list.filter(pl.col(\"iris_id\").is_duplicated()).sort(\"iris_id\").with_columns(pl.col('iris_type'))#.replace_strict(type_dict))\n",
    "dpi_dupes_iris_grouped = (dpi_dupes_iris.group_by('iris_id').len().sort('len'))\n",
    "print('We found', dpi_dupes_iris_grouped.select(pl.len()).item(), 'iris entries that are tied to more than one external identifier')\n",
    "dpi_dupes_iris_grouped.select(pl.col('len').value_counts()).unnest('len').rename({'len': '# of dupes', 'count': '# of ids'})"
   ]
  },
  {
   "cell_type": "markdown",
   "metadata": {},
   "source": [
    "The elements that share the same iris ID all have the same type, so there's no need to create heuristics to decide which one to keep:\n"
   ]
  },
  {
   "cell_type": "code",
   "execution_count": 24,
   "metadata": {},
   "outputs": [
    {
     "data": {
      "text/html": [
       "<div><style>\n",
       ".dataframe > thead > tr,\n",
       ".dataframe > tbody > tr {\n",
       "  text-align: right;\n",
       "  white-space: pre-wrap;\n",
       "}\n",
       "</style>\n",
       "<small>shape: (0, 2)</small><table border=\"1\" class=\"dataframe\"><thead><tr><th>iris_id</th><th>unique_count</th></tr><tr><td>i64</td><td>u32</td></tr></thead><tbody></tbody></table></div>"
      ],
      "text/plain": [
       "shape: (0, 2)\n",
       "┌─────────┬──────────────┐\n",
       "│ iris_id ┆ unique_count │\n",
       "│ ---     ┆ ---          │\n",
       "│ i64     ┆ u32          │\n",
       "╞═════════╪══════════════╡\n",
       "└─────────┴──────────────┘"
      ]
     },
     "execution_count": 24,
     "metadata": {},
     "output_type": "execute_result"
    }
   ],
   "source": [
    "same_type = dpi_dupes_iris.group_by(\"iris_id\").agg([\n",
    "    pl.col(\"iris_type\").n_unique().alias(\"unique_count\")\n",
    "])\n",
    "different_types = same_type.filter(pl.col(\"unique_count\") != 1)\n",
    "different_types"
   ]
  },
  {
   "cell_type": "markdown",
   "metadata": {},
   "source": [
    "To resolve this issue, we keep only the first occurrence of each external id in the list. Given how the list has been constructed, this creates a hierarchical order of preference for the external ids: DOI > PMID > ISBN."
   ]
  },
  {
   "cell_type": "code",
   "execution_count": 25,
   "metadata": {},
   "outputs": [
    {
     "name": "stdout",
     "output_type": "stream",
     "text": [
      "num. of ids: 286572\n",
      "num. of ids after unique id filtering: 218183\n"
     ]
    }
   ],
   "source": [
    "print('num. of ids:', dois_pmids_isbns_list.__len__())\n",
    "dois_pmids_isbns_filtered = dois_pmids_isbns_list.unique('iris_id', keep='first', maintain_order=True)\n",
    "print('num. of ids after unique id filtering:', dois_pmids_isbns_filtered.__len__())"
   ]
  },
  {
   "cell_type": "code",
   "execution_count": 26,
   "metadata": {},
   "outputs": [
    {
     "data": {
      "text/html": [
       "<div><style>\n",
       ".dataframe > thead > tr,\n",
       ".dataframe > tbody > tr {\n",
       "  text-align: right;\n",
       "  white-space: pre-wrap;\n",
       "}\n",
       "</style>\n",
       "<small>shape: (3, 2)</small><table border=\"1\" class=\"dataframe\"><thead><tr><th>id</th><th>len</th></tr><tr><td>str</td><td>u32</td></tr></thead><tbody><tr><td>&quot;doi:&quot;</td><td>183908</td></tr><tr><td>&quot;isbn&quot;</td><td>32034</td></tr><tr><td>&quot;pmid&quot;</td><td>2241</td></tr></tbody></table></div>"
      ],
      "text/plain": [
       "shape: (3, 2)\n",
       "┌──────┬────────┐\n",
       "│ id   ┆ len    │\n",
       "│ ---  ┆ ---    │\n",
       "│ str  ┆ u32    │\n",
       "╞══════╪════════╡\n",
       "│ doi: ┆ 183908 │\n",
       "│ isbn ┆ 32034  │\n",
       "│ pmid ┆ 2241   │\n",
       "└──────┴────────┘"
      ]
     },
     "execution_count": 26,
     "metadata": {},
     "output_type": "execute_result"
    }
   ],
   "source": [
    "dois_pmids_isbns_filtered.group_by(pl.col('id').str.slice(0, 4)).agg(\n",
    "    pl.len()\n",
    ").sort('len', descending=True)"
   ]
  },
  {
   "cell_type": "markdown",
   "metadata": {},
   "source": [
    "### 2. filter out multiple iris entries with the same external id\n",
    "\n",
    "Let's now deal with the duplicates from the external ids:"
   ]
  },
  {
   "cell_type": "code",
   "execution_count": 27,
   "metadata": {},
   "outputs": [
    {
     "name": "stdout",
     "output_type": "stream",
     "text": [
      "21351 unique PIDs\n"
     ]
    },
    {
     "data": {
      "text/html": [
       "<div><style>\n",
       ".dataframe > thead > tr,\n",
       ".dataframe > tbody > tr {\n",
       "  text-align: right;\n",
       "  white-space: pre-wrap;\n",
       "}\n",
       "</style>\n",
       "<small>shape: (56_543, 3)</small><table border=\"1\" class=\"dataframe\"><thead><tr><th>iris_id</th><th>iris_type</th><th>id</th></tr><tr><td>i64</td><td>i64</td><td>str</td></tr></thead><tbody><tr><td>779900</td><td>35</td><td>&quot;doi:10.1001/archderm.130.4.522&quot;</td></tr><tr><td>780022</td><td>35</td><td>&quot;doi:10.1001/archderm.130.4.522&quot;</td></tr><tr><td>853731</td><td>35</td><td>&quot;doi:10.1001/archderm.130.4.522&quot;</td></tr><tr><td>779923</td><td>35</td><td>&quot;doi:10.1001/archderm.132.2.231&quot;</td></tr><tr><td>780060</td><td>35</td><td>&quot;doi:10.1001/archderm.132.2.231&quot;</td></tr><tr><td>&hellip;</td><td>&hellip;</td><td>&hellip;</td></tr><tr><td>735599</td><td>35</td><td>&quot;pmid:7692192&quot;</td></tr><tr><td>734698</td><td>35</td><td>&quot;pmid:7692192&quot;</td></tr><tr><td>733789</td><td>35</td><td>&quot;pmid:7692192&quot;</td></tr><tr><td>774883</td><td>35</td><td>&quot;pmid:9276009&quot;</td></tr><tr><td>650493</td><td>35</td><td>&quot;pmid:9276009&quot;</td></tr></tbody></table></div>"
      ],
      "text/plain": [
       "shape: (56_543, 3)\n",
       "┌─────────┬───────────┬────────────────────────────────┐\n",
       "│ iris_id ┆ iris_type ┆ id                             │\n",
       "│ ---     ┆ ---       ┆ ---                            │\n",
       "│ i64     ┆ i64       ┆ str                            │\n",
       "╞═════════╪═══════════╪════════════════════════════════╡\n",
       "│ 779900  ┆ 35        ┆ doi:10.1001/archderm.130.4.522 │\n",
       "│ 780022  ┆ 35        ┆ doi:10.1001/archderm.130.4.522 │\n",
       "│ 853731  ┆ 35        ┆ doi:10.1001/archderm.130.4.522 │\n",
       "│ 779923  ┆ 35        ┆ doi:10.1001/archderm.132.2.231 │\n",
       "│ 780060  ┆ 35        ┆ doi:10.1001/archderm.132.2.231 │\n",
       "│ …       ┆ …         ┆ …                              │\n",
       "│ 735599  ┆ 35        ┆ pmid:7692192                   │\n",
       "│ 734698  ┆ 35        ┆ pmid:7692192                   │\n",
       "│ 733789  ┆ 35        ┆ pmid:7692192                   │\n",
       "│ 774883  ┆ 35        ┆ pmid:9276009                   │\n",
       "│ 650493  ┆ 35        ┆ pmid:9276009                   │\n",
       "└─────────┴───────────┴────────────────────────────────┘"
      ]
     },
     "execution_count": 27,
     "metadata": {},
     "output_type": "execute_result"
    }
   ],
   "source": [
    "#examples:\n",
    "\n",
    "pids_dupes_df = dois_pmids_isbns_filtered.filter(pl.col(\"id\").is_duplicated()).sort(\"id\").with_columns(pl.col('iris_type'))#.replace(type_dict))\n",
    "print(pids_dupes_df.n_unique('id'), 'unique PIDs')\n",
    "pids_dupes_df\n",
    "\n",
    "# as you can see, the same PIDs are associated to different IRIS BRs"
   ]
  },
  {
   "cell_type": "code",
   "execution_count": 28,
   "metadata": {},
   "outputs": [
    {
     "name": "stdout",
     "output_type": "stream",
     "text": [
      "We found 56543 external ids that are tied to more than one iris entry\n",
      "\n",
      "The external identifiers appear with the following distribution:\n"
     ]
    },
    {
     "data": {
      "text/html": [
       "<div><style>\n",
       ".dataframe > thead > tr,\n",
       ".dataframe > tbody > tr {\n",
       "  text-align: right;\n",
       "  white-space: pre-wrap;\n",
       "}\n",
       "</style>\n",
       "<small>shape: (34, 2)</small><table border=\"1\" class=\"dataframe\"><thead><tr><th># of dupes</th><th># of ext. ids</th></tr><tr><td>u32</td><td>u32</td></tr></thead><tbody><tr><td>2</td><td>15409</td></tr><tr><td>3</td><td>2936</td></tr><tr><td>4</td><td>1169</td></tr><tr><td>5</td><td>1060</td></tr><tr><td>6</td><td>267</td></tr><tr><td>&hellip;</td><td>&hellip;</td></tr><tr><td>50</td><td>1</td></tr><tr><td>51</td><td>1</td></tr><tr><td>59</td><td>1</td></tr><tr><td>66</td><td>1</td></tr><tr><td>129</td><td>1</td></tr></tbody></table></div>"
      ],
      "text/plain": [
       "shape: (34, 2)\n",
       "┌────────────┬───────────────┐\n",
       "│ # of dupes ┆ # of ext. ids │\n",
       "│ ---        ┆ ---           │\n",
       "│ u32        ┆ u32           │\n",
       "╞════════════╪═══════════════╡\n",
       "│ 2          ┆ 15409         │\n",
       "│ 3          ┆ 2936          │\n",
       "│ 4          ┆ 1169          │\n",
       "│ 5          ┆ 1060          │\n",
       "│ 6          ┆ 267           │\n",
       "│ …          ┆ …             │\n",
       "│ 50         ┆ 1             │\n",
       "│ 51         ┆ 1             │\n",
       "│ 59         ┆ 1             │\n",
       "│ 66         ┆ 1             │\n",
       "│ 129        ┆ 1             │\n",
       "└────────────┴───────────────┘"
      ]
     },
     "execution_count": 28,
     "metadata": {},
     "output_type": "execute_result"
    }
   ],
   "source": [
    "pids_dupes_df_grouped = (pids_dupes_df.group_by('id').len().sort('len'))\n",
    "print('We found', pids_dupes_df.select(pl.col('iris_id').unique().len()).item(), 'external ids that are tied to more than one iris entry')\n",
    "print()\n",
    "print('The external identifiers appear with the following distribution:')\n",
    "pids_dupes_df_grouped.select(pl.col('len').value_counts()).unnest('len').rename({'len': '# of dupes', 'count': '# of ext. ids'})"
   ]
  },
  {
   "cell_type": "markdown",
   "metadata": {},
   "source": [
    "As you can see from the table above, the majority of the external id duplicates are pairs, but we have cases in which the same external id is shared by up to 129 iris entries!! \n",
    "\n",
    "The vast majority of the duplicates seem to be coming from the ISBNs:"
   ]
  },
  {
   "cell_type": "code",
   "execution_count": 29,
   "metadata": {},
   "outputs": [
    {
     "data": {
      "text/html": [
       "<div><style>\n",
       ".dataframe > thead > tr,\n",
       ".dataframe > tbody > tr {\n",
       "  text-align: right;\n",
       "  white-space: pre-wrap;\n",
       "}\n",
       "</style>\n",
       "<small>shape: (3, 2)</small><table border=\"1\" class=\"dataframe\"><thead><tr><th>id type</th><th># of ext. ids</th></tr><tr><td>str</td><td>u32</td></tr></thead><tbody><tr><td>&quot;doi&quot;</td><td>16049</td></tr><tr><td>&quot;isbn&quot;</td><td>5191</td></tr><tr><td>&quot;pmid&quot;</td><td>111</td></tr></tbody></table></div>"
      ],
      "text/plain": [
       "shape: (3, 2)\n",
       "┌─────────┬───────────────┐\n",
       "│ id type ┆ # of ext. ids │\n",
       "│ ---     ┆ ---           │\n",
       "│ str     ┆ u32           │\n",
       "╞═════════╪═══════════════╡\n",
       "│ doi     ┆ 16049         │\n",
       "│ isbn    ┆ 5191          │\n",
       "│ pmid    ┆ 111           │\n",
       "└─────────┴───────────────┘"
      ]
     },
     "execution_count": 29,
     "metadata": {},
     "output_type": "execute_result"
    }
   ],
   "source": [
    "pids_dupes_df_grouped.with_columns(pl.col('id').str.extract(r'^(doi|pmid|isbn)').alias('id_type')).select(pl.col('id_type').value_counts()).unnest('id_type').sort('id_type', descending=False).rename({'id_type': 'id type', 'count': '# of ext. ids'})\n",
    "#dpi_dupes_id_grouped"
   ]
  },
  {
   "cell_type": "code",
   "execution_count": 30,
   "metadata": {},
   "outputs": [
    {
     "data": {
      "text/html": [
       "<div><style>\n",
       ".dataframe > thead > tr,\n",
       ".dataframe > tbody > tr {\n",
       "  text-align: right;\n",
       "  white-space: pre-wrap;\n",
       "}\n",
       "</style>\n",
       "<small>shape: (3, 2)</small><table border=\"1\" class=\"dataframe\"><thead><tr><th>id type</th><th># of duplicate ext. ids</th></tr><tr><td>str</td><td>u32</td></tr></thead><tbody><tr><td>&quot;isbn&quot;</td><td>17583</td></tr><tr><td>&quot;doi&quot;</td><td>38729</td></tr><tr><td>&quot;pmid&quot;</td><td>231</td></tr></tbody></table></div>"
      ],
      "text/plain": [
       "shape: (3, 2)\n",
       "┌─────────┬─────────────────────────┐\n",
       "│ id type ┆ # of duplicate ext. ids │\n",
       "│ ---     ┆ ---                     │\n",
       "│ str     ┆ u32                     │\n",
       "╞═════════╪═════════════════════════╡\n",
       "│ isbn    ┆ 17583                   │\n",
       "│ doi     ┆ 38729                   │\n",
       "│ pmid    ┆ 231                     │\n",
       "└─────────┴─────────────────────────┘"
      ]
     },
     "execution_count": 30,
     "metadata": {},
     "output_type": "execute_result"
    }
   ],
   "source": [
    "pids_dupes_df.with_columns(pl.col('id').str.extract(r'^(doi|pmid|isbn)').alias('id_type')).select(pl.col('id_type').value_counts()).unnest('id_type').rename({'id_type': 'id type', 'count': '# of duplicate ext. ids'})"
   ]
  },
  {
   "cell_type": "markdown",
   "metadata": {},
   "source": [
    "We deal with deduplicating the three different types of id in three different ways:"
   ]
  },
  {
   "cell_type": "markdown",
   "metadata": {},
   "source": [
    "##### DOI deduplication"
   ]
  },
  {
   "cell_type": "code",
   "execution_count": 31,
   "metadata": {},
   "outputs": [
    {
     "name": "stdout",
     "output_type": "stream",
     "text": [
      "38729\n"
     ]
    },
    {
     "data": {
      "text/html": [
       "<div><style>\n",
       ".dataframe > thead > tr,\n",
       ".dataframe > tbody > tr {\n",
       "  text-align: right;\n",
       "  white-space: pre-wrap;\n",
       "}\n",
       "</style>\n",
       "<small>shape: (38_729, 3)</small><table border=\"1\" class=\"dataframe\"><thead><tr><th>iris_id</th><th>iris_type</th><th>id</th></tr><tr><td>i64</td><td>i64</td><td>str</td></tr></thead><tbody><tr><td>779900</td><td>35</td><td>&quot;doi:10.1001/archderm.130.4.522&quot;</td></tr><tr><td>780022</td><td>35</td><td>&quot;doi:10.1001/archderm.130.4.522&quot;</td></tr><tr><td>853731</td><td>35</td><td>&quot;doi:10.1001/archderm.130.4.522&quot;</td></tr><tr><td>779923</td><td>35</td><td>&quot;doi:10.1001/archderm.132.2.231&quot;</td></tr><tr><td>780060</td><td>35</td><td>&quot;doi:10.1001/archderm.132.2.231&quot;</td></tr><tr><td>&hellip;</td><td>&hellip;</td><td>&hellip;</td></tr><tr><td>809529</td><td>35</td><td>&quot;doi:10.7759/cureus.34804&quot;</td></tr><tr><td>6884</td><td>57</td><td>&quot;doi:10.7873/date.2014.155&quot;</td></tr><tr><td>7042</td><td>57</td><td>&quot;doi:10.7873/date.2014.155&quot;</td></tr><tr><td>542790</td><td>35</td><td>&quot;doi:10.9758/cpn.2020.18.4.484&quot;</td></tr><tr><td>621324</td><td>35</td><td>&quot;doi:10.9758/cpn.2020.18.4.484&quot;</td></tr></tbody></table></div>"
      ],
      "text/plain": [
       "shape: (38_729, 3)\n",
       "┌─────────┬───────────┬────────────────────────────────┐\n",
       "│ iris_id ┆ iris_type ┆ id                             │\n",
       "│ ---     ┆ ---       ┆ ---                            │\n",
       "│ i64     ┆ i64       ┆ str                            │\n",
       "╞═════════╪═══════════╪════════════════════════════════╡\n",
       "│ 779900  ┆ 35        ┆ doi:10.1001/archderm.130.4.522 │\n",
       "│ 780022  ┆ 35        ┆ doi:10.1001/archderm.130.4.522 │\n",
       "│ 853731  ┆ 35        ┆ doi:10.1001/archderm.130.4.522 │\n",
       "│ 779923  ┆ 35        ┆ doi:10.1001/archderm.132.2.231 │\n",
       "│ 780060  ┆ 35        ┆ doi:10.1001/archderm.132.2.231 │\n",
       "│ …       ┆ …         ┆ …                              │\n",
       "│ 809529  ┆ 35        ┆ doi:10.7759/cureus.34804       │\n",
       "│ 6884    ┆ 57        ┆ doi:10.7873/date.2014.155      │\n",
       "│ 7042    ┆ 57        ┆ doi:10.7873/date.2014.155      │\n",
       "│ 542790  ┆ 35        ┆ doi:10.9758/cpn.2020.18.4.484  │\n",
       "│ 621324  ┆ 35        ┆ doi:10.9758/cpn.2020.18.4.484  │\n",
       "└─────────┴───────────┴────────────────────────────────┘"
      ]
     },
     "execution_count": 31,
     "metadata": {},
     "output_type": "execute_result"
    }
   ],
   "source": [
    "doi_dupes_df = pids_dupes_df.filter(pl.col('id').str.starts_with('doi:'))\n",
    "print(doi_dupes_df.__len__())\n",
    "doi_dupes_df\n",
    "#doi_metadata_search = df.join(doi_dupes_df, left_on='ITEM_ID', right_on='iris_id').join(df_iris_description, on='ITEM_ID', how='inner').join(df_iris_relation, on='ITEM_ID', how='inner').join(df_iris_publisher, on='ITEM_ID', how='inner')"
   ]
  },
  {
   "cell_type": "markdown",
   "metadata": {},
   "source": [
    "For what concernes duplicates with the same type, we keep only the first one encountered."
   ]
  },
  {
   "cell_type": "code",
   "execution_count": 32,
   "metadata": {},
   "outputs": [
    {
     "name": "stdout",
     "output_type": "stream",
     "text": [
      "2521 duplicates remanining; 1234 unique ids\n"
     ]
    }
   ],
   "source": [
    "keep_doi = doi_dupes_df.unique(['iris_type', 'id'], keep='first', maintain_order=True)\n",
    "print(keep_doi.filter(pl.col('id').is_duplicated()).__len__(), 'duplicates remanining;', keep_doi.filter(pl.col('id').is_duplicated()).n_unique('id'), 'unique ids')"
   ]
  },
  {
   "cell_type": "markdown",
   "metadata": {},
   "source": [
    "This leaves 140 duplicate elements (291 entities) with different types. Among each of these we try to pick what we consider the 'container' element by sorting each group of duplicates based on a priority mapping of the types of the elements as described in the IRIS dataset and finally picking the first one. \n",
    "\n",
    "We don't need to specify a priority for each and every type present in the dataset, as per our observations the most common source of problems are the ones tied to a restricted set of types.\n",
    "These problems are also often not coherent among the dataset, so finding a container for each of them is not really feasible. In the harder cases we just keep the first one encountered."
   ]
  },
  {
   "cell_type": "code",
   "execution_count": 33,
   "metadata": {},
   "outputs": [
    {
     "name": "stdout",
     "output_type": "stream",
     "text": [
      "number of doi duplicates remaining:  0\n"
     ]
    }
   ],
   "source": [
    "def doi_heuristic(group):\n",
    "    priority = {\n",
    "        35: 1, 50: 2, 41: 3, 57: 4\n",
    "    }\n",
    "\n",
    "    sorted_iris_types = group.sort(pl.col(\"iris_type\").replace_strict(priority, default=float('inf')))\n",
    "    return sorted_iris_types.head(1)\n",
    "\n",
    "keep_doi = keep_doi.group_by(\"id\").map_groups(doi_heuristic)\n",
    "print('number of doi duplicates remaining: ', keep_doi.filter(pl.col('id').is_duplicated()).__len__())"
   ]
  },
  {
   "cell_type": "code",
   "execution_count": 34,
   "metadata": {},
   "outputs": [],
   "source": [
    "doi_dupes_list = doi_dupes_df.select('iris_id')\n",
    "drop_doi = doi_dupes_list.join(keep_doi, on='iris_id', how='anti')"
   ]
  },
  {
   "cell_type": "markdown",
   "metadata": {},
   "source": [
    "Finally, we remove the dupicates DOIs from the original list of external ids."
   ]
  },
  {
   "cell_type": "code",
   "execution_count": 35,
   "metadata": {},
   "outputs": [
    {
     "data": {
      "text/plain": [
       "195503"
      ]
     },
     "execution_count": 35,
     "metadata": {},
     "output_type": "execute_result"
    }
   ],
   "source": [
    "dois_pmids_isbns_filtered = dois_pmids_isbns_filtered.join(drop_doi, on='iris_id', how='anti')\n",
    "dois_pmids_isbns_filtered.__len__()"
   ]
  },
  {
   "cell_type": "markdown",
   "metadata": {},
   "source": [
    "#### PMID deduplication"
   ]
  },
  {
   "cell_type": "code",
   "execution_count": 36,
   "metadata": {},
   "outputs": [
    {
     "data": {
      "text/html": [
       "<div><style>\n",
       ".dataframe > thead > tr,\n",
       ".dataframe > tbody > tr {\n",
       "  text-align: right;\n",
       "  white-space: pre-wrap;\n",
       "}\n",
       "</style>\n",
       "<small>shape: (231, 3)</small><table border=\"1\" class=\"dataframe\"><thead><tr><th>iris_id</th><th>iris_type</th><th>id</th></tr><tr><td>i64</td><td>i64</td><td>str</td></tr></thead><tbody><tr><td>811923</td><td>35</td><td>&quot;pmid:10&quot;</td></tr><tr><td>679280</td><td>35</td><td>&quot;pmid:10&quot;</td></tr><tr><td>923510</td><td>35</td><td>&quot;pmid:10&quot;</td></tr><tr><td>936383</td><td>35</td><td>&quot;pmid:10&quot;</td></tr><tr><td>728542</td><td>35</td><td>&quot;pmid:14524611&quot;</td></tr><tr><td>&hellip;</td><td>&hellip;</td><td>&hellip;</td></tr><tr><td>735599</td><td>35</td><td>&quot;pmid:7692192&quot;</td></tr><tr><td>734698</td><td>35</td><td>&quot;pmid:7692192&quot;</td></tr><tr><td>733789</td><td>35</td><td>&quot;pmid:7692192&quot;</td></tr><tr><td>774883</td><td>35</td><td>&quot;pmid:9276009&quot;</td></tr><tr><td>650493</td><td>35</td><td>&quot;pmid:9276009&quot;</td></tr></tbody></table></div>"
      ],
      "text/plain": [
       "shape: (231, 3)\n",
       "┌─────────┬───────────┬───────────────┐\n",
       "│ iris_id ┆ iris_type ┆ id            │\n",
       "│ ---     ┆ ---       ┆ ---           │\n",
       "│ i64     ┆ i64       ┆ str           │\n",
       "╞═════════╪═══════════╪═══════════════╡\n",
       "│ 811923  ┆ 35        ┆ pmid:10       │\n",
       "│ 679280  ┆ 35        ┆ pmid:10       │\n",
       "│ 923510  ┆ 35        ┆ pmid:10       │\n",
       "│ 936383  ┆ 35        ┆ pmid:10       │\n",
       "│ 728542  ┆ 35        ┆ pmid:14524611 │\n",
       "│ …       ┆ …         ┆ …             │\n",
       "│ 735599  ┆ 35        ┆ pmid:7692192  │\n",
       "│ 734698  ┆ 35        ┆ pmid:7692192  │\n",
       "│ 733789  ┆ 35        ┆ pmid:7692192  │\n",
       "│ 774883  ┆ 35        ┆ pmid:9276009  │\n",
       "│ 650493  ┆ 35        ┆ pmid:9276009  │\n",
       "└─────────┴───────────┴───────────────┘"
      ]
     },
     "execution_count": 36,
     "metadata": {},
     "output_type": "execute_result"
    }
   ],
   "source": [
    "pmid_dupes_df = pids_dupes_df.filter(pl.col('id').str.starts_with('pmid:'))\n",
    "pmid_dupes_df"
   ]
  },
  {
   "cell_type": "code",
   "execution_count": 37,
   "metadata": {},
   "outputs": [
    {
     "data": {
      "text/html": [
       "<div><style>\n",
       ".dataframe > thead > tr,\n",
       ".dataframe > tbody > tr {\n",
       "  text-align: right;\n",
       "  white-space: pre-wrap;\n",
       "}\n",
       "</style>\n",
       "<small>shape: (4, 2)</small><table border=\"1\" class=\"dataframe\"><thead><tr><th>iris_type</th><th>len</th></tr><tr><td>i64</td><td>u32</td></tr></thead><tbody><tr><td>35</td><td>218</td></tr><tr><td>40</td><td>7</td></tr><tr><td>57</td><td>2</td></tr><tr><td>38</td><td>4</td></tr></tbody></table></div>"
      ],
      "text/plain": [
       "shape: (4, 2)\n",
       "┌───────────┬─────┐\n",
       "│ iris_type ┆ len │\n",
       "│ ---       ┆ --- │\n",
       "│ i64       ┆ u32 │\n",
       "╞═══════════╪═════╡\n",
       "│ 35        ┆ 218 │\n",
       "│ 40        ┆ 7   │\n",
       "│ 57        ┆ 2   │\n",
       "│ 38        ┆ 4   │\n",
       "└───────────┴─────┘"
      ]
     },
     "execution_count": 37,
     "metadata": {},
     "output_type": "execute_result"
    }
   ],
   "source": [
    "pmid_dupes_df.group_by('iris_type').agg(pl.len())"
   ]
  },
  {
   "cell_type": "code",
   "execution_count": 38,
   "metadata": {},
   "outputs": [
    {
     "data": {
      "text/html": [
       "<div><style>\n",
       ".dataframe > thead > tr,\n",
       ".dataframe > tbody > tr {\n",
       "  text-align: right;\n",
       "  white-space: pre-wrap;\n",
       "}\n",
       "</style>\n",
       "<small>shape: (6, 3)</small><table border=\"1\" class=\"dataframe\"><thead><tr><th>id</th><th>len</th><th>iris_type</th></tr><tr><td>str</td><td>u32</td><td>list[i64]</td></tr></thead><tbody><tr><td>&quot;pmid:21341571&quot;</td><td>2</td><td>[35, 57]</td></tr><tr><td>&quot;pmid:23749883&quot;</td><td>2</td><td>[35, 38]</td></tr><tr><td>&quot;pmid:15614151&quot;</td><td>2</td><td>[35, 38]</td></tr><tr><td>&quot;pmid:21273609&quot;</td><td>2</td><td>[35, 40]</td></tr><tr><td>&quot;pmid:16437895&quot;</td><td>2</td><td>[35, 40]</td></tr><tr><td>&quot;pmid:18560115&quot;</td><td>2</td><td>[35, 57]</td></tr></tbody></table></div>"
      ],
      "text/plain": [
       "shape: (6, 3)\n",
       "┌───────────────┬─────┬───────────┐\n",
       "│ id            ┆ len ┆ iris_type │\n",
       "│ ---           ┆ --- ┆ ---       │\n",
       "│ str           ┆ u32 ┆ list[i64] │\n",
       "╞═══════════════╪═════╪═══════════╡\n",
       "│ pmid:21341571 ┆ 2   ┆ [35, 57]  │\n",
       "│ pmid:23749883 ┆ 2   ┆ [35, 38]  │\n",
       "│ pmid:15614151 ┆ 2   ┆ [35, 38]  │\n",
       "│ pmid:21273609 ┆ 2   ┆ [35, 40]  │\n",
       "│ pmid:16437895 ┆ 2   ┆ [35, 40]  │\n",
       "│ pmid:18560115 ┆ 2   ┆ [35, 57]  │\n",
       "└───────────────┴─────┴───────────┘"
      ]
     },
     "execution_count": 38,
     "metadata": {},
     "output_type": "execute_result"
    }
   ],
   "source": [
    "pmid_dupes_df.group_by(\n",
    "    'id').agg(\n",
    "        pl.len(),\n",
    "        pl.col('iris_type').unique()\n",
    "        ).sort('len', descending=True).filter(pl.col('iris_type').list.len() > 1)\n",
    "\n",
    "# articles (35) are in all ambiguous duplicates"
   ]
  },
  {
   "cell_type": "code",
   "execution_count": 40,
   "metadata": {},
   "outputs": [
    {
     "name": "stdout",
     "output_type": "stream",
     "text": [
      "231 duplicates remanining; 111 unique ids\n",
      "----\n",
      "12 duplicates remanining; 6 unique ids\n"
     ]
    }
   ],
   "source": [
    "print(pmid_dupes_df.filter(pl.col('id').is_duplicated()).__len__(), 'duplicates remanining;', pmid_dupes_df.filter(pl.col('id').is_duplicated()).n_unique('id'), 'unique ids')\n",
    "keep_pmid = pmid_dupes_df.unique(['iris_type', 'id'], keep='first', maintain_order=True)\n",
    "print('----')\n",
    "print(keep_pmid.filter(pl.col('id').is_duplicated()).__len__(), 'duplicates remanining;', keep_pmid.filter(pl.col('id').is_duplicated()).n_unique('id'), 'unique ids')"
   ]
  },
  {
   "cell_type": "code",
   "execution_count": 42,
   "metadata": {},
   "outputs": [
    {
     "name": "stdout",
     "output_type": "stream",
     "text": [
      "number of doi duplicates remaining:  0\n"
     ]
    }
   ],
   "source": [
    "def pmid_heuristic(group):\n",
    "    priority = {\n",
    "        35: 1\n",
    "    }\n",
    "\n",
    "    sorted_iris_types = group.sort(pl.col(\"iris_type\").replace_strict(priority, default=float('inf')))\n",
    "    return sorted_iris_types.head(1)\n",
    "\n",
    "keep_pmid = keep_pmid.group_by(\"id\").map_groups(pmid_heuristic)\n",
    "print('number of doi duplicates remaining: ', keep_pmid.filter(pl.col('id').is_duplicated()).__len__())"
   ]
  },
  {
   "cell_type": "code",
   "execution_count": 43,
   "metadata": {},
   "outputs": [],
   "source": [
    "pmid_dupes_list = pmid_dupes_df.select('iris_id')\n",
    "drop_pmid = pmid_dupes_list.join(keep_pmid, on='iris_id', how='anti')"
   ]
  },
  {
   "cell_type": "code",
   "execution_count": 44,
   "metadata": {},
   "outputs": [
    {
     "data": {
      "text/plain": [
       "195383"
      ]
     },
     "execution_count": 44,
     "metadata": {},
     "output_type": "execute_result"
    }
   ],
   "source": [
    "dois_pmids_isbns_filtered = dois_pmids_isbns_filtered.join(drop_pmid, on='iris_id', how='anti')\n",
    "dois_pmids_isbns_filtered.__len__()"
   ]
  },
  {
   "cell_type": "markdown",
   "metadata": {},
   "source": [
    "#### Deduplicate ISBN"
   ]
  },
  {
   "cell_type": "code",
   "execution_count": 240,
   "metadata": {},
   "outputs": [
    {
     "name": "stdout",
     "output_type": "stream",
     "text": [
      "17583 | unique isbns:  5191\n"
     ]
    }
   ],
   "source": [
    "isbn_dupes_df = pids_dupes_df.filter(pl.col('id').str.starts_with('isbn:'))\n",
    "print(isbn_dupes_df.__len__(), '| unique isbns: ', isbn_dupes_df.unique('id').__len__())\n",
    "\n",
    "#isbn_search = df.join(doi_dupes_df, left_on='ITEM_ID', right_on='iris_id').join(df_iris_description, on='ITEM_ID', how='inner').join(df_iris_relation, on='ITEM_ID', how='inner').join(df_iris_publisher, on='ITEM_ID', how='inner')\n",
    "\n",
    "#doi_search.sort('id').head(6)"
   ]
  },
  {
   "cell_type": "markdown",
   "metadata": {},
   "source": [
    "We keep only the first occurrence of the entries with the same external id and type:"
   ]
  },
  {
   "cell_type": "code",
   "execution_count": 246,
   "metadata": {},
   "outputs": [
    {
     "name": "stdout",
     "output_type": "stream",
     "text": [
      "the number of elements came down to 8326 but there are still 5693 duplicates\n"
     ]
    }
   ],
   "source": [
    "keep_isbn = isbn_dupes_df.unique(['iris_type', 'id'], keep='first', maintain_order=True)\n",
    "print('the number of elements came down to', keep_isbn.__len__(), 'but there are still', keep_isbn.filter(pl.col('id').is_duplicated()).__len__(), 'duplicates')"
   ]
  },
  {
   "cell_type": "markdown",
   "metadata": {},
   "source": [
    "And then we pick the entries that have the same external id but different types based on a priority list. (note that, if not specified in the priority list, the heuristic will only keep the top-most entry like it has found it in the df.)"
   ]
  },
  {
   "cell_type": "code",
   "execution_count": 244,
   "metadata": {},
   "outputs": [
    {
     "data": {
      "text/html": [
       "<div><style>\n",
       ".dataframe > thead > tr,\n",
       ".dataframe > tbody > tr {\n",
       "  text-align: right;\n",
       "  white-space: pre-wrap;\n",
       "}\n",
       "</style>\n",
       "<small>shape: (2_558, 3)</small><table border=\"1\" class=\"dataframe\"><thead><tr><th>id</th><th>len</th><th>iris_type</th></tr><tr><td>str</td><td>u32</td><td>list[i64]</td></tr></thead><tbody><tr><td>&quot;isbn:9788812000326&quot;</td><td>129</td><td>[45, 50]</td></tr><tr><td>&quot;isbn:8882947386&quot;</td><td>66</td><td>[41, 44]</td></tr><tr><td>&quot;isbn:8843030086&quot;</td><td>59</td><td>[45, 50]</td></tr><tr><td>&quot;isbn:8814124191&quot;</td><td>51</td><td>[41, 44, … 50]</td></tr><tr><td>&quot;isbn:881414799x&quot;</td><td>43</td><td>[41, 50]</td></tr><tr><td>&hellip;</td><td>&hellip;</td><td>&hellip;</td></tr><tr><td>&quot;isbn:8860260728&quot;</td><td>2</td><td>[50, 57]</td></tr><tr><td>&quot;isbn:9783110228823&quot;</td><td>2</td><td>[41, 50]</td></tr><tr><td>&quot;isbn:9788461736973&quot;</td><td>2</td><td>[57, 59]</td></tr><tr><td>&quot;isbn:9783631733493&quot;</td><td>2</td><td>[41, 50]</td></tr><tr><td>&quot;isbn:9788817157117&quot;</td><td>2</td><td>[42, 50]</td></tr></tbody></table></div>"
      ],
      "text/plain": [
       "shape: (2_558, 3)\n",
       "┌────────────────────┬─────┬────────────────┐\n",
       "│ id                 ┆ len ┆ iris_type      │\n",
       "│ ---                ┆ --- ┆ ---            │\n",
       "│ str                ┆ u32 ┆ list[i64]      │\n",
       "╞════════════════════╪═════╪════════════════╡\n",
       "│ isbn:9788812000326 ┆ 129 ┆ [45, 50]       │\n",
       "│ isbn:8882947386    ┆ 66  ┆ [41, 44]       │\n",
       "│ isbn:8843030086    ┆ 59  ┆ [45, 50]       │\n",
       "│ isbn:8814124191    ┆ 51  ┆ [41, 44, … 50] │\n",
       "│ isbn:881414799x    ┆ 43  ┆ [41, 50]       │\n",
       "│ …                  ┆ …   ┆ …              │\n",
       "│ isbn:8860260728    ┆ 2   ┆ [50, 57]       │\n",
       "│ isbn:9783110228823 ┆ 2   ┆ [41, 50]       │\n",
       "│ isbn:9788461736973 ┆ 2   ┆ [57, 59]       │\n",
       "│ isbn:9783631733493 ┆ 2   ┆ [41, 50]       │\n",
       "│ isbn:9788817157117 ┆ 2   ┆ [42, 50]       │\n",
       "└────────────────────┴─────┴────────────────┘"
      ]
     },
     "execution_count": 244,
     "metadata": {},
     "output_type": "execute_result"
    }
   ],
   "source": [
    "isbn_dupes_df.group_by(\n",
    "    'id').agg(\n",
    "        pl.len(),\n",
    "        pl.col('iris_type').unique()\n",
    ").sort('len', descending=True).filter(pl.col('iris_type').list.len() > 1)"
   ]
  },
  {
   "cell_type": "code",
   "execution_count": 248,
   "metadata": {},
   "outputs": [
    {
     "data": {
      "text/plain": [
       "(5191, 0)"
      ]
     },
     "execution_count": 248,
     "metadata": {},
     "output_type": "execute_result"
    }
   ],
   "source": [
    "def isbn_heuristic(group):\n",
    "    priority = {\n",
    "        49: 1, 35: 2\n",
    "    }\n",
    "\n",
    "    sorted_iris_types = group.sort(pl.col(\"iris_type\").replace_strict(priority, default=float('inf')))\n",
    "    return sorted_iris_types.head(1)\n",
    "\n",
    "keep_isbn = keep_isbn.group_by(\"id\").map_groups(isbn_heuristic)\n",
    "keep_isbn.__len__(), keep_isbn.filter(pl.col('id').is_duplicated()).__len__()"
   ]
  },
  {
   "cell_type": "code",
   "execution_count": 249,
   "metadata": {},
   "outputs": [],
   "source": [
    "isbn_dupes_list = isbn_dupes_df.select('iris_id')\n",
    "drop_isbn = isbn_dupes_list.join(keep_isbn, on='iris_id', how='anti')"
   ]
  },
  {
   "cell_type": "code",
   "execution_count": 250,
   "metadata": {},
   "outputs": [
    {
     "data": {
      "text/plain": [
       "182991"
      ]
     },
     "execution_count": 250,
     "metadata": {},
     "output_type": "execute_result"
    }
   ],
   "source": [
    "dois_pmids_isbns_filtered = dois_pmids_isbns_filtered.join(drop_isbn, on='iris_id', how='anti')\n",
    "dois_pmids_isbns_filtered.__len__()"
   ]
  },
  {
   "cell_type": "code",
   "execution_count": 252,
   "metadata": {},
   "outputs": [
    {
     "name": "stdout",
     "output_type": "stream",
     "text": [
      "number of duplicates ext. ids:  0\n"
     ]
    }
   ],
   "source": [
    "print('number of duplicates ext. ids: ', dois_pmids_isbns_filtered.filter(pl.col('id').is_duplicated()).__len__())"
   ]
  },
  {
   "cell_type": "markdown",
   "metadata": {},
   "source": [
    "## Create IIM"
   ]
  },
  {
   "cell_type": "markdown",
   "metadata": {},
   "source": [
    "Now that we have a clean, deduplicated list of external ids, we can filter the Meta dump to keep only the entries that have at least one of these external ids. We then save this filtered dataframe to a parquet file."
   ]
  },
  {
   "cell_type": "code",
   "execution_count": null,
   "metadata": {},
   "outputs": [],
   "source": [
    "meta_path = Path('../data/csv_openalex.zip')"
   ]
  },
  {
   "cell_type": "code",
   "execution_count": null,
   "metadata": {},
   "outputs": [
    {
     "data": {
      "text/html": [
       "<div><style>\n",
       ".dataframe > thead > tr,\n",
       ".dataframe > tbody > tr {\n",
       "  text-align: right;\n",
       "  white-space: pre-wrap;\n",
       "}\n",
       "</style>\n",
       "<small>shape: (169_685, 3)</small><table border=\"1\" class=\"dataframe\"><thead><tr><th>iris_id</th><th>iris_type</th><th>id</th></tr><tr><td>i64</td><td>i64</td><td>str</td></tr></thead><tbody><tr><td>156671</td><td>41</td><td>&quot;doi:10.1688/9783866187337&quot;</td></tr><tr><td>148354</td><td>35</td><td>&quot;doi:10.1007/s00180-012-0319-z&quot;</td></tr><tr><td>146851</td><td>35</td><td>&quot;doi:10.1002/cmdc.201100471&quot;</td></tr><tr><td>147819</td><td>35</td><td>&quot;doi:10.1097/gme.0b013e318240fe3d&quot;</td></tr><tr><td>148141</td><td>57</td><td>&quot;doi:10.1109/aero.2012.6187311&quot;</td></tr><tr><td>&hellip;</td><td>&hellip;</td><td>&hellip;</td></tr><tr><td>684265</td><td>41</td><td>&quot;isbn:9781138935709&quot;</td></tr><tr><td>666452</td><td>41</td><td>&quot;isbn:9782753512344&quot;</td></tr><tr><td>708637</td><td>49</td><td>&quot;isbn:9788857553696&quot;</td></tr><tr><td>708664</td><td>41</td><td>&quot;isbn:9788822910172&quot;</td></tr><tr><td>710572</td><td>57</td><td>&quot;isbn:9788887744965&quot;</td></tr></tbody></table></div>"
      ],
      "text/plain": [
       "shape: (169_685, 3)\n",
       "┌─────────┬───────────┬──────────────────────────────────┐\n",
       "│ iris_id ┆ iris_type ┆ id                               │\n",
       "│ ---     ┆ ---       ┆ ---                              │\n",
       "│ i64     ┆ i64       ┆ str                              │\n",
       "╞═════════╪═══════════╪══════════════════════════════════╡\n",
       "│ 156671  ┆ 41        ┆ doi:10.1688/9783866187337        │\n",
       "│ 148354  ┆ 35        ┆ doi:10.1007/s00180-012-0319-z    │\n",
       "│ 146851  ┆ 35        ┆ doi:10.1002/cmdc.201100471       │\n",
       "│ 147819  ┆ 35        ┆ doi:10.1097/gme.0b013e318240fe3d │\n",
       "│ 148141  ┆ 57        ┆ doi:10.1109/aero.2012.6187311    │\n",
       "│ …       ┆ …         ┆ …                                │\n",
       "│ 684265  ┆ 41        ┆ isbn:9781138935709               │\n",
       "│ 666452  ┆ 41        ┆ isbn:9782753512344               │\n",
       "│ 708637  ┆ 49        ┆ isbn:9788857553696               │\n",
       "│ 708664  ┆ 41        ┆ isbn:9788822910172               │\n",
       "│ 710572  ┆ 57        ┆ isbn:9788887744965               │\n",
       "└─────────┴───────────┴──────────────────────────────────┘"
      ]
     },
     "execution_count": 58,
     "metadata": {},
     "output_type": "execute_result"
    }
   ],
   "source": [
    "dois_pmids_isbns_filtered"
   ]
  },
  {
   "cell_type": "code",
   "execution_count": null,
   "metadata": {},
   "outputs": [
    {
     "data": {
      "application/vnd.jupyter.widget-view+json": {
       "model_id": "3fc8ed876e094185a4194f379fb73bc8",
       "version_major": 2,
       "version_minor": 0
      },
      "text/plain": [
       "Processing Meta CSV files:   0%|          | 0/28248 [00:00<?, ?it/s]"
      ]
     },
     "metadata": {},
     "output_type": "display_data"
    }
   ],
   "source": [
    "def process_meta_zip(zip_path):\n",
    "    zip_file = ZipFile(zip_path)\n",
    "    files_list = [zipfile for zipfile in zip_file.namelist() if zipfile.endswith('.csv')]\n",
    "    output_iim = Path(\"../data/iris_in_meta\")\n",
    "\n",
    "    #dois_pmids_isbns_lf = dois_pmids_isbns_list.lazy()\n",
    "    dois_pmids_isbns_lf = dois_pmids_isbns_filtered.lazy()\n",
    "\n",
    "    for csv_file in tqdm(files_list, desc=\"Processing Meta CSV files\"):\n",
    "        with zip_file.open(csv_file, 'r') as file:\n",
    "            # kudos to https://vdavez.com/2024/01/how-to-use-scan_csv-with-a-file-like-object-in-polars/\n",
    "            with tempfile.NamedTemporaryFile() as tf:\n",
    "                tf.write(file.read())\n",
    "                tf.seek(0)\n",
    "                os.makedirs(output_iim, exist_ok=True)\n",
    "                df = (\n",
    "                    pl.scan_csv(tf.name)\n",
    "                    .select(['id', 'title', 'type'])\n",
    "                    .with_columns(\n",
    "                        (pl.col('id').str.extract(r\"(omid:[^\\s]+)\")).alias('omid'),\n",
    "                        (pl.col('id').str.extract(r\"((?:doi):[^\\s\\\"]+)\")).alias('doi'),\n",
    "                        (pl.col('id').str.extract(r\"((?:pmid):[^\\s\\\"]+)\")).alias('pmid'),\n",
    "                        (pl.col('id').str.extract(r\"((?:isbn):[^\\s\\\"]+)\")).alias('isbn'),\n",
    "                    )\n",
    "                    .with_columns(\n",
    "                        pl.coalesce([pl.col('doi'), pl.col('pmid'), pl.col('isbn')]).alias('id')\n",
    "                    )\n",
    "                    .drop(['doi', 'pmid', 'isbn'])\n",
    "                    .drop_nulls('id')\n",
    "                    .join(dois_pmids_isbns_lf, on='id', how='inner')\n",
    "                    .collect(streaming=True)\n",
    "                )\n",
    "\n",
    "            if not df.is_empty():\n",
    "                df.write_parquet(os.path.join(output_iim, os.path.basename(csv_file).replace('.csv', '.parquet')))\n",
    "\n",
    "\n",
    "\n",
    "process_meta_zip(meta_path)"
   ]
  },
  {
   "cell_type": "markdown",
   "metadata": {},
   "source": [
    "---"
   ]
  },
  {
   "cell_type": "markdown",
   "metadata": {},
   "source": [
    "Analysing the Iris in Meta dataset, we see that another source of problems come from the Meta dataset itself, in which some of the entries have different OMID ids but share the same external id. Talking about this with pr. Peroni, we learned that this is in fact an issue in the Meta dump (that will be resolved in the near future)."
   ]
  },
  {
   "cell_type": "code",
   "execution_count": null,
   "metadata": {},
   "outputs": [
    {
     "data": {
      "text/html": [
       "<div><style>\n",
       ".dataframe > thead > tr,\n",
       ".dataframe > tbody > tr {\n",
       "  text-align: right;\n",
       "  white-space: pre-wrap;\n",
       "}\n",
       "</style>\n",
       "<small>shape: (1, 1)</small><table border=\"1\" class=\"dataframe\"><thead><tr><th>len</th></tr><tr><td>u32</td></tr></thead><tbody><tr><td>115083</td></tr></tbody></table></div>"
      ],
      "text/plain": [
       "shape: (1, 1)\n",
       "┌────────┐\n",
       "│ len    │\n",
       "│ ---    │\n",
       "│ u32    │\n",
       "╞════════╡\n",
       "│ 115083 │\n",
       "└────────┘"
      ]
     },
     "execution_count": 59,
     "metadata": {},
     "output_type": "execute_result"
    }
   ],
   "source": [
    "lf_iim = pl.scan_parquet('../data/iris_in_meta/*.parquet')\n",
    "\n",
    "lf_iim.select(pl.len()).collect()"
   ]
  },
  {
   "cell_type": "code",
   "execution_count": null,
   "metadata": {},
   "outputs": [
    {
     "data": {
      "text/html": [
       "<div><style>\n",
       ".dataframe > thead > tr,\n",
       ".dataframe > tbody > tr {\n",
       "  text-align: right;\n",
       "  white-space: pre-wrap;\n",
       "}\n",
       "</style>\n",
       "<small>shape: (0, 6)</small><table border=\"1\" class=\"dataframe\"><thead><tr><th>id</th><th>title</th><th>meta_type</th><th>omid</th><th>iris_id</th><th>iris_type</th></tr><tr><td>str</td><td>str</td><td>str</td><td>str</td><td>i64</td><td>str</td></tr></thead><tbody></tbody></table></div>"
      ],
      "text/plain": [
       "shape: (0, 6)\n",
       "┌─────┬───────┬───────────┬──────┬─────────┬───────────┐\n",
       "│ id  ┆ title ┆ meta_type ┆ omid ┆ iris_id ┆ iris_type │\n",
       "│ --- ┆ ---   ┆ ---       ┆ ---  ┆ ---     ┆ ---       │\n",
       "│ str ┆ str   ┆ str       ┆ str  ┆ i64     ┆ str       │\n",
       "╞═════╪═══════╪═══════════╪══════╪═════════╪═══════════╡\n",
       "└─────┴───────┴───────────┴──────┴─────────┴───────────┘"
      ]
     },
     "execution_count": 90,
     "metadata": {},
     "output_type": "execute_result"
    }
   ],
   "source": [
    "#example of duplicates\n",
    "lf_iim.filter(pl.col('id').str.contains('doi')).filter(pl.col('id').is_duplicated()).sort('id').head(6).collect(streaming=True)"
   ]
  },
  {
   "cell_type": "code",
   "execution_count": null,
   "metadata": {},
   "outputs": [],
   "source": [
    "lf_iim = lf_iim_test#.filter(pl.col('iris_id').is_duplicated()).sort('iris_id').collect()"
   ]
  },
  {
   "cell_type": "code",
   "execution_count": null,
   "metadata": {},
   "outputs": [
    {
     "data": {
      "text/html": [
       "<div><style>\n",
       ".dataframe > thead > tr,\n",
       ".dataframe > tbody > tr {\n",
       "  text-align: right;\n",
       "  white-space: pre-wrap;\n",
       "}\n",
       "</style>\n",
       "<small>shape: (3_122, 6)</small><table border=\"1\" class=\"dataframe\"><thead><tr><th>id</th><th>title</th><th>type</th><th>omid</th><th>iris_id</th><th>iris_type</th></tr><tr><td>str</td><td>str</td><td>str</td><td>str</td><td>i64</td><td>i64</td></tr></thead><tbody><tr><td>&quot;doi:10.1007/0-387-30394-4_33&quot;</td><td>&quot;The Teledoc2 Project: A Heterogeneous Infrastructure For International E-Learning&quot;</td><td>&quot;book chapter&quot;</td><td>&quot;omid:br/061503309586&quot;</td><td>360</td><td>41</td></tr><tr><td>&quot;isbn:0387298118&quot;</td><td>&quot;Distributed Cooperative Laboratories: Networking, Instrumentation, And Measurements&quot;</td><td>&quot;book&quot;</td><td>&quot;omid:br/061503310035&quot;</td><td>360</td><td>41</td></tr><tr><td>&quot;doi:10.1016/s0168-8278(10)61011-2&quot;</td><td>&quot;&quot;</td><td>&quot;&quot;</td><td>&quot;omid:br/06370122877&quot;</td><td>2538</td><td>58</td></tr><tr><td>&quot;doi:10.1016/s0168-8278(10)61011-2&quot;</td><td>&quot;1010 Optib – A Multicenter Prospective Open Label Study On Tenofovir (Tdf) For Chronic Hepatitis B P…</td><td>&quot;journal article&quot;</td><td>&quot;omid:br/06140390318&quot;</td><td>2538</td><td>58</td></tr><tr><td>&quot;doi:10.1016/s2213-2600(14)70153-5&quot;</td><td>&quot;Non-invasive Positive Pressure Ventilation For The Treatment Of Severe Stable Chronic Obstructive Pu…</td><td>&quot;journal article&quot;</td><td>&quot;omid:br/06804223745&quot;</td><td>6791</td><td>35</td></tr><tr><td>&hellip;</td><td>&hellip;</td><td>&hellip;</td><td>&hellip;</td><td>&hellip;</td><td>&hellip;</td></tr><tr><td>&quot;isbn:9783031358968&quot;</td><td>&quot;Lecture Notes In Computer Science&quot;</td><td>&quot;book&quot;</td><td>&quot;omid:br/06330138899&quot;</td><td>813390</td><td>57</td></tr><tr><td>&quot;doi:10.1007/978-3-031-12673-4_3&quot;</td><td>&quot;Foundation Models In Healthcare: Opportunities, Biases And Regulatory Prospects In Europe&quot;</td><td>&quot;book chapter&quot;</td><td>&quot;omid:br/06903455034&quot;</td><td>814439</td><td>57</td></tr><tr><td>&quot;isbn:9783031126727&quot;</td><td>&quot;Electronic Government And The Information Systems Perspective&quot;</td><td>&quot;book&quot;</td><td>&quot;omid:br/06903455338&quot;</td><td>814439</td><td>57</td></tr><tr><td>&quot;pmid:30575567&quot;</td><td>&quot;Psychometric Evaluation Of The Multidimensional Scale Of Perceived Social Support (MSPSS) In People …</td><td>&quot;journal article&quot;</td><td>&quot;omid:br/06903912416&quot;</td><td>816073</td><td>35</td></tr><tr><td>&quot;doi:10.4415/ann_18_04_07&quot;</td><td>&quot;&quot;</td><td>&quot;&quot;</td><td>&quot;omid:br/06303994050&quot;</td><td>816073</td><td>35</td></tr></tbody></table></div>"
      ],
      "text/plain": [
       "shape: (3_122, 6)\n",
       "┌───────────────────┬───────────────────┬─────────────────┬──────────────────┬─────────┬───────────┐\n",
       "│ id                ┆ title             ┆ type            ┆ omid             ┆ iris_id ┆ iris_type │\n",
       "│ ---               ┆ ---               ┆ ---             ┆ ---              ┆ ---     ┆ ---       │\n",
       "│ str               ┆ str               ┆ str             ┆ str              ┆ i64     ┆ i64       │\n",
       "╞═══════════════════╪═══════════════════╪═════════════════╪══════════════════╪═════════╪═══════════╡\n",
       "│ doi:10.1007/0-387 ┆ The Teledoc2      ┆ book chapter    ┆ omid:br/06150330 ┆ 360     ┆ 41        │\n",
       "│ -30394-4_33       ┆ Project: A        ┆                 ┆ 9586             ┆         ┆           │\n",
       "│                   ┆ Heterogeneous     ┆                 ┆                  ┆         ┆           │\n",
       "│                   ┆ Infrastructure    ┆                 ┆                  ┆         ┆           │\n",
       "│                   ┆ For International ┆                 ┆                  ┆         ┆           │\n",
       "│                   ┆ E-Learning        ┆                 ┆                  ┆         ┆           │\n",
       "│ isbn:0387298118   ┆ Distributed       ┆ book            ┆ omid:br/06150331 ┆ 360     ┆ 41        │\n",
       "│                   ┆ Cooperative       ┆                 ┆ 0035             ┆         ┆           │\n",
       "│                   ┆ Laboratories:     ┆                 ┆                  ┆         ┆           │\n",
       "│                   ┆ Networking,       ┆                 ┆                  ┆         ┆           │\n",
       "│                   ┆ Instrumentation,  ┆                 ┆                  ┆         ┆           │\n",
       "│                   ┆ And Measurements  ┆                 ┆                  ┆         ┆           │\n",
       "│ doi:10.1016/s0168 ┆                   ┆                 ┆ omid:br/06370122 ┆ 2538    ┆ 58        │\n",
       "│ -8278(10)61011-2  ┆                   ┆                 ┆ 877              ┆         ┆           │\n",
       "│ doi:10.1016/s0168 ┆ 1010 Optib – A    ┆ journal article ┆ omid:br/06140390 ┆ 2538    ┆ 58        │\n",
       "│ -8278(10)61011-2  ┆ Multicenter       ┆                 ┆ 318              ┆         ┆           │\n",
       "│                   ┆ Prospective Open  ┆                 ┆                  ┆         ┆           │\n",
       "│                   ┆ Label Study On    ┆                 ┆                  ┆         ┆           │\n",
       "│                   ┆ Tenofovir (Tdf)   ┆                 ┆                  ┆         ┆           │\n",
       "│                   ┆ For Chronic       ┆                 ┆                  ┆         ┆           │\n",
       "│                   ┆ Hepatitis B P…    ┆                 ┆                  ┆         ┆           │\n",
       "│ doi:10.1016/s2213 ┆ Non-invasive      ┆ journal article ┆ omid:br/06804223 ┆ 6791    ┆ 35        │\n",
       "│ -2600(14)70153-5  ┆ Positive Pressure ┆                 ┆ 745              ┆         ┆           │\n",
       "│                   ┆ Ventilation For   ┆                 ┆                  ┆         ┆           │\n",
       "│                   ┆ The Treatment Of  ┆                 ┆                  ┆         ┆           │\n",
       "│                   ┆ Severe Stable     ┆                 ┆                  ┆         ┆           │\n",
       "│                   ┆ Chronic           ┆                 ┆                  ┆         ┆           │\n",
       "│                   ┆ Obstructive Pu…   ┆                 ┆                  ┆         ┆           │\n",
       "│ …                 ┆ …                 ┆ …               ┆ …                ┆ …       ┆ …         │\n",
       "│ isbn:978303135896 ┆ Lecture Notes In  ┆ book            ┆ omid:br/06330138 ┆ 813390  ┆ 57        │\n",
       "│ 8                 ┆ Computer Science  ┆                 ┆ 899              ┆         ┆           │\n",
       "│ doi:10.1007/978-3 ┆ Foundation Models ┆ book chapter    ┆ omid:br/06903455 ┆ 814439  ┆ 57        │\n",
       "│ -031-12673-4_3    ┆ In Healthcare:    ┆                 ┆ 034              ┆         ┆           │\n",
       "│                   ┆ Opportunities,    ┆                 ┆                  ┆         ┆           │\n",
       "│                   ┆ Biases And        ┆                 ┆                  ┆         ┆           │\n",
       "│                   ┆ Regulatory        ┆                 ┆                  ┆         ┆           │\n",
       "│                   ┆ Prospects In      ┆                 ┆                  ┆         ┆           │\n",
       "│                   ┆ Europe            ┆                 ┆                  ┆         ┆           │\n",
       "│ isbn:978303112672 ┆ Electronic        ┆ book            ┆ omid:br/06903455 ┆ 814439  ┆ 57        │\n",
       "│ 7                 ┆ Government And    ┆                 ┆ 338              ┆         ┆           │\n",
       "│                   ┆ The Information   ┆                 ┆                  ┆         ┆           │\n",
       "│                   ┆ Systems           ┆                 ┆                  ┆         ┆           │\n",
       "│                   ┆ Perspective       ┆                 ┆                  ┆         ┆           │\n",
       "│ pmid:30575567     ┆ Psychometric      ┆ journal article ┆ omid:br/06903912 ┆ 816073  ┆ 35        │\n",
       "│                   ┆ Evaluation Of The ┆                 ┆ 416              ┆         ┆           │\n",
       "│                   ┆ Multidimensional  ┆                 ┆                  ┆         ┆           │\n",
       "│                   ┆ Scale Of          ┆                 ┆                  ┆         ┆           │\n",
       "│                   ┆ Perceived Social  ┆                 ┆                  ┆         ┆           │\n",
       "│                   ┆ Support (MSPSS)   ┆                 ┆                  ┆         ┆           │\n",
       "│                   ┆ In People …       ┆                 ┆                  ┆         ┆           │\n",
       "│ doi:10.4415/ann_1 ┆                   ┆                 ┆ omid:br/06303994 ┆ 816073  ┆ 35        │\n",
       "│ 8_04_07           ┆                   ┆                 ┆ 050              ┆         ┆           │\n",
       "└───────────────────┴───────────────────┴─────────────────┴──────────────────┴─────────┴───────────┘"
      ]
     },
     "execution_count": 38,
     "metadata": {},
     "output_type": "execute_result"
    }
   ],
   "source": [
    "lf_iim_test.filter(pl.col('iris_id').is_duplicated()).sort('iris_id').collect()"
   ]
  },
  {
   "cell_type": "code",
   "execution_count": null,
   "metadata": {},
   "outputs": [
    {
     "name": "stdout",
     "output_type": "stream",
     "text": [
      "2121 items are duplicates\n"
     ]
    }
   ],
   "source": [
    "print(lf_iim.filter(pl.col('id').is_duplicated()).select(pl.len()).collect(streaming=True).item(), 'items are duplicates')"
   ]
  },
  {
   "cell_type": "code",
   "execution_count": null,
   "metadata": {},
   "outputs": [
    {
     "data": {
      "text/html": [
       "<div><style>\n",
       ".dataframe > thead > tr,\n",
       ".dataframe > tbody > tr {\n",
       "  text-align: right;\n",
       "  white-space: pre-wrap;\n",
       "}\n",
       "</style>\n",
       "<small>shape: (5, 6)</small><table border=\"1\" class=\"dataframe\"><thead><tr><th>id</th><th>title</th><th>meta_type</th><th>omid</th><th>iris_id</th><th>iris_type</th></tr><tr><td>str</td><td>str</td><td>str</td><td>str</td><td>i64</td><td>str</td></tr></thead><tbody><tr><td>&quot;doi:10.1007/s10334-004-0090-4&quot;</td><td>&quot;Versatile Coil Design And Positioning Of Transverse-Field RF Surface Coils For Clinical 1.5-T MRI Ap…</td><td>&quot;journal article&quot;</td><td>&quot;omid:br/06101045684&quot;</td><td>64745</td><td>&quot;1.01 Articolo in rivista&quot;</td></tr><tr><td>&quot;doi:10.1136/archdischild-2017-314663&quot;</td><td>&quot;Tricky Case Of Takayasu Arteritis In A Young Child Presenting With Heart Failure And Femoral Pulses&quot;</td><td>&quot;journal article&quot;</td><td>&quot;omid:br/061402023621&quot;</td><td>349405</td><td>&quot;1.01 Articolo in rivista&quot;</td></tr><tr><td>&quot;doi:10.1016/j.jebo.2018.09.002&quot;</td><td>&quot;The Effect Of Experts’ Opinion On Prices Of Art Works: The Case Of Peter Brueghel The Younger&quot;</td><td>&quot;journal article&quot;</td><td>&quot;omid:br/06401411164&quot;</td><td>624919</td><td>&quot;1.01 Articolo in rivista&quot;</td></tr><tr><td>&quot;doi:10.1126/sciadv.aar8195&quot;</td><td>&quot;The Baltic Sea As A Time Machine For The Future Coastal Ocean&quot;</td><td>&quot;journal article&quot;</td><td>&quot;omid:br/0620639739&quot;</td><td>459905</td><td>&quot;1.01 Articolo in rivista&quot;</td></tr><tr><td>&quot;doi:10.1016/j.ccs.2011.11.008&quot;</td><td>&quot;The Rhetoric Of Cultural Policies And The Issue Of ‘Getting Things Done’: Bologna Cultural Capital 1…</td><td>&quot;journal article&quot;</td><td>&quot;omid:br/062808746&quot;</td><td>153851</td><td>&quot;1.01 Articolo in rivista&quot;</td></tr></tbody></table></div>"
      ],
      "text/plain": [
       "shape: (5, 6)\n",
       "┌───────────────────┬──────────────────┬───────────┬──────────────────┬─────────┬──────────────────┐\n",
       "│ id                ┆ title            ┆ meta_type ┆ omid             ┆ iris_id ┆ iris_type        │\n",
       "│ ---               ┆ ---              ┆ ---       ┆ ---              ┆ ---     ┆ ---              │\n",
       "│ str               ┆ str              ┆ str       ┆ str              ┆ i64     ┆ str              │\n",
       "╞═══════════════════╪══════════════════╪═══════════╪══════════════════╪═════════╪══════════════════╡\n",
       "│ doi:10.1007/s1033 ┆ Versatile Coil   ┆ journal   ┆ omid:br/06101045 ┆ 64745   ┆ 1.01 Articolo in │\n",
       "│ 4-004-0090-4      ┆ Design And       ┆ article   ┆ 684              ┆         ┆ rivista          │\n",
       "│                   ┆ Positioning Of   ┆           ┆                  ┆         ┆                  │\n",
       "│                   ┆ Transverse-Field ┆           ┆                  ┆         ┆                  │\n",
       "│                   ┆ RF Surface Coils ┆           ┆                  ┆         ┆                  │\n",
       "│                   ┆ For Clinical     ┆           ┆                  ┆         ┆                  │\n",
       "│                   ┆ 1.5-T MRI Ap…    ┆           ┆                  ┆         ┆                  │\n",
       "│ doi:10.1136/archd ┆ Tricky Case Of   ┆ journal   ┆ omid:br/06140202 ┆ 349405  ┆ 1.01 Articolo in │\n",
       "│ ischild-2017-3146 ┆ Takayasu         ┆ article   ┆ 3621             ┆         ┆ rivista          │\n",
       "│ 63                ┆ Arteritis In A   ┆           ┆                  ┆         ┆                  │\n",
       "│                   ┆ Young Child      ┆           ┆                  ┆         ┆                  │\n",
       "│                   ┆ Presenting With  ┆           ┆                  ┆         ┆                  │\n",
       "│                   ┆ Heart Failure    ┆           ┆                  ┆         ┆                  │\n",
       "│                   ┆ And Femoral      ┆           ┆                  ┆         ┆                  │\n",
       "│                   ┆ Pulses           ┆           ┆                  ┆         ┆                  │\n",
       "│ doi:10.1016/j.jeb ┆ The Effect Of    ┆ journal   ┆ omid:br/06401411 ┆ 624919  ┆ 1.01 Articolo in │\n",
       "│ o.2018.09.002     ┆ Experts’ Opinion ┆ article   ┆ 164              ┆         ┆ rivista          │\n",
       "│                   ┆ On Prices Of Art ┆           ┆                  ┆         ┆                  │\n",
       "│                   ┆ Works: The Case  ┆           ┆                  ┆         ┆                  │\n",
       "│                   ┆ Of Peter         ┆           ┆                  ┆         ┆                  │\n",
       "│                   ┆ Brueghel The     ┆           ┆                  ┆         ┆                  │\n",
       "│                   ┆ Younger          ┆           ┆                  ┆         ┆                  │\n",
       "│ doi:10.1126/sciad ┆ The Baltic Sea   ┆ journal   ┆ omid:br/06206397 ┆ 459905  ┆ 1.01 Articolo in │\n",
       "│ v.aar8195         ┆ As A Time        ┆ article   ┆ 39               ┆         ┆ rivista          │\n",
       "│                   ┆ Machine For The  ┆           ┆                  ┆         ┆                  │\n",
       "│                   ┆ Future Coastal   ┆           ┆                  ┆         ┆                  │\n",
       "│                   ┆ Ocean            ┆           ┆                  ┆         ┆                  │\n",
       "│ doi:10.1016/j.ccs ┆ The Rhetoric Of  ┆ journal   ┆ omid:br/06280874 ┆ 153851  ┆ 1.01 Articolo in │\n",
       "│ .2011.11.008      ┆ Cultural         ┆ article   ┆ 6                ┆         ┆ rivista          │\n",
       "│                   ┆ Policies And The ┆           ┆                  ┆         ┆                  │\n",
       "│                   ┆ Issue Of         ┆           ┆                  ┆         ┆                  │\n",
       "│                   ┆ ‘Getting Things  ┆           ┆                  ┆         ┆                  │\n",
       "│                   ┆ Done’: Bologna   ┆           ┆                  ┆         ┆                  │\n",
       "│                   ┆ Cultural Capital ┆           ┆                  ┆         ┆                  │\n",
       "│                   ┆ 1…               ┆           ┆                  ┆         ┆                  │\n",
       "└───────────────────┴──────────────────┴───────────┴──────────────────┴─────────┴──────────────────┘"
      ]
     },
     "execution_count": 85,
     "metadata": {},
     "output_type": "execute_result"
    }
   ],
   "source": [
    "lf_iim.head().collect()"
   ]
  },
  {
   "cell_type": "code",
   "execution_count": null,
   "metadata": {},
   "outputs": [
    {
     "data": {
      "text/html": [
       "<div><style>\n",
       ".dataframe > thead > tr,\n",
       ".dataframe > tbody > tr {\n",
       "  text-align: right;\n",
       "  white-space: pre-wrap;\n",
       "}\n",
       "</style>\n",
       "<small>shape: (0, 6)</small><table border=\"1\" class=\"dataframe\"><thead><tr><th>id</th><th>title</th><th>meta_type</th><th>omid</th><th>iris_id</th><th>iris_type</th></tr><tr><td>str</td><td>str</td><td>str</td><td>str</td><td>i64</td><td>str</td></tr></thead><tbody></tbody></table></div>"
      ],
      "text/plain": [
       "shape: (0, 6)\n",
       "┌─────┬───────┬───────────┬──────┬─────────┬───────────┐\n",
       "│ id  ┆ title ┆ meta_type ┆ omid ┆ iris_id ┆ iris_type │\n",
       "│ --- ┆ ---   ┆ ---       ┆ ---  ┆ ---     ┆ ---       │\n",
       "│ str ┆ str   ┆ str       ┆ str  ┆ i64     ┆ str       │\n",
       "╞═════╪═══════╪═══════════╪══════╪═════════╪═══════════╡\n",
       "└─────┴───────┴───────────┴──────┴─────────┴───────────┘"
      ]
     },
     "execution_count": 86,
     "metadata": {},
     "output_type": "execute_result"
    }
   ],
   "source": [
    "lf_iim.filter(pl.col('id').is_duplicated()).filter(pl.col('meta_type') == '').collect(streaming=True)"
   ]
  },
  {
   "cell_type": "markdown",
   "metadata": {},
   "source": [
    "Out of these duplicates, we see that all but 28 elements have the same type. Let us deal with these cases first:"
   ]
  },
  {
   "cell_type": "code",
   "execution_count": null,
   "metadata": {},
   "outputs": [
    {
     "data": {
      "text/html": [
       "<div><style>\n",
       ".dataframe > thead > tr,\n",
       ".dataframe > tbody > tr {\n",
       "  text-align: right;\n",
       "  white-space: pre-wrap;\n",
       "}\n",
       "</style>\n",
       "<small>shape: (0, 2)</small><table border=\"1\" class=\"dataframe\"><thead><tr><th>iris_id</th><th>type_unique_count</th></tr><tr><td>i64</td><td>u32</td></tr></thead><tbody></tbody></table></div>"
      ],
      "text/plain": [
       "shape: (0, 2)\n",
       "┌─────────┬───────────────────┐\n",
       "│ iris_id ┆ type_unique_count │\n",
       "│ ---     ┆ ---               │\n",
       "│ i64     ┆ u32               │\n",
       "╞═════════╪═══════════════════╡\n",
       "└─────────┴───────────────────┘"
      ]
     },
     "execution_count": 87,
     "metadata": {},
     "output_type": "execute_result"
    }
   ],
   "source": [
    "same_id_multpile_type_count = lf_iim.filter(pl.col('id').is_duplicated()).collect(streaming=True).group_by(\"iris_id\").agg([\n",
    "    pl.col(\"meta_type\").n_unique().alias(\"type_unique_count\")\n",
    "]).filter(pl.col(\"type_unique_count\") != 1)\n",
    "same_id_multpile_type_count.sort('type_unique_count')"
   ]
  },
  {
   "cell_type": "markdown",
   "metadata": {},
   "source": [
    "Analyzing these 74 duplicates we see that there are a lot of entries with empty types and titles. Our first shot is to get rid of those entries."
   ]
  },
  {
   "cell_type": "code",
   "execution_count": null,
   "metadata": {},
   "outputs": [
    {
     "data": {
      "text/html": [
       "<div><style>\n",
       ".dataframe > thead > tr,\n",
       ".dataframe > tbody > tr {\n",
       "  text-align: right;\n",
       "  white-space: pre-wrap;\n",
       "}\n",
       "</style>\n",
       "<small>shape: (74, 6)</small><table border=\"1\" class=\"dataframe\"><thead><tr><th>id</th><th>title</th><th>type</th><th>omid</th><th>iris_id</th><th>iris_type</th></tr><tr><td>str</td><td>str</td><td>str</td><td>str</td><td>i64</td><td>i64</td></tr></thead><tbody><tr><td>&quot;doi:10.1007/jhep01(2019)113&quot;</td><td>&quot;New Axion Searches At Flavor Factories&quot;</td><td>&quot;report&quot;</td><td>&quot;omid:br/061903832621&quot;</td><td>700389</td><td>35</td></tr><tr><td>&quot;doi:10.1007/jhep01(2019)113&quot;</td><td>&quot;New Axion Searches At Flavor Factories&quot;</td><td>&quot;journal article&quot;</td><td>&quot;omid:br/06601833597&quot;</td><td>700389</td><td>35</td></tr><tr><td>&quot;doi:10.1007/jhep01(2019)186&quot;</td><td>&quot;Analytic Helicity Amplitudes For Two-Loop Five-Gluon Scattering: The Single-Minus Case&quot;</td><td>&quot;journal article&quot;</td><td>&quot;omid:br/06601833525&quot;</td><td>560558</td><td>35</td></tr><tr><td>&quot;doi:10.1007/jhep01(2019)186&quot;</td><td>&quot;Analytic Helicity Amplitudes For Two-Loop Five-Gluon Scattering: The Single-Minus Case&quot;</td><td>&quot;&quot;</td><td>&quot;omid:br/06604294851&quot;</td><td>560558</td><td>35</td></tr><tr><td>&quot;doi:10.1007/jhep09(2018)007&quot;</td><td>&quot;Search For Additional Neutral MSSM Higgs Bosons In The Τ Τ Final State In Proton-Proton Collisions A…</td><td>&quot;&quot;</td><td>&quot;omid:br/06404321301&quot;</td><td>391724</td><td>35</td></tr><tr><td>&quot;doi:10.1007/jhep09(2018)007&quot;</td><td>&quot;Search For Additional Neutral MSSM Higgs Bosons In The Τ Τ Final State In Proton-Proton Collisions A…</td><td>&quot;journal article&quot;</td><td>&quot;omid:br/06701820208&quot;</td><td>391724</td><td>35</td></tr><tr><td>&quot;doi:10.1007/jhep12(2018)019&quot;</td><td>&quot;Planar Master Integrals For The Two-Loop Light-Fermion Electroweak Corrections To Higgs Plus Jet Pro…</td><td>&quot;journal article&quot;</td><td>&quot;omid:br/06701819583&quot;</td><td>769982</td><td>35</td></tr><tr><td>&quot;doi:10.1007/jhep12(2018)019&quot;</td><td>&quot;Planar Master Integrals For The Two-Loop Light-Fermion Electroweak Corrections To Higgs Plus Jet Pro…</td><td>&quot;&quot;</td><td>&quot;omid:br/06504258303&quot;</td><td>769982</td><td>35</td></tr><tr><td>&quot;doi:10.1016/0277-5379(91)90071-k&quot;</td><td>&quot;&quot;</td><td>&quot;&quot;</td><td>&quot;omid:br/06510222862&quot;</td><td>632062</td><td>35</td></tr><tr><td>&quot;doi:10.1016/0277-5379(91)90071-k&quot;</td><td>&quot;Smoking And Cancer With Emphasis On Europe.&quot;</td><td>&quot;journal article&quot;</td><td>&quot;omid:br/061503643868&quot;</td><td>632062</td><td>35</td></tr><tr><td>&quot;doi:10.1016/0277-5379(91)90071-k&quot;</td><td>&quot;Smoking And Cancer With Emphasis On Europe&quot;</td><td>&quot;journal article&quot;</td><td>&quot;omid:br/0660737482&quot;</td><td>632062</td><td>35</td></tr><tr><td>&quot;doi:10.1016/s0014-5793(97)01073-9&quot;</td><td>&quot;&quot;</td><td>&quot;&quot;</td><td>&quot;omid:br/06470234045&quot;</td><td>660762</td><td>35</td></tr><tr><td>&quot;doi:10.1016/s0014-5793(97)01073-9&quot;</td><td>&quot;NADH:Fe(III)-chelate Reductase Of Maize Roots Is An Active Cytochrome B5 Reductase.&quot;</td><td>&quot;journal article&quot;</td><td>&quot;omid:br/06704052132&quot;</td><td>660762</td><td>35</td></tr><tr><td>&hellip;</td><td>&hellip;</td><td>&hellip;</td><td>&hellip;</td><td>&hellip;</td><td>&hellip;</td></tr><tr><td>&quot;doi:10.12905/0380.phyton54(2)2014-0235&quot;</td><td>&quot;&quot;</td><td>&quot;&quot;</td><td>&quot;omid:br/062303589668&quot;</td><td>292038</td><td>35</td></tr><tr><td>&quot;doi:10.12905/0380.phyton54(2)2014-0235&quot;</td><td>&quot;&quot;</td><td>&quot;&quot;</td><td>&quot;omid:br/062303576947&quot;</td><td>292038</td><td>35</td></tr><tr><td>&quot;doi:10.12905/0380.phyton54(2)2014-0235&quot;</td><td>&quot;Terricolous Lichens In The Glacier Forefield Of The Gaisbergferner (Eastern Alps, Tyrol, Austria).&quot;</td><td>&quot;journal article&quot;</td><td>&quot;omid:br/06304123457&quot;</td><td>292038</td><td>35</td></tr><tr><td>&quot;doi:10.12905/0380.phyton54(2)2014-0245&quot;</td><td>&quot;&quot;</td><td>&quot;&quot;</td><td>&quot;omid:br/061903592754&quot;</td><td>292042</td><td>35</td></tr><tr><td>&quot;doi:10.12905/0380.phyton54(2)2014-0245&quot;</td><td>&quot;&quot;</td><td>&quot;&quot;</td><td>&quot;omid:br/061903603087&quot;</td><td>292042</td><td>35</td></tr><tr><td>&quot;doi:10.12905/0380.phyton54(2)2014-0245&quot;</td><td>&quot;Terricolous Lichens In The Glacier Forefield Of The Rötkees (Eastern Alps, South Tyrol, Italy).&quot;</td><td>&quot;journal article&quot;</td><td>&quot;omid:br/06304123458&quot;</td><td>292042</td><td>35</td></tr><tr><td>&quot;doi:10.12905/0380.phyton55(2)2015-0193&quot;</td><td>&quot;&quot;</td><td>&quot;&quot;</td><td>&quot;omid:br/06804000244&quot;</td><td>292049</td><td>35</td></tr><tr><td>&quot;doi:10.12905/0380.phyton55(2)2015-0193&quot;</td><td>&quot;&quot;</td><td>&quot;&quot;</td><td>&quot;omid:br/06803975023&quot;</td><td>292049</td><td>35</td></tr><tr><td>&quot;doi:10.12905/0380.phyton55(2)2015-0193&quot;</td><td>&quot;Terricolous Lichens In The Glacier Forefield Of The Morteratsch Glacier (Eastern Alps, Graubünden, S…</td><td>&quot;journal article&quot;</td><td>&quot;omid:br/06304123459&quot;</td><td>292049</td><td>35</td></tr><tr><td>&quot;doi:10.12905/0380.phyton55(2)2015-0201&quot;</td><td>&quot;&quot;</td><td>&quot;&quot;</td><td>&quot;omid:br/06404011317&quot;</td><td>292050</td><td>35</td></tr><tr><td>&quot;doi:10.12905/0380.phyton55(2)2015-0201&quot;</td><td>&quot;Terricolous Lichens In The Glacier Forefield Of The Pasterze (Eastern Alps, Carinthia, Austria).&quot;</td><td>&quot;journal article&quot;</td><td>&quot;omid:br/06304123460&quot;</td><td>292050</td><td>35</td></tr><tr><td>&quot;doi:10.12905/0380.phyton55(2)2015-0201&quot;</td><td>&quot;&quot;</td><td>&quot;&quot;</td><td>&quot;omid:br/062403588057&quot;</td><td>292050</td><td>35</td></tr></tbody></table></div>"
      ],
      "text/plain": [
       "shape: (74, 6)\n",
       "┌───────────────────┬───────────────────┬─────────────────┬──────────────────┬─────────┬───────────┐\n",
       "│ id                ┆ title             ┆ type            ┆ omid             ┆ iris_id ┆ iris_type │\n",
       "│ ---               ┆ ---               ┆ ---             ┆ ---              ┆ ---     ┆ ---       │\n",
       "│ str               ┆ str               ┆ str             ┆ str              ┆ i64     ┆ i64       │\n",
       "╞═══════════════════╪═══════════════════╪═════════════════╪══════════════════╪═════════╪═══════════╡\n",
       "│ doi:10.1007/jhep0 ┆ New Axion         ┆ report          ┆ omid:br/06190383 ┆ 700389  ┆ 35        │\n",
       "│ 1(2019)113        ┆ Searches At       ┆                 ┆ 2621             ┆         ┆           │\n",
       "│                   ┆ Flavor Factories  ┆                 ┆                  ┆         ┆           │\n",
       "│ doi:10.1007/jhep0 ┆ New Axion         ┆ journal article ┆ omid:br/06601833 ┆ 700389  ┆ 35        │\n",
       "│ 1(2019)113        ┆ Searches At       ┆                 ┆ 597              ┆         ┆           │\n",
       "│                   ┆ Flavor Factories  ┆                 ┆                  ┆         ┆           │\n",
       "│ doi:10.1007/jhep0 ┆ Analytic Helicity ┆ journal article ┆ omid:br/06601833 ┆ 560558  ┆ 35        │\n",
       "│ 1(2019)186        ┆ Amplitudes For    ┆                 ┆ 525              ┆         ┆           │\n",
       "│                   ┆ Two-Loop          ┆                 ┆                  ┆         ┆           │\n",
       "│                   ┆ Five-Gluon        ┆                 ┆                  ┆         ┆           │\n",
       "│                   ┆ Scattering: The   ┆                 ┆                  ┆         ┆           │\n",
       "│                   ┆ Single-Minus Case ┆                 ┆                  ┆         ┆           │\n",
       "│ doi:10.1007/jhep0 ┆ Analytic Helicity ┆                 ┆ omid:br/06604294 ┆ 560558  ┆ 35        │\n",
       "│ 1(2019)186        ┆ Amplitudes For    ┆                 ┆ 851              ┆         ┆           │\n",
       "│                   ┆ Two-Loop          ┆                 ┆                  ┆         ┆           │\n",
       "│                   ┆ Five-Gluon        ┆                 ┆                  ┆         ┆           │\n",
       "│                   ┆ Scattering: The   ┆                 ┆                  ┆         ┆           │\n",
       "│                   ┆ Single-Minus Case ┆                 ┆                  ┆         ┆           │\n",
       "│ doi:10.1007/jhep0 ┆ Search For        ┆                 ┆ omid:br/06404321 ┆ 391724  ┆ 35        │\n",
       "│ 9(2018)007        ┆ Additional        ┆                 ┆ 301              ┆         ┆           │\n",
       "│                   ┆ Neutral MSSM      ┆                 ┆                  ┆         ┆           │\n",
       "│                   ┆ Higgs Bosons In   ┆                 ┆                  ┆         ┆           │\n",
       "│                   ┆ The Τ Τ Final     ┆                 ┆                  ┆         ┆           │\n",
       "│                   ┆ State In          ┆                 ┆                  ┆         ┆           │\n",
       "│                   ┆ Proton-Proton     ┆                 ┆                  ┆         ┆           │\n",
       "│                   ┆ Collisions A…     ┆                 ┆                  ┆         ┆           │\n",
       "│ doi:10.1007/jhep0 ┆ Search For        ┆ journal article ┆ omid:br/06701820 ┆ 391724  ┆ 35        │\n",
       "│ 9(2018)007        ┆ Additional        ┆                 ┆ 208              ┆         ┆           │\n",
       "│                   ┆ Neutral MSSM      ┆                 ┆                  ┆         ┆           │\n",
       "│                   ┆ Higgs Bosons In   ┆                 ┆                  ┆         ┆           │\n",
       "│                   ┆ The Τ Τ Final     ┆                 ┆                  ┆         ┆           │\n",
       "│                   ┆ State In          ┆                 ┆                  ┆         ┆           │\n",
       "│                   ┆ Proton-Proton     ┆                 ┆                  ┆         ┆           │\n",
       "│                   ┆ Collisions A…     ┆                 ┆                  ┆         ┆           │\n",
       "│ doi:10.1007/jhep1 ┆ Planar Master     ┆ journal article ┆ omid:br/06701819 ┆ 769982  ┆ 35        │\n",
       "│ 2(2018)019        ┆ Integrals For The ┆                 ┆ 583              ┆         ┆           │\n",
       "│                   ┆ Two-Loop          ┆                 ┆                  ┆         ┆           │\n",
       "│                   ┆ Light-Fermion     ┆                 ┆                  ┆         ┆           │\n",
       "│                   ┆ Electroweak       ┆                 ┆                  ┆         ┆           │\n",
       "│                   ┆ Corrections To    ┆                 ┆                  ┆         ┆           │\n",
       "│                   ┆ Higgs Plus Jet    ┆                 ┆                  ┆         ┆           │\n",
       "│                   ┆ Pro…              ┆                 ┆                  ┆         ┆           │\n",
       "│ doi:10.1007/jhep1 ┆ Planar Master     ┆                 ┆ omid:br/06504258 ┆ 769982  ┆ 35        │\n",
       "│ 2(2018)019        ┆ Integrals For The ┆                 ┆ 303              ┆         ┆           │\n",
       "│                   ┆ Two-Loop          ┆                 ┆                  ┆         ┆           │\n",
       "│                   ┆ Light-Fermion     ┆                 ┆                  ┆         ┆           │\n",
       "│                   ┆ Electroweak       ┆                 ┆                  ┆         ┆           │\n",
       "│                   ┆ Corrections To    ┆                 ┆                  ┆         ┆           │\n",
       "│                   ┆ Higgs Plus Jet    ┆                 ┆                  ┆         ┆           │\n",
       "│                   ┆ Pro…              ┆                 ┆                  ┆         ┆           │\n",
       "│ doi:10.1016/0277- ┆                   ┆                 ┆ omid:br/06510222 ┆ 632062  ┆ 35        │\n",
       "│ 5379(91)90071-k   ┆                   ┆                 ┆ 862              ┆         ┆           │\n",
       "│ doi:10.1016/0277- ┆ Smoking And       ┆ journal article ┆ omid:br/06150364 ┆ 632062  ┆ 35        │\n",
       "│ 5379(91)90071-k   ┆ Cancer With       ┆                 ┆ 3868             ┆         ┆           │\n",
       "│                   ┆ Emphasis On       ┆                 ┆                  ┆         ┆           │\n",
       "│                   ┆ Europe.           ┆                 ┆                  ┆         ┆           │\n",
       "│ doi:10.1016/0277- ┆ Smoking And       ┆ journal article ┆ omid:br/06607374 ┆ 632062  ┆ 35        │\n",
       "│ 5379(91)90071-k   ┆ Cancer With       ┆                 ┆ 82               ┆         ┆           │\n",
       "│                   ┆ Emphasis On       ┆                 ┆                  ┆         ┆           │\n",
       "│                   ┆ Europe            ┆                 ┆                  ┆         ┆           │\n",
       "│ doi:10.1016/s0014 ┆                   ┆                 ┆ omid:br/06470234 ┆ 660762  ┆ 35        │\n",
       "│ -5793(97)01073-9  ┆                   ┆                 ┆ 045              ┆         ┆           │\n",
       "│ doi:10.1016/s0014 ┆ NADH:Fe(III)-chel ┆ journal article ┆ omid:br/06704052 ┆ 660762  ┆ 35        │\n",
       "│ -5793(97)01073-9  ┆ ate Reductase Of  ┆                 ┆ 132              ┆         ┆           │\n",
       "│                   ┆ Maize Roots Is An ┆                 ┆                  ┆         ┆           │\n",
       "│                   ┆ Active Cytochrome ┆                 ┆                  ┆         ┆           │\n",
       "│                   ┆ B5 Reductase.     ┆                 ┆                  ┆         ┆           │\n",
       "│ …                 ┆ …                 ┆ …               ┆ …                ┆ …       ┆ …         │\n",
       "│ doi:10.12905/0380 ┆                   ┆                 ┆ omid:br/06230358 ┆ 292038  ┆ 35        │\n",
       "│ .phyton54(2)2014- ┆                   ┆                 ┆ 9668             ┆         ┆           │\n",
       "│ 0235              ┆                   ┆                 ┆                  ┆         ┆           │\n",
       "│ doi:10.12905/0380 ┆                   ┆                 ┆ omid:br/06230357 ┆ 292038  ┆ 35        │\n",
       "│ .phyton54(2)2014- ┆                   ┆                 ┆ 6947             ┆         ┆           │\n",
       "│ 0235              ┆                   ┆                 ┆                  ┆         ┆           │\n",
       "│ doi:10.12905/0380 ┆ Terricolous       ┆ journal article ┆ omid:br/06304123 ┆ 292038  ┆ 35        │\n",
       "│ .phyton54(2)2014- ┆ Lichens In The    ┆                 ┆ 457              ┆         ┆           │\n",
       "│ 0235              ┆ Glacier Forefield ┆                 ┆                  ┆         ┆           │\n",
       "│                   ┆ Of The            ┆                 ┆                  ┆         ┆           │\n",
       "│                   ┆ Gaisbergferner    ┆                 ┆                  ┆         ┆           │\n",
       "│                   ┆ (Eastern Alps,    ┆                 ┆                  ┆         ┆           │\n",
       "│                   ┆ Tyrol, Austria).  ┆                 ┆                  ┆         ┆           │\n",
       "│ doi:10.12905/0380 ┆                   ┆                 ┆ omid:br/06190359 ┆ 292042  ┆ 35        │\n",
       "│ .phyton54(2)2014- ┆                   ┆                 ┆ 2754             ┆         ┆           │\n",
       "│ 0245              ┆                   ┆                 ┆                  ┆         ┆           │\n",
       "│ doi:10.12905/0380 ┆                   ┆                 ┆ omid:br/06190360 ┆ 292042  ┆ 35        │\n",
       "│ .phyton54(2)2014- ┆                   ┆                 ┆ 3087             ┆         ┆           │\n",
       "│ 0245              ┆                   ┆                 ┆                  ┆         ┆           │\n",
       "│ doi:10.12905/0380 ┆ Terricolous       ┆ journal article ┆ omid:br/06304123 ┆ 292042  ┆ 35        │\n",
       "│ .phyton54(2)2014- ┆ Lichens In The    ┆                 ┆ 458              ┆         ┆           │\n",
       "│ 0245              ┆ Glacier Forefield ┆                 ┆                  ┆         ┆           │\n",
       "│                   ┆ Of The Rötkees    ┆                 ┆                  ┆         ┆           │\n",
       "│                   ┆ (Eastern Alps,    ┆                 ┆                  ┆         ┆           │\n",
       "│                   ┆ South Tyrol,      ┆                 ┆                  ┆         ┆           │\n",
       "│                   ┆ Italy).           ┆                 ┆                  ┆         ┆           │\n",
       "│ doi:10.12905/0380 ┆                   ┆                 ┆ omid:br/06804000 ┆ 292049  ┆ 35        │\n",
       "│ .phyton55(2)2015- ┆                   ┆                 ┆ 244              ┆         ┆           │\n",
       "│ 0193              ┆                   ┆                 ┆                  ┆         ┆           │\n",
       "│ doi:10.12905/0380 ┆                   ┆                 ┆ omid:br/06803975 ┆ 292049  ┆ 35        │\n",
       "│ .phyton55(2)2015- ┆                   ┆                 ┆ 023              ┆         ┆           │\n",
       "│ 0193              ┆                   ┆                 ┆                  ┆         ┆           │\n",
       "│ doi:10.12905/0380 ┆ Terricolous       ┆ journal article ┆ omid:br/06304123 ┆ 292049  ┆ 35        │\n",
       "│ .phyton55(2)2015- ┆ Lichens In The    ┆                 ┆ 459              ┆         ┆           │\n",
       "│ 0193              ┆ Glacier Forefield ┆                 ┆                  ┆         ┆           │\n",
       "│                   ┆ Of The            ┆                 ┆                  ┆         ┆           │\n",
       "│                   ┆ Morteratsch       ┆                 ┆                  ┆         ┆           │\n",
       "│                   ┆ Glacier (Eastern  ┆                 ┆                  ┆         ┆           │\n",
       "│                   ┆ Alps, Graubünden, ┆                 ┆                  ┆         ┆           │\n",
       "│                   ┆ S…                ┆                 ┆                  ┆         ┆           │\n",
       "│ doi:10.12905/0380 ┆                   ┆                 ┆ omid:br/06404011 ┆ 292050  ┆ 35        │\n",
       "│ .phyton55(2)2015- ┆                   ┆                 ┆ 317              ┆         ┆           │\n",
       "│ 0201              ┆                   ┆                 ┆                  ┆         ┆           │\n",
       "│ doi:10.12905/0380 ┆ Terricolous       ┆ journal article ┆ omid:br/06304123 ┆ 292050  ┆ 35        │\n",
       "│ .phyton55(2)2015- ┆ Lichens In The    ┆                 ┆ 460              ┆         ┆           │\n",
       "│ 0201              ┆ Glacier Forefield ┆                 ┆                  ┆         ┆           │\n",
       "│                   ┆ Of The Pasterze   ┆                 ┆                  ┆         ┆           │\n",
       "│                   ┆ (Eastern Alps,    ┆                 ┆                  ┆         ┆           │\n",
       "│                   ┆ Carinthia,        ┆                 ┆                  ┆         ┆           │\n",
       "│                   ┆ Austria).         ┆                 ┆                  ┆         ┆           │\n",
       "│ doi:10.12905/0380 ┆                   ┆                 ┆ omid:br/06240358 ┆ 292050  ┆ 35        │\n",
       "│ .phyton55(2)2015- ┆                   ┆                 ┆ 8057             ┆         ┆           │\n",
       "│ 0201              ┆                   ┆                 ┆                  ┆         ┆           │\n",
       "└───────────────────┴───────────────────┴─────────────────┴──────────────────┴─────────┴───────────┘"
      ]
     },
     "execution_count": 201,
     "metadata": {},
     "output_type": "execute_result"
    }
   ],
   "source": [
    "different_omid_different_type = lf_iim.filter(pl.col('iris_id').is_in(same_id_multpile_type_count.get_column('iris_id'))).sort('id').collect(streaming=True)\n",
    "different_omid_different_type"
   ]
  },
  {
   "cell_type": "code",
   "execution_count": null,
   "metadata": {},
   "outputs": [
    {
     "name": "stdout",
     "output_type": "stream",
     "text": [
      "bingo: the number of unique elements remains the same at 28 so we did not delete any unique value.\n"
     ]
    }
   ],
   "source": [
    "to_drop = different_omid_different_type.filter(pl.col('type') == \"\")\n",
    "print('bingo: the number of unique elements remains the same at', different_omid_different_type.join(to_drop, on='omid', how='anti').n_unique('id'), 'so we did not delete any unique value.')"
   ]
  },
  {
   "cell_type": "markdown",
   "metadata": {},
   "source": [
    "Analyzing the remaining entries, we see that there remain only 16 duplicates with different types."
   ]
  },
  {
   "cell_type": "code",
   "execution_count": null,
   "metadata": {},
   "outputs": [
    {
     "data": {
      "text/html": [
       "<div><style>\n",
       ".dataframe > thead > tr,\n",
       ".dataframe > tbody > tr {\n",
       "  text-align: right;\n",
       "  white-space: pre-wrap;\n",
       "}\n",
       "</style>\n",
       "<small>shape: (8, 2)</small><table border=\"1\" class=\"dataframe\"><thead><tr><th>iris_id</th><th>type_unique_count</th></tr><tr><td>i64</td><td>u32</td></tr></thead><tbody><tr><td>74637</td><td>2</td></tr><tr><td>369184</td><td>2</td></tr><tr><td>134111</td><td>2</td></tr><tr><td>92438</td><td>2</td></tr><tr><td>666743</td><td>2</td></tr><tr><td>84288</td><td>2</td></tr><tr><td>700389</td><td>2</td></tr><tr><td>673035</td><td>2</td></tr></tbody></table></div>"
      ],
      "text/plain": [
       "shape: (8, 2)\n",
       "┌─────────┬───────────────────┐\n",
       "│ iris_id ┆ type_unique_count │\n",
       "│ ---     ┆ ---               │\n",
       "│ i64     ┆ u32               │\n",
       "╞═════════╪═══════════════════╡\n",
       "│ 74637   ┆ 2                 │\n",
       "│ 369184  ┆ 2                 │\n",
       "│ 134111  ┆ 2                 │\n",
       "│ 92438   ┆ 2                 │\n",
       "│ 666743  ┆ 2                 │\n",
       "│ 84288   ┆ 2                 │\n",
       "│ 700389  ┆ 2                 │\n",
       "│ 673035  ┆ 2                 │\n",
       "└─────────┴───────────────────┘"
      ]
     },
     "execution_count": 203,
     "metadata": {},
     "output_type": "execute_result"
    }
   ],
   "source": [
    "different_omid_different_type2 = different_omid_different_type.join(to_drop, on='omid', how='anti')\n",
    "same_id_multiple_type_count2 = different_omid_different_type2.filter(pl.col('id').is_duplicated()).group_by(\"iris_id\").agg([\n",
    "    pl.col(\"type\").n_unique().alias(\"type_unique_count\")\n",
    "]).filter(pl.col(\"type_unique_count\") != 1)\n",
    "same_id_multiple_type_count2"
   ]
  },
  {
   "cell_type": "code",
   "execution_count": null,
   "metadata": {},
   "outputs": [],
   "source": [
    "different_omid_different_type2 = different_omid_different_type2.filter(pl.col('iris_id').is_in(same_id_multiple_type_count2.get_column('iris_id'))).sort('id')"
   ]
  },
  {
   "cell_type": "markdown",
   "metadata": {},
   "source": [
    "We can see that 16 entries remain still. These have the same iris id, but different omid and most importantly different types. We decide to keep only the elements that align with the type of the iris dataset."
   ]
  },
  {
   "cell_type": "code",
   "execution_count": null,
   "metadata": {},
   "outputs": [
    {
     "data": {
      "text/html": [
       "<div><style>\n",
       ".dataframe > thead > tr,\n",
       ".dataframe > tbody > tr {\n",
       "  text-align: right;\n",
       "  white-space: pre-wrap;\n",
       "}\n",
       "</style>\n",
       "<small>shape: (3, 1)</small><table border=\"1\" class=\"dataframe\"><thead><tr><th>iris_type</th></tr><tr><td>struct[2]</td></tr></thead><tbody><tr><td>{35,4}</td></tr><tr><td>{41,10}</td></tr><tr><td>{42,2}</td></tr></tbody></table></div>"
      ],
      "text/plain": [
       "shape: (3, 1)\n",
       "┌───────────┐\n",
       "│ iris_type │\n",
       "│ ---       │\n",
       "│ struct[2] │\n",
       "╞═══════════╡\n",
       "│ {35,4}    │\n",
       "│ {41,10}   │\n",
       "│ {42,2}    │\n",
       "└───────────┘"
      ]
     },
     "execution_count": 205,
     "metadata": {},
     "output_type": "execute_result"
    }
   ],
   "source": [
    "different_omid_different_type2.select(pl.col('iris_type').value_counts())"
   ]
  },
  {
   "cell_type": "code",
   "execution_count": null,
   "metadata": {},
   "outputs": [
    {
     "data": {
      "text/html": [
       "<div><style>\n",
       ".dataframe > thead > tr,\n",
       ".dataframe > tbody > tr {\n",
       "  text-align: right;\n",
       "  white-space: pre-wrap;\n",
       "}\n",
       "</style>\n",
       "<small>shape: (0, 6)</small><table border=\"1\" class=\"dataframe\"><thead><tr><th>id</th><th>title</th><th>type</th><th>omid</th><th>iris_id</th><th>iris_type</th></tr><tr><td>str</td><td>str</td><td>str</td><td>str</td><td>i64</td><td>i64</td></tr></thead><tbody></tbody></table></div>"
      ],
      "text/plain": [
       "shape: (0, 6)\n",
       "┌─────┬───────┬──────┬──────┬─────────┬───────────┐\n",
       "│ id  ┆ title ┆ type ┆ omid ┆ iris_id ┆ iris_type │\n",
       "│ --- ┆ ---   ┆ ---  ┆ ---  ┆ ---     ┆ ---       │\n",
       "│ str ┆ str   ┆ str  ┆ str  ┆ i64     ┆ i64       │\n",
       "╞═════╪═══════╪══════╪══════╪═════════╪═══════════╡\n",
       "└─────┴───────┴──────┴──────┴─────────┴───────────┘"
      ]
     },
     "execution_count": 206,
     "metadata": {},
     "output_type": "execute_result"
    }
   ],
   "source": [
    "dict_df = pl.DataFrame({\n",
    "    \"iris_type\": [35, 41, 42],\n",
    "    \"type\": ['journal article', 'book chapter', 'book chapter']\n",
    "})\n",
    "\n",
    "to_drop2 = different_omid_different_type2.join(dict_df, on=[\"iris_type\", \"type\"], how='anti')\n",
    "different_omid_different_type3 = different_omid_different_type2.join(to_drop2, on='omid', how='anti').filter(pl.col('id').is_duplicated()).sort('id')\n",
    "different_omid_different_type3 # no duplicates !!"
   ]
  },
  {
   "cell_type": "code",
   "execution_count": null,
   "metadata": {},
   "outputs": [
    {
     "data": {
      "text/html": [
       "<div><style>\n",
       ".dataframe > thead > tr,\n",
       ".dataframe > tbody > tr {\n",
       "  text-align: right;\n",
       "  white-space: pre-wrap;\n",
       "}\n",
       "</style>\n",
       "<small>shape: (35, 6)</small><table border=\"1\" class=\"dataframe\"><thead><tr><th>id</th><th>title</th><th>type</th><th>omid</th><th>iris_id</th><th>iris_type</th></tr><tr><td>str</td><td>str</td><td>str</td><td>str</td><td>i64</td><td>i64</td></tr></thead><tbody><tr><td>&quot;doi:10.1007/jhep01(2019)186&quot;</td><td>&quot;Analytic Helicity Amplitudes For Two-Loop Five-Gluon Scattering: The Single-Minus Case&quot;</td><td>&quot;&quot;</td><td>&quot;omid:br/06604294851&quot;</td><td>560558</td><td>35</td></tr><tr><td>&quot;doi:10.1007/jhep09(2018)007&quot;</td><td>&quot;Search For Additional Neutral MSSM Higgs Bosons In The Τ Τ Final State In Proton-Proton Collisions A…</td><td>&quot;&quot;</td><td>&quot;omid:br/06404321301&quot;</td><td>391724</td><td>35</td></tr><tr><td>&quot;doi:10.1007/jhep12(2018)019&quot;</td><td>&quot;Planar Master Integrals For The Two-Loop Light-Fermion Electroweak Corrections To Higgs Plus Jet Pro…</td><td>&quot;&quot;</td><td>&quot;omid:br/06504258303&quot;</td><td>769982</td><td>35</td></tr><tr><td>&quot;doi:10.1016/0277-5379(91)90071-k&quot;</td><td>&quot;&quot;</td><td>&quot;&quot;</td><td>&quot;omid:br/06510222862&quot;</td><td>632062</td><td>35</td></tr><tr><td>&quot;doi:10.1016/s0014-5793(97)01073-9&quot;</td><td>&quot;&quot;</td><td>&quot;&quot;</td><td>&quot;omid:br/06470234045&quot;</td><td>660762</td><td>35</td></tr><tr><td>&quot;doi:10.1016/s0140-6736(06)68338-4&quot;</td><td>&quot;&quot;</td><td>&quot;&quot;</td><td>&quot;omid:br/06410213596&quot;</td><td>113506</td><td>35</td></tr><tr><td>&quot;doi:10.1016/s0140-6736(16)31467-2&quot;</td><td>&quot;&quot;</td><td>&quot;&quot;</td><td>&quot;omid:br/06310328682&quot;</td><td>287218</td><td>35</td></tr><tr><td>&quot;doi:10.1016/s0140-6736(17)32152-9&quot;</td><td>&quot;&quot;</td><td>&quot;&quot;</td><td>&quot;omid:br/06510324330&quot;</td><td>336128</td><td>35</td></tr><tr><td>&quot;doi:10.1016/s0140-6736(18)32278-5&quot;</td><td>&quot;&quot;</td><td>&quot;&quot;</td><td>&quot;omid:br/061203943000&quot;</td><td>405139</td><td>35</td></tr><tr><td>&quot;doi:10.1016/s0140-6736(18)32278-5&quot;</td><td>&quot;&quot;</td><td>&quot;&quot;</td><td>&quot;omid:br/0604396934&quot;</td><td>405139</td><td>35</td></tr><tr><td>&quot;doi:10.1016/s0140-6736(18)32279-7&quot;</td><td>&quot;&quot;</td><td>&quot;&quot;</td><td>&quot;omid:br/061203943001&quot;</td><td>402578</td><td>35</td></tr><tr><td>&quot;doi:10.1016/s0140-6736(18)32279-7&quot;</td><td>&quot;&quot;</td><td>&quot;&quot;</td><td>&quot;omid:br/0604396935&quot;</td><td>402578</td><td>35</td></tr><tr><td>&quot;doi:10.1016/s0140-6736(18)32281-5&quot;</td><td>&quot;&quot;</td><td>&quot;&quot;</td><td>&quot;omid:br/061203942999&quot;</td><td>402516</td><td>35</td></tr><tr><td>&hellip;</td><td>&hellip;</td><td>&hellip;</td><td>&hellip;</td><td>&hellip;</td><td>&hellip;</td></tr><tr><td>&quot;doi:10.12905/0380.phyton55(2)2015-0193&quot;</td><td>&quot;&quot;</td><td>&quot;&quot;</td><td>&quot;omid:br/06804000244&quot;</td><td>292049</td><td>35</td></tr><tr><td>&quot;doi:10.12905/0380.phyton55(2)2015-0193&quot;</td><td>&quot;&quot;</td><td>&quot;&quot;</td><td>&quot;omid:br/06803975023&quot;</td><td>292049</td><td>35</td></tr><tr><td>&quot;doi:10.12905/0380.phyton55(2)2015-0201&quot;</td><td>&quot;&quot;</td><td>&quot;&quot;</td><td>&quot;omid:br/06404011317&quot;</td><td>292050</td><td>35</td></tr><tr><td>&quot;doi:10.12905/0380.phyton55(2)2015-0201&quot;</td><td>&quot;&quot;</td><td>&quot;&quot;</td><td>&quot;omid:br/062403588057&quot;</td><td>292050</td><td>35</td></tr><tr><td>&quot;doi:10.1007/jhep01(2019)113&quot;</td><td>&quot;New Axion Searches At Flavor Factories&quot;</td><td>&quot;report&quot;</td><td>&quot;omid:br/061903832621&quot;</td><td>700389</td><td>35</td></tr><tr><td>&quot;doi:10.1016/s0065-2911(07)53001-8&quot;</td><td>&quot;The Bacterial Response To The Chalcogen Metalloids Se And Te&quot;</td><td>&quot;book chapter&quot;</td><td>&quot;omid:br/06103694701&quot;</td><td>92438</td><td>35</td></tr><tr><td>&quot;doi:10.1016/s0074-7696(06)53005-0&quot;</td><td>&quot;Structural And Immunocytochemical Characterization Of Keratinization In Vertebrate Epidermis And Epi…</td><td>&quot;journal article&quot;</td><td>&quot;omid:br/06504128689&quot;</td><td>84288</td><td>41</td></tr><tr><td>&quot;doi:10.1016/s0076-6879(09)66007-9&quot;</td><td>&quot;Examining Ion Channel Properties Using Free-Energy Methods.&quot;</td><td>&quot;journal article&quot;</td><td>&quot;omid:br/062503694462&quot;</td><td>666743</td><td>41</td></tr><tr><td>&quot;doi:10.1016/s0079-6123(06)56003-0&quot;</td><td>&quot;Implicit And Explicit Categorization Of Natural Scenes.&quot;</td><td>&quot;journal article&quot;</td><td>&quot;omid:br/06804112214&quot;</td><td>74637</td><td>41</td></tr><tr><td>&quot;doi:10.1016/s0079-6123(08)01111-4&quot;</td><td>&quot;Functional Laser Doppler Flowmetry Of The Optic Nerve: Physiological Aspects And Clinical Applicatio…</td><td>&quot;journal article&quot;</td><td>&quot;omid:br/06804112785&quot;</td><td>134111</td><td>41</td></tr><tr><td>&quot;doi:10.1016/s0079-6123(18)30189-4&quot;</td><td>&quot;Preface.&quot;</td><td>&quot;journal article&quot;</td><td>&quot;omid:br/06903731137&quot;</td><td>369184</td><td>42</td></tr><tr><td>&quot;doi:10.1016/s0091-679x(02)68018-5&quot;</td><td>&quot;Scanning Force Microscopy Studies On The Structure And Dynamics Of Single DNA Molecules.&quot;</td><td>&quot;journal article&quot;</td><td>&quot;omid:br/062603732535&quot;</td><td>673035</td><td>41</td></tr></tbody></table></div>"
      ],
      "text/plain": [
       "shape: (35, 6)\n",
       "┌───────────────────┬───────────────────┬─────────────────┬──────────────────┬─────────┬───────────┐\n",
       "│ id                ┆ title             ┆ type            ┆ omid             ┆ iris_id ┆ iris_type │\n",
       "│ ---               ┆ ---               ┆ ---             ┆ ---              ┆ ---     ┆ ---       │\n",
       "│ str               ┆ str               ┆ str             ┆ str              ┆ i64     ┆ i64       │\n",
       "╞═══════════════════╪═══════════════════╪═════════════════╪══════════════════╪═════════╪═══════════╡\n",
       "│ doi:10.1007/jhep0 ┆ Analytic Helicity ┆                 ┆ omid:br/06604294 ┆ 560558  ┆ 35        │\n",
       "│ 1(2019)186        ┆ Amplitudes For    ┆                 ┆ 851              ┆         ┆           │\n",
       "│                   ┆ Two-Loop          ┆                 ┆                  ┆         ┆           │\n",
       "│                   ┆ Five-Gluon        ┆                 ┆                  ┆         ┆           │\n",
       "│                   ┆ Scattering: The   ┆                 ┆                  ┆         ┆           │\n",
       "│                   ┆ Single-Minus Case ┆                 ┆                  ┆         ┆           │\n",
       "│ doi:10.1007/jhep0 ┆ Search For        ┆                 ┆ omid:br/06404321 ┆ 391724  ┆ 35        │\n",
       "│ 9(2018)007        ┆ Additional        ┆                 ┆ 301              ┆         ┆           │\n",
       "│                   ┆ Neutral MSSM      ┆                 ┆                  ┆         ┆           │\n",
       "│                   ┆ Higgs Bosons In   ┆                 ┆                  ┆         ┆           │\n",
       "│                   ┆ The Τ Τ Final     ┆                 ┆                  ┆         ┆           │\n",
       "│                   ┆ State In          ┆                 ┆                  ┆         ┆           │\n",
       "│                   ┆ Proton-Proton     ┆                 ┆                  ┆         ┆           │\n",
       "│                   ┆ Collisions A…     ┆                 ┆                  ┆         ┆           │\n",
       "│ doi:10.1007/jhep1 ┆ Planar Master     ┆                 ┆ omid:br/06504258 ┆ 769982  ┆ 35        │\n",
       "│ 2(2018)019        ┆ Integrals For The ┆                 ┆ 303              ┆         ┆           │\n",
       "│                   ┆ Two-Loop          ┆                 ┆                  ┆         ┆           │\n",
       "│                   ┆ Light-Fermion     ┆                 ┆                  ┆         ┆           │\n",
       "│                   ┆ Electroweak       ┆                 ┆                  ┆         ┆           │\n",
       "│                   ┆ Corrections To    ┆                 ┆                  ┆         ┆           │\n",
       "│                   ┆ Higgs Plus Jet    ┆                 ┆                  ┆         ┆           │\n",
       "│                   ┆ Pro…              ┆                 ┆                  ┆         ┆           │\n",
       "│ doi:10.1016/0277- ┆                   ┆                 ┆ omid:br/06510222 ┆ 632062  ┆ 35        │\n",
       "│ 5379(91)90071-k   ┆                   ┆                 ┆ 862              ┆         ┆           │\n",
       "│ doi:10.1016/s0014 ┆                   ┆                 ┆ omid:br/06470234 ┆ 660762  ┆ 35        │\n",
       "│ -5793(97)01073-9  ┆                   ┆                 ┆ 045              ┆         ┆           │\n",
       "│ doi:10.1016/s0140 ┆                   ┆                 ┆ omid:br/06410213 ┆ 113506  ┆ 35        │\n",
       "│ -6736(06)68338-4  ┆                   ┆                 ┆ 596              ┆         ┆           │\n",
       "│ doi:10.1016/s0140 ┆                   ┆                 ┆ omid:br/06310328 ┆ 287218  ┆ 35        │\n",
       "│ -6736(16)31467-2  ┆                   ┆                 ┆ 682              ┆         ┆           │\n",
       "│ doi:10.1016/s0140 ┆                   ┆                 ┆ omid:br/06510324 ┆ 336128  ┆ 35        │\n",
       "│ -6736(17)32152-9  ┆                   ┆                 ┆ 330              ┆         ┆           │\n",
       "│ doi:10.1016/s0140 ┆                   ┆                 ┆ omid:br/06120394 ┆ 405139  ┆ 35        │\n",
       "│ -6736(18)32278-5  ┆                   ┆                 ┆ 3000             ┆         ┆           │\n",
       "│ doi:10.1016/s0140 ┆                   ┆                 ┆ omid:br/06043969 ┆ 405139  ┆ 35        │\n",
       "│ -6736(18)32278-5  ┆                   ┆                 ┆ 34               ┆         ┆           │\n",
       "│ doi:10.1016/s0140 ┆                   ┆                 ┆ omid:br/06120394 ┆ 402578  ┆ 35        │\n",
       "│ -6736(18)32279-7  ┆                   ┆                 ┆ 3001             ┆         ┆           │\n",
       "│ doi:10.1016/s0140 ┆                   ┆                 ┆ omid:br/06043969 ┆ 402578  ┆ 35        │\n",
       "│ -6736(18)32279-7  ┆                   ┆                 ┆ 35               ┆         ┆           │\n",
       "│ doi:10.1016/s0140 ┆                   ┆                 ┆ omid:br/06120394 ┆ 402516  ┆ 35        │\n",
       "│ -6736(18)32281-5  ┆                   ┆                 ┆ 2999             ┆         ┆           │\n",
       "│ …                 ┆ …                 ┆ …               ┆ …                ┆ …       ┆ …         │\n",
       "│ doi:10.12905/0380 ┆                   ┆                 ┆ omid:br/06804000 ┆ 292049  ┆ 35        │\n",
       "│ .phyton55(2)2015- ┆                   ┆                 ┆ 244              ┆         ┆           │\n",
       "│ 0193              ┆                   ┆                 ┆                  ┆         ┆           │\n",
       "│ doi:10.12905/0380 ┆                   ┆                 ┆ omid:br/06803975 ┆ 292049  ┆ 35        │\n",
       "│ .phyton55(2)2015- ┆                   ┆                 ┆ 023              ┆         ┆           │\n",
       "│ 0193              ┆                   ┆                 ┆                  ┆         ┆           │\n",
       "│ doi:10.12905/0380 ┆                   ┆                 ┆ omid:br/06404011 ┆ 292050  ┆ 35        │\n",
       "│ .phyton55(2)2015- ┆                   ┆                 ┆ 317              ┆         ┆           │\n",
       "│ 0201              ┆                   ┆                 ┆                  ┆         ┆           │\n",
       "│ doi:10.12905/0380 ┆                   ┆                 ┆ omid:br/06240358 ┆ 292050  ┆ 35        │\n",
       "│ .phyton55(2)2015- ┆                   ┆                 ┆ 8057             ┆         ┆           │\n",
       "│ 0201              ┆                   ┆                 ┆                  ┆         ┆           │\n",
       "│ doi:10.1007/jhep0 ┆ New Axion         ┆ report          ┆ omid:br/06190383 ┆ 700389  ┆ 35        │\n",
       "│ 1(2019)113        ┆ Searches At       ┆                 ┆ 2621             ┆         ┆           │\n",
       "│                   ┆ Flavor Factories  ┆                 ┆                  ┆         ┆           │\n",
       "│ doi:10.1016/s0065 ┆ The Bacterial     ┆ book chapter    ┆ omid:br/06103694 ┆ 92438   ┆ 35        │\n",
       "│ -2911(07)53001-8  ┆ Response To The   ┆                 ┆ 701              ┆         ┆           │\n",
       "│                   ┆ Chalcogen         ┆                 ┆                  ┆         ┆           │\n",
       "│                   ┆ Metalloids Se And ┆                 ┆                  ┆         ┆           │\n",
       "│                   ┆ Te                ┆                 ┆                  ┆         ┆           │\n",
       "│ doi:10.1016/s0074 ┆ Structural And    ┆ journal article ┆ omid:br/06504128 ┆ 84288   ┆ 41        │\n",
       "│ -7696(06)53005-0  ┆ Immunocytochemica ┆                 ┆ 689              ┆         ┆           │\n",
       "│                   ┆ l                 ┆                 ┆                  ┆         ┆           │\n",
       "│                   ┆ Characterization  ┆                 ┆                  ┆         ┆           │\n",
       "│                   ┆ Of Keratinization ┆                 ┆                  ┆         ┆           │\n",
       "│                   ┆ In Vertebrate     ┆                 ┆                  ┆         ┆           │\n",
       "│                   ┆ Epidermis And     ┆                 ┆                  ┆         ┆           │\n",
       "│                   ┆ Epi…              ┆                 ┆                  ┆         ┆           │\n",
       "│ doi:10.1016/s0076 ┆ Examining Ion     ┆ journal article ┆ omid:br/06250369 ┆ 666743  ┆ 41        │\n",
       "│ -6879(09)66007-9  ┆ Channel           ┆                 ┆ 4462             ┆         ┆           │\n",
       "│                   ┆ Properties Using  ┆                 ┆                  ┆         ┆           │\n",
       "│                   ┆ Free-Energy       ┆                 ┆                  ┆         ┆           │\n",
       "│                   ┆ Methods.          ┆                 ┆                  ┆         ┆           │\n",
       "│ doi:10.1016/s0079 ┆ Implicit And      ┆ journal article ┆ omid:br/06804112 ┆ 74637   ┆ 41        │\n",
       "│ -6123(06)56003-0  ┆ Explicit          ┆                 ┆ 214              ┆         ┆           │\n",
       "│                   ┆ Categorization Of ┆                 ┆                  ┆         ┆           │\n",
       "│                   ┆ Natural Scenes.   ┆                 ┆                  ┆         ┆           │\n",
       "│ doi:10.1016/s0079 ┆ Functional Laser  ┆ journal article ┆ omid:br/06804112 ┆ 134111  ┆ 41        │\n",
       "│ -6123(08)01111-4  ┆ Doppler Flowmetry ┆                 ┆ 785              ┆         ┆           │\n",
       "│                   ┆ Of The Optic      ┆                 ┆                  ┆         ┆           │\n",
       "│                   ┆ Nerve:            ┆                 ┆                  ┆         ┆           │\n",
       "│                   ┆ Physiological     ┆                 ┆                  ┆         ┆           │\n",
       "│                   ┆ Aspects And       ┆                 ┆                  ┆         ┆           │\n",
       "│                   ┆ Clinical          ┆                 ┆                  ┆         ┆           │\n",
       "│                   ┆ Applicatio…       ┆                 ┆                  ┆         ┆           │\n",
       "│ doi:10.1016/s0079 ┆ Preface.          ┆ journal article ┆ omid:br/06903731 ┆ 369184  ┆ 42        │\n",
       "│ -6123(18)30189-4  ┆                   ┆                 ┆ 137              ┆         ┆           │\n",
       "│ doi:10.1016/s0091 ┆ Scanning Force    ┆ journal article ┆ omid:br/06260373 ┆ 673035  ┆ 41        │\n",
       "│ -679x(02)68018-5  ┆ Microscopy        ┆                 ┆ 2535             ┆         ┆           │\n",
       "│                   ┆ Studies On The    ┆                 ┆                  ┆         ┆           │\n",
       "│                   ┆ Structure And     ┆                 ┆                  ┆         ┆           │\n",
       "│                   ┆ Dynamics Of       ┆                 ┆                  ┆         ┆           │\n",
       "│                   ┆ Single DNA        ┆                 ┆                  ┆         ┆           │\n",
       "│                   ┆ Molecules.        ┆                 ┆                  ┆         ┆           │\n",
       "└───────────────────┴───────────────────┴─────────────────┴──────────────────┴─────────┴───────────┘"
      ]
     },
     "execution_count": 207,
     "metadata": {},
     "output_type": "execute_result"
    }
   ],
   "source": [
    "to_drop = pl.concat([to_drop, to_drop2])\n",
    "to_drop"
   ]
  },
  {
   "cell_type": "code",
   "execution_count": null,
   "metadata": {},
   "outputs": [],
   "source": [
    "#remove the bunch of duplicates that have different types\n",
    "lf_iim = lf_iim.join(to_drop.lazy(), on='omid', how='anti')"
   ]
  },
  {
   "cell_type": "markdown",
   "metadata": {},
   "source": [
    "We can now merge all the entries that have the same external id and type. We will keep the first occurrence of each entry."
   ]
  },
  {
   "cell_type": "code",
   "execution_count": null,
   "metadata": {},
   "outputs": [
    {
     "name": "stdout",
     "output_type": "stream",
     "text": [
      "0 duplicates remanining\n"
     ]
    }
   ],
   "source": [
    "lf_iim = lf_iim.unique(['iris_type', 'id'], keep='first', maintain_order=True)\n",
    "print(lf_iim.filter(pl.col('id').is_duplicated()).select(pl.len()).collect(streaming=True).item(), 'duplicates remanining')"
   ]
  },
  {
   "cell_type": "code",
   "execution_count": null,
   "metadata": {},
   "outputs": [],
   "source": [
    "lf_iim = lf_iim.unique('iris_id', keep='first')"
   ]
  },
  {
   "cell_type": "code",
   "execution_count": null,
   "metadata": {},
   "outputs": [
    {
     "data": {
      "text/html": [
       "<div><style>\n",
       ".dataframe > thead > tr,\n",
       ".dataframe > tbody > tr {\n",
       "  text-align: right;\n",
       "  white-space: pre-wrap;\n",
       "}\n",
       "</style>\n",
       "<small>shape: (0, 6)</small><table border=\"1\" class=\"dataframe\"><thead><tr><th>id</th><th>title</th><th>type</th><th>omid</th><th>iris_id</th><th>iris_type</th></tr><tr><td>str</td><td>str</td><td>str</td><td>str</td><td>i64</td><td>i64</td></tr></thead><tbody></tbody></table></div>"
      ],
      "text/plain": [
       "shape: (0, 6)\n",
       "┌─────┬───────┬──────┬──────┬─────────┬───────────┐\n",
       "│ id  ┆ title ┆ type ┆ omid ┆ iris_id ┆ iris_type │\n",
       "│ --- ┆ ---   ┆ ---  ┆ ---  ┆ ---     ┆ ---       │\n",
       "│ str ┆ str   ┆ str  ┆ str  ┆ i64     ┆ i64       │\n",
       "╞═════╪═══════╪══════╪══════╪═════════╪═══════════╡\n",
       "└─────┴───────┴──────┴──────┴─────────┴───────────┘"
      ]
     },
     "execution_count": 213,
     "metadata": {},
     "output_type": "execute_result"
    }
   ],
   "source": [
    "lf_iim.filter(pl.col('iris_id').is_duplicated()).sort('iris_id').collect(streaming=True)"
   ]
  },
  {
   "cell_type": "code",
   "execution_count": null,
   "metadata": {},
   "outputs": [
    {
     "data": {
      "text/html": [
       "<div><style>\n",
       ".dataframe > thead > tr,\n",
       ".dataframe > tbody > tr {\n",
       "  text-align: right;\n",
       "  white-space: pre-wrap;\n",
       "}\n",
       "</style>\n",
       "<small>shape: (1, 1)</small><table border=\"1\" class=\"dataframe\"><thead><tr><th>len</th></tr><tr><td>u32</td></tr></thead><tbody><tr><td>111510</td></tr></tbody></table></div>"
      ],
      "text/plain": [
       "shape: (1, 1)\n",
       "┌────────┐\n",
       "│ len    │\n",
       "│ ---    │\n",
       "│ u32    │\n",
       "╞════════╡\n",
       "│ 111510 │\n",
       "└────────┘"
      ]
     },
     "execution_count": 215,
     "metadata": {},
     "output_type": "execute_result"
    }
   ],
   "source": [
    "lf_iim.select(pl.len()).collect()"
   ]
  },
  {
   "cell_type": "markdown",
   "metadata": {},
   "source": [
    "---"
   ]
  },
  {
   "cell_type": "markdown",
   "metadata": {},
   "source": [
    "## Create III"
   ]
  },
  {
   "cell_type": "code",
   "execution_count": null,
   "metadata": {},
   "outputs": [
    {
     "data": {
      "text/plain": [
       "115083"
      ]
     },
     "metadata": {},
     "output_type": "display_data"
    }
   ],
   "source": [
    "lf_iim = pl.scan_parquet('../data/iris_in_meta/iris_in_meta.parquet')\n",
    "\n",
    "omids_list = (\n",
    "    lf_iim\n",
    "    .select('omid')\n",
    "    .collect(streaming=True)\n",
    ")['omid'].to_list()\n",
    "\n",
    "len(omids_list)"
   ]
  },
  {
   "cell_type": "code",
   "execution_count": null,
   "metadata": {},
   "outputs": [],
   "source": [
    "index_path = Path('../data/24356626')\n",
    "#index_path = Path('/run/media/leo/0EAE24EE1463E70C/opencitations/index_dump/24356626')\n",
    "output_dir = Path(\"../pp_data/iris_in_index\")"
   ]
  },
  {
   "cell_type": "code",
   "execution_count": null,
   "metadata": {},
   "outputs": [],
   "source": [
    "file_names = [Path(index_path) / Path(archive) for archive in os.listdir(index_path)]\n",
    "\n",
    "for archive in tqdm(file_names):\n",
    "    zip_file = ZipFile(archive)\n",
    "\n",
    "    csvs = ['zip://'+n for n in zip_file.namelist() if n.endswith('.csv')]\n",
    "\n",
    "    ddf = dd.read_csv(csvs, storage_options={'fo': zip_file.filename}, usecols=['id', 'citing', 'cited'])\n",
    "    ddf = ddf[ddf['cited'].isin(omids_list) | ddf['citing'].isin(omids_list)]\n",
    "    ddf.to_parquet(output_dir / archive.stem, write_index=False)"
   ]
  }
 ],
 "metadata": {
  "kernelspec": {
   "display_name": "base",
   "language": "python",
   "name": "python3"
  },
  "language_info": {
   "codemirror_mode": {
    "name": "ipython",
    "version": 3
   },
   "file_extension": ".py",
   "mimetype": "text/x-python",
   "name": "python",
   "nbconvert_exporter": "python",
   "pygments_lexer": "ipython3",
   "version": "3.11.5"
  }
 },
 "nbformat": 4,
 "nbformat_minor": 2
}
