{
 "cells": [
  {
   "cell_type": "markdown",
   "metadata": {},
   "source": [
    "# Investigating Bibliographic Entities Without Persistent Identifiers"
   ]
  },
  {
   "cell_type": "markdown",
   "metadata": {},
   "source": [
    "## IRISNoID Exploration"
   ]
  },
  {
   "cell_type": "code",
   "execution_count": 1,
   "metadata": {},
   "outputs": [],
   "source": [
    "import polars as pl\n",
    "from pathlib import Path\n",
    "from zipfile import ZipFile\n",
    "import matplotlib.pyplot as plt"
   ]
  },
  {
   "cell_type": "markdown",
   "metadata": {},
   "source": [
    "### Read IRIS"
   ]
  },
  {
   "cell_type": "code",
   "execution_count": 2,
   "metadata": {},
   "outputs": [],
   "source": [
    "iris_path = Path(\"../../data/POSTPROCESS-iris-data-2024-06-04.zip\")\n",
    "\n",
    "df_iris_master = pl.read_csv(ZipFile(iris_path).open(\"ODS_L1_IR_ITEM_MASTER_ALL.csv\").read())\n",
    "df_iris_identifier = pl.read_csv(ZipFile(iris_path).open(\"ODS_L1_IR_ITEM_IDENTIFIER.csv\").read(), columns=['ITEM_ID', 'IDE_DOI', 'IDE_ISBN', 'IDE_PMID'], schema_overrides={'ITEM_ID': pl.Int64, 'IDE_DOI': pl.Utf8, 'IDE_ISBN': pl.Utf8, 'IDE_PMID': pl.Utf8})\n",
    "df_iris_relation = pl.read_csv(ZipFile(iris_path).open('ODS_L1_IR_ITEM_RELATION.csv').read(), columns=['ITEM_ID', 'REL_ISPARTOFBOOK', 'REL_ISPARTOFJOURNAL'],\n",
    "                                infer_schema_length=None)\n",
    "df_iris_description = pl.read_csv(ZipFile(iris_path).open('ODS_L1_IR_ITEM_DESCRIPTION.csv').read(), columns=['ITEM_ID', 'DES_ALLPEOPLE', 'DES_NUMBEROFAUTHORS'])\n",
    "df_iris_publisher = pl.read_csv(ZipFile(iris_path).open('ODS_L1_IR_ITEM_PUBLISHER.csv').read(), columns=['ITEM_ID', 'PUB_NAME', 'PUB_PLACE', 'PUB_COUNTRY'])\n",
    "\n",
    "iris_df = df_iris_identifier.join(df_iris_master, on='ITEM_ID', how='inner')#.join(df_iris_relation, on='ITEM_ID', how='inner')"
   ]
  },
  {
   "cell_type": "markdown",
   "metadata": {},
   "source": [
    "### Read IRISNoID"
   ]
  },
  {
   "cell_type": "code",
   "execution_count": 3,
   "metadata": {},
   "outputs": [
    {
     "data": {
      "text/html": [
       "<div><style>\n",
       ".dataframe > thead > tr,\n",
       ".dataframe > tbody > tr {\n",
       "  text-align: right;\n",
       "  white-space: pre-wrap;\n",
       "}\n",
       "</style>\n",
       "<small>shape: (103_481, 14)</small><table border=\"1\" class=\"dataframe\"><thead><tr><th>ITEM_ID</th><th>IDE_DOI</th><th>IDE_ISBN</th><th>IDE_PMID</th><th>OWNING_COLLECTION</th><th>OWNING_COLLECTION_DES</th><th>DES_ALLPEOPLE</th><th>DES_NUMBEROFAUTHORS</th><th>DATE_ISSUED_YEAR</th><th>TITLE</th><th>PUB_NAME</th><th>PUB_PLACE</th><th>PUB_COUNTRY</th><th>LAN_ISO</th></tr><tr><td>i64</td><td>str</td><td>str</td><td>str</td><td>i64</td><td>str</td><td>str</td><td>i64</td><td>i64</td><td>str</td><td>str</td><td>str</td><td>str</td><td>str</td></tr></thead><tbody><tr><td>4837</td><td>null</td><td>null</td><td>null</td><td>58</td><td>&quot;4.02 Riassunto (Abstract)&quot;</td><td>&quot;Nicoletti A.; Mazzanti L.; Pir…</td><td>7</td><td>2011</td><td>&quot;Mutational spectrum of SHOX ge…</td><td>&quot;Karger&quot;</td><td>&quot;Basel&quot;</td><td>&quot;CHE&quot;</td><td>&quot;eng&quot;</td></tr><tr><td>5279</td><td>null</td><td>null</td><td>null</td><td>35</td><td>&quot;1.01 Articolo in rivista&quot;</td><td>&quot;P. Zagaglia&quot;</td><td>1</td><td>2007</td><td>&quot;Operational Fiscal and Monetar…</td><td>null</td><td>null</td><td>null</td><td>&quot;eng&quot;</td></tr><tr><td>6196</td><td>null</td><td>null</td><td>null</td><td>37</td><td>&quot;1.03 Recensione in rivista&quot;</td><td>&quot;Andrea Borsari&quot;</td><td>1</td><td>2012</td><td>&quot;Olivier Agard – Kracauer: le c…</td><td>null</td><td>null</td><td>null</td><td>&quot;ita&quot;</td></tr><tr><td>5444</td><td>null</td><td>null</td><td>null</td><td>58</td><td>&quot;4.02 Riassunto (Abstract)&quot;</td><td>&quot;Soverini S; Poerio A; Vitale A…</td><td>19</td><td>2009</td><td>&quot;At the time of diagnosis, Ph c…</td><td>null</td><td>null</td><td>null</td><td>&quot;eng&quot;</td></tr><tr><td>6457</td><td>null</td><td>null</td><td>null</td><td>49</td><td>&quot;3.01 Monografia / trattato sci…</td><td>&quot;Maria Elena Bontempi; Irene Ma…</td><td>2</td><td>2012</td><td>&quot;A strategy to reduce the count…</td><td>&quot;Dipartimento di Scienze Econom…</td><td>&quot;Bologna&quot;</td><td>&quot;ITA&quot;</td><td>&quot;eng&quot;</td></tr><tr><td>&hellip;</td><td>&hellip;</td><td>&hellip;</td><td>&hellip;</td><td>&hellip;</td><td>&hellip;</td><td>&hellip;</td><td>&hellip;</td><td>&hellip;</td><td>&hellip;</td><td>&hellip;</td><td>&hellip;</td><td>&hellip;</td><td>&hellip;</td></tr><tr><td>724333</td><td>null</td><td>null</td><td>null</td><td>41</td><td>&quot;2.01 Capitolo / saggio in libr…</td><td>&quot;Michele Sesta; Enrico Al Mured…</td><td>3</td><td>2022</td><td>&quot;Dal pater familias alla multig…</td><td>&quot;Olejnik&quot;</td><td>&quot;Santiago&quot;</td><td>&quot;CHL&quot;</td><td>&quot;ita&quot;</td></tr><tr><td>724369</td><td>null</td><td>null</td><td>null</td><td>41</td><td>&quot;2.01 Capitolo / saggio in libr…</td><td>&quot;zorzi nadia&quot;</td><td>1</td><td>2022</td><td>&quot;Capitolo quarantaduesimo \r\n",
       "Gli…</td><td>&quot;Wolters Kluwer Italia srl CEDA…</td><td>&quot;Milano&quot;</td><td>&quot;ITA&quot;</td><td>&quot;ita&quot;</td></tr><tr><td>724125</td><td>null</td><td>null</td><td>null</td><td>77</td><td>&quot;7.13 Rapporto tecnico&quot;</td><td>&quot;Selenica Ervjola&quot;</td><td>1</td><td>2019</td><td>&quot;The Accelerated Access Initiat…</td><td>null</td><td>null</td><td>null</td><td>&quot;eng&quot;</td></tr><tr><td>724571</td><td>null</td><td>null</td><td>null</td><td>35</td><td>&quot;1.01 Articolo in rivista&quot;</td><td>&quot;Corrado Caruso&quot;</td><td>1</td><td>2022</td><td>&quot;La Costituzione di Dobbs v. Ja…</td><td>null</td><td>null</td><td>null</td><td>&quot;ita&quot;</td></tr><tr><td>724229</td><td>null</td><td>null</td><td>null</td><td>37</td><td>&quot;1.03 Recensione in rivista&quot;</td><td>&quot;Silvia Pieroni&quot;</td><td>1</td><td>2020</td><td>&quot;Georg W. Bertram, L’arte come …</td><td>null</td><td>null</td><td>null</td><td>&quot;ita&quot;</td></tr></tbody></table></div>"
      ],
      "text/plain": [
       "shape: (103_481, 14)\n",
       "┌─────────┬─────────┬──────────┬──────────┬───┬────────────────┬───────────┬─────────────┬─────────┐\n",
       "│ ITEM_ID ┆ IDE_DOI ┆ IDE_ISBN ┆ IDE_PMID ┆ … ┆ PUB_NAME       ┆ PUB_PLACE ┆ PUB_COUNTRY ┆ LAN_ISO │\n",
       "│ ---     ┆ ---     ┆ ---      ┆ ---      ┆   ┆ ---            ┆ ---       ┆ ---         ┆ ---     │\n",
       "│ i64     ┆ str     ┆ str      ┆ str      ┆   ┆ str            ┆ str       ┆ str         ┆ str     │\n",
       "╞═════════╪═════════╪══════════╪══════════╪═══╪════════════════╪═══════════╪═════════════╪═════════╡\n",
       "│ 4837    ┆ null    ┆ null     ┆ null     ┆ … ┆ Karger         ┆ Basel     ┆ CHE         ┆ eng     │\n",
       "│ 5279    ┆ null    ┆ null     ┆ null     ┆ … ┆ null           ┆ null      ┆ null        ┆ eng     │\n",
       "│ 6196    ┆ null    ┆ null     ┆ null     ┆ … ┆ null           ┆ null      ┆ null        ┆ ita     │\n",
       "│ 5444    ┆ null    ┆ null     ┆ null     ┆ … ┆ null           ┆ null      ┆ null        ┆ eng     │\n",
       "│ 6457    ┆ null    ┆ null     ┆ null     ┆ … ┆ Dipartimento   ┆ Bologna   ┆ ITA         ┆ eng     │\n",
       "│         ┆         ┆          ┆          ┆   ┆ di Scienze     ┆           ┆             ┆         │\n",
       "│         ┆         ┆          ┆          ┆   ┆ Econom…        ┆           ┆             ┆         │\n",
       "│ …       ┆ …       ┆ …        ┆ …        ┆ … ┆ …              ┆ …         ┆ …           ┆ …       │\n",
       "│ 724333  ┆ null    ┆ null     ┆ null     ┆ … ┆ Olejnik        ┆ Santiago  ┆ CHL         ┆ ita     │\n",
       "│ 724369  ┆ null    ┆ null     ┆ null     ┆ … ┆ Wolters Kluwer ┆ Milano    ┆ ITA         ┆ ita     │\n",
       "│         ┆         ┆          ┆          ┆   ┆ Italia srl     ┆           ┆             ┆         │\n",
       "│         ┆         ┆          ┆          ┆   ┆ CEDA…          ┆           ┆             ┆         │\n",
       "│ 724125  ┆ null    ┆ null     ┆ null     ┆ … ┆ null           ┆ null      ┆ null        ┆ eng     │\n",
       "│ 724571  ┆ null    ┆ null     ┆ null     ┆ … ┆ null           ┆ null      ┆ null        ┆ ita     │\n",
       "│ 724229  ┆ null    ┆ null     ┆ null     ┆ … ┆ null           ┆ null      ┆ null        ┆ ita     │\n",
       "└─────────┴─────────┴──────────┴──────────┴───┴────────────────┴───────────┴─────────────┴─────────┘"
      ]
     },
     "execution_count": 3,
     "metadata": {},
     "output_type": "execute_result"
    }
   ],
   "source": [
    "inoid_df = pl.read_parquet(\"../../data/iris_no_id/iris_no_id.parquet\")\n",
    "inoid_df"
   ]
  },
  {
   "cell_type": "code",
   "execution_count": 4,
   "metadata": {},
   "outputs": [
    {
     "data": {
      "text/html": [
       "<div><style>\n",
       ".dataframe > thead > tr,\n",
       ".dataframe > tbody > tr {\n",
       "  text-align: right;\n",
       "  white-space: pre-wrap;\n",
       "}\n",
       "</style>\n",
       "<small>shape: (2_498, 14)</small><table border=\"1\" class=\"dataframe\"><thead><tr><th>ITEM_ID</th><th>IDE_DOI</th><th>IDE_ISBN</th><th>IDE_PMID</th><th>OWNING_COLLECTION</th><th>OWNING_COLLECTION_DES</th><th>DES_ALLPEOPLE</th><th>DES_NUMBEROFAUTHORS</th><th>DATE_ISSUED_YEAR</th><th>TITLE</th><th>PUB_NAME</th><th>PUB_PLACE</th><th>PUB_COUNTRY</th><th>LAN_ISO</th></tr><tr><td>i64</td><td>str</td><td>str</td><td>str</td><td>i64</td><td>str</td><td>str</td><td>i64</td><td>i64</td><td>str</td><td>str</td><td>str</td><td>str</td><td>str</td></tr></thead><tbody><tr><td>184488</td><td>null</td><td>null</td><td>null</td><td>79</td><td>&quot;8.02 Ruolo editoriale in colla…</td><td>&quot;B. Pio&quot;</td><td>1</td><td>9999</td><td>&quot;Collana DISCI&quot;</td><td>null</td><td>null</td><td>null</td><td>null</td></tr><tr><td>189899</td><td>null</td><td>null</td><td>null</td><td>78</td><td>&quot;8.01 Ruolo editoriale in rivis…</td><td>&quot;D. Calanca; F. Dallari&quot;</td><td>2</td><td>9999</td><td>&quot;Almatourism Journal of Tourism…</td><td>null</td><td>null</td><td>null</td><td>null</td></tr><tr><td>188974</td><td>null</td><td>null</td><td>null</td><td>79</td><td>&quot;8.02 Ruolo editoriale in colla…</td><td>&quot;Daniela Baroncini&quot;</td><td>1</td><td>9999</td><td>&quot;Culture, moda e società&quot;</td><td>null</td><td>null</td><td>null</td><td>null</td></tr><tr><td>203826</td><td>null</td><td>null</td><td>null</td><td>79</td><td>&quot;8.02 Ruolo editoriale in colla…</td><td>&quot;Loredana Chines&quot;</td><td>1</td><td>9999</td><td>&quot;Cultura umanistica e saperi mo…</td><td>null</td><td>null</td><td>null</td><td>null</td></tr><tr><td>169630</td><td>null</td><td>null</td><td>null</td><td>78</td><td>&quot;8.01 Ruolo editoriale in rivis…</td><td>&quot;Renata Archetti; Mario De Gerl…</td><td>5</td><td>9999</td><td>&quot;Bollettino della Associazione …</td><td>null</td><td>null</td><td>null</td><td>null</td></tr><tr><td>&hellip;</td><td>&hellip;</td><td>&hellip;</td><td>&hellip;</td><td>&hellip;</td><td>&hellip;</td><td>&hellip;</td><td>&hellip;</td><td>&hellip;</td><td>&hellip;</td><td>&hellip;</td><td>&hellip;</td><td>&hellip;</td><td>&hellip;</td></tr><tr><td>722089</td><td>null</td><td>null</td><td>null</td><td>78</td><td>&quot;8.01 Ruolo editoriale in rivis…</td><td>&quot;Federico Bertoni&quot;</td><td>null</td><td>9999</td><td>&quot;POLYTHESIS. Filologia, Interpr…</td><td>null</td><td>null</td><td>null</td><td>null</td></tr><tr><td>722568</td><td>null</td><td>null</td><td>null</td><td>78</td><td>&quot;8.01 Ruolo editoriale in rivis…</td><td>&quot;Daniela Baroncini&quot;</td><td>null</td><td>9999</td><td>&quot;Rivista Pascoliana&quot;</td><td>null</td><td>null</td><td>null</td><td>null</td></tr><tr><td>723482</td><td>null</td><td>null</td><td>null</td><td>78</td><td>&quot;8.01 Ruolo editoriale in rivis…</td><td>&quot;Anna Cardinaletti, Mario Cardo…</td><td>null</td><td>9999</td><td>&quot;Annali del Dipartimento di Stu…</td><td>null</td><td>null</td><td>null</td><td>null</td></tr><tr><td>722574</td><td>null</td><td>null</td><td>null</td><td>78</td><td>&quot;8.01 Ruolo editoriale in rivis…</td><td>&quot;Daniela Baroncini&quot;</td><td>null</td><td>9999</td><td>&quot;ZoneModa Journal&quot;</td><td>null</td><td>null</td><td>null</td><td>null</td></tr><tr><td>722562</td><td>null</td><td>null</td><td>null</td><td>79</td><td>&quot;8.02 Ruolo editoriale in colla…</td><td>&quot;Daniela Baroncini&quot;</td><td>null</td><td>9999</td><td>&quot;Collana della Rivista Pascolia…</td><td>null</td><td>null</td><td>null</td><td>null</td></tr></tbody></table></div>"
      ],
      "text/plain": [
       "shape: (2_498, 14)\n",
       "┌─────────┬─────────┬──────────┬──────────┬───┬──────────┬───────────┬─────────────┬─────────┐\n",
       "│ ITEM_ID ┆ IDE_DOI ┆ IDE_ISBN ┆ IDE_PMID ┆ … ┆ PUB_NAME ┆ PUB_PLACE ┆ PUB_COUNTRY ┆ LAN_ISO │\n",
       "│ ---     ┆ ---     ┆ ---      ┆ ---      ┆   ┆ ---      ┆ ---       ┆ ---         ┆ ---     │\n",
       "│ i64     ┆ str     ┆ str      ┆ str      ┆   ┆ str      ┆ str       ┆ str         ┆ str     │\n",
       "╞═════════╪═════════╪══════════╪══════════╪═══╪══════════╪═══════════╪═════════════╪═════════╡\n",
       "│ 184488  ┆ null    ┆ null     ┆ null     ┆ … ┆ null     ┆ null      ┆ null        ┆ null    │\n",
       "│ 189899  ┆ null    ┆ null     ┆ null     ┆ … ┆ null     ┆ null      ┆ null        ┆ null    │\n",
       "│ 188974  ┆ null    ┆ null     ┆ null     ┆ … ┆ null     ┆ null      ┆ null        ┆ null    │\n",
       "│ 203826  ┆ null    ┆ null     ┆ null     ┆ … ┆ null     ┆ null      ┆ null        ┆ null    │\n",
       "│ 169630  ┆ null    ┆ null     ┆ null     ┆ … ┆ null     ┆ null      ┆ null        ┆ null    │\n",
       "│ …       ┆ …       ┆ …        ┆ …        ┆ … ┆ …        ┆ …         ┆ …           ┆ …       │\n",
       "│ 722089  ┆ null    ┆ null     ┆ null     ┆ … ┆ null     ┆ null      ┆ null        ┆ null    │\n",
       "│ 722568  ┆ null    ┆ null     ┆ null     ┆ … ┆ null     ┆ null      ┆ null        ┆ null    │\n",
       "│ 723482  ┆ null    ┆ null     ┆ null     ┆ … ┆ null     ┆ null      ┆ null        ┆ null    │\n",
       "│ 722574  ┆ null    ┆ null     ┆ null     ┆ … ┆ null     ┆ null      ┆ null        ┆ null    │\n",
       "│ 722562  ┆ null    ┆ null     ┆ null     ┆ … ┆ null     ┆ null      ┆ null        ┆ null    │\n",
       "└─────────┴─────────┴──────────┴──────────┴───┴──────────┴───────────┴─────────────┴─────────┘"
      ]
     },
     "execution_count": 4,
     "metadata": {},
     "output_type": "execute_result"
    }
   ],
   "source": [
    "inoid_df.filter(pl.col('DATE_ISSUED_YEAR') > 2025) #2_498 elements with date 9999"
   ]
  },
  {
   "cell_type": "markdown",
   "metadata": {},
   "source": [
    "### Remove nulls"
   ]
  },
  {
   "cell_type": "code",
   "execution_count": 5,
   "metadata": {},
   "outputs": [
    {
     "data": {
      "text/plain": [
       "103479"
      ]
     },
     "execution_count": 5,
     "metadata": {},
     "output_type": "execute_result"
    }
   ],
   "source": [
    "inoid_df = inoid_df.filter(~pl.col('TITLE').is_null())\n",
    "inoid_df.__len__()"
   ]
  },
  {
   "cell_type": "code",
   "execution_count": 6,
   "metadata": {},
   "outputs": [],
   "source": [
    "# authors to lowercase\n",
    "inoid_df = inoid_df.with_columns(pl.col('DES_ALLPEOPLE').str.to_lowercase())"
   ]
  },
  {
   "cell_type": "markdown",
   "metadata": {},
   "source": [
    "### Remove duplicates"
   ]
  },
  {
   "cell_type": "code",
   "execution_count": 7,
   "metadata": {},
   "outputs": [
    {
     "data": {
      "text/html": [
       "<div><style>\n",
       ".dataframe > thead > tr,\n",
       ".dataframe > tbody > tr {\n",
       "  text-align: right;\n",
       "  white-space: pre-wrap;\n",
       "}\n",
       "</style>\n",
       "<small>shape: (2_915, 14)</small><table border=\"1\" class=\"dataframe\"><thead><tr><th>ITEM_ID</th><th>IDE_DOI</th><th>IDE_ISBN</th><th>IDE_PMID</th><th>OWNING_COLLECTION</th><th>OWNING_COLLECTION_DES</th><th>DES_ALLPEOPLE</th><th>DES_NUMBEROFAUTHORS</th><th>DATE_ISSUED_YEAR</th><th>TITLE</th><th>PUB_NAME</th><th>PUB_PLACE</th><th>PUB_COUNTRY</th><th>LAN_ISO</th></tr><tr><td>i64</td><td>str</td><td>str</td><td>str</td><td>i64</td><td>str</td><td>str</td><td>i64</td><td>i64</td><td>str</td><td>str</td><td>str</td><td>str</td><td>str</td></tr></thead><tbody><tr><td>126220</td><td>null</td><td>null</td><td>null</td><td>81</td><td>&quot;8.04 Coordinamento di progetti…</td><td>&quot;p.galetti&quot;</td><td>1</td><td>2009</td><td>&quot;&quot;Città e campagna nel medioevo…</td><td>null</td><td>null</td><td>null</td><td>null</td></tr><tr><td>98844</td><td>null</td><td>null</td><td>null</td><td>81</td><td>&quot;8.04 Coordinamento di progetti…</td><td>&quot;p.galetti&quot;</td><td>1</td><td>2008</td><td>&quot;&quot;Città e campagna nel medioevo…</td><td>null</td><td>null</td><td>null</td><td>null</td></tr><tr><td>126223</td><td>null</td><td>null</td><td>null</td><td>81</td><td>&quot;8.04 Coordinamento di progetti…</td><td>&quot;p.galetti&quot;</td><td>1</td><td>2010</td><td>&quot;&quot;Città e campagna nel medioevo…</td><td>null</td><td>null</td><td>null</td><td>null</td></tr><tr><td>187078</td><td>null</td><td>null</td><td>null</td><td>41</td><td>&quot;2.01 Capitolo / saggio in libr…</td><td>&quot;d.gallingani&quot;</td><td>1</td><td>2005</td><td>&quot;&quot;Eponine ou ma République&quot; de …</td><td>&quot;Presses Universitaires de Fran…</td><td>&quot;Paris&quot;</td><td>&quot;FRA&quot;</td><td>&quot;fre&quot;</td></tr><tr><td>60406</td><td>null</td><td>null</td><td>null</td><td>41</td><td>&quot;2.01 Capitolo / saggio in libr…</td><td>&quot;d.gallingani&quot;</td><td>1</td><td>2005</td><td>&quot;&quot;Eponine ou ma République&quot; de …</td><td>&quot;Presses Universitaires de Fran…</td><td>&quot;PARIS&quot;</td><td>&quot;FRA&quot;</td><td>&quot;fre&quot;</td></tr><tr><td>&hellip;</td><td>&hellip;</td><td>&hellip;</td><td>&hellip;</td><td>&hellip;</td><td>&hellip;</td><td>&hellip;</td><td>&hellip;</td><td>&hellip;</td><td>&hellip;</td><td>&hellip;</td><td>&hellip;</td><td>&hellip;</td><td>&hellip;</td></tr><tr><td>102114</td><td>null</td><td>null</td><td>null</td><td>81</td><td>&quot;8.04 Coordinamento di progetti…</td><td>&quot;waidbacher h.; winkler g.; pok…</td><td>10</td><td>2007</td><td>&quot;“Integrating BOMOSA cage fish …</td><td>null</td><td>null</td><td>null</td><td>null</td></tr><tr><td>96401</td><td>null</td><td>null</td><td>null</td><td>81</td><td>&quot;8.04 Coordinamento di progetti…</td><td>&quot;r. baldelli&quot;</td><td>1</td><td>2007</td><td>&quot;“Monitoraggio sierologico per …</td><td>null</td><td>null</td><td>null</td><td>null</td></tr><tr><td>96400</td><td>null</td><td>null</td><td>null</td><td>81</td><td>&quot;8.04 Coordinamento di progetti…</td><td>&quot;r. baldelli&quot;</td><td>1</td><td>2006</td><td>&quot;“Monitoraggio sierologico per …</td><td>null</td><td>null</td><td>null</td><td>null</td></tr><tr><td>98486</td><td>null</td><td>null</td><td>null</td><td>58</td><td>&quot;4.02 Riassunto (Abstract)&quot;</td><td>&quot;n. ballarini; l. casagrandi; f…</td><td>8</td><td>2006</td><td>&quot;“The liquid-phase oxidation of…</td><td>&quot;s.n&quot;</td><td>&quot;s.l&quot;</td><td>null</td><td>&quot;eng&quot;</td></tr><tr><td>101190</td><td>null</td><td>null</td><td>null</td><td>58</td><td>&quot;4.02 Riassunto (Abstract)&quot;</td><td>&quot;n. ballarini; l. casagrandi; f…</td><td>8</td><td>2007</td><td>&quot;“The liquid-phase oxidation of…</td><td>&quot;s.n&quot;</td><td>&quot;s.l&quot;</td><td>&quot;USA&quot;</td><td>&quot;eng&quot;</td></tr></tbody></table></div>"
      ],
      "text/plain": [
       "shape: (2_915, 14)\n",
       "┌─────────┬─────────┬──────────┬──────────┬───┬────────────────┬───────────┬─────────────┬─────────┐\n",
       "│ ITEM_ID ┆ IDE_DOI ┆ IDE_ISBN ┆ IDE_PMID ┆ … ┆ PUB_NAME       ┆ PUB_PLACE ┆ PUB_COUNTRY ┆ LAN_ISO │\n",
       "│ ---     ┆ ---     ┆ ---      ┆ ---      ┆   ┆ ---            ┆ ---       ┆ ---         ┆ ---     │\n",
       "│ i64     ┆ str     ┆ str      ┆ str      ┆   ┆ str            ┆ str       ┆ str         ┆ str     │\n",
       "╞═════════╪═════════╪══════════╪══════════╪═══╪════════════════╪═══════════╪═════════════╪═════════╡\n",
       "│ 126220  ┆ null    ┆ null     ┆ null     ┆ … ┆ null           ┆ null      ┆ null        ┆ null    │\n",
       "│ 98844   ┆ null    ┆ null     ┆ null     ┆ … ┆ null           ┆ null      ┆ null        ┆ null    │\n",
       "│ 126223  ┆ null    ┆ null     ┆ null     ┆ … ┆ null           ┆ null      ┆ null        ┆ null    │\n",
       "│ 187078  ┆ null    ┆ null     ┆ null     ┆ … ┆ Presses        ┆ Paris     ┆ FRA         ┆ fre     │\n",
       "│         ┆         ┆          ┆          ┆   ┆ Universitaires ┆           ┆             ┆         │\n",
       "│         ┆         ┆          ┆          ┆   ┆ de Fran…       ┆           ┆             ┆         │\n",
       "│ 60406   ┆ null    ┆ null     ┆ null     ┆ … ┆ Presses        ┆ PARIS     ┆ FRA         ┆ fre     │\n",
       "│         ┆         ┆          ┆          ┆   ┆ Universitaires ┆           ┆             ┆         │\n",
       "│         ┆         ┆          ┆          ┆   ┆ de Fran…       ┆           ┆             ┆         │\n",
       "│ …       ┆ …       ┆ …        ┆ …        ┆ … ┆ …              ┆ …         ┆ …           ┆ …       │\n",
       "│ 102114  ┆ null    ┆ null     ┆ null     ┆ … ┆ null           ┆ null      ┆ null        ┆ null    │\n",
       "│ 96401   ┆ null    ┆ null     ┆ null     ┆ … ┆ null           ┆ null      ┆ null        ┆ null    │\n",
       "│ 96400   ┆ null    ┆ null     ┆ null     ┆ … ┆ null           ┆ null      ┆ null        ┆ null    │\n",
       "│ 98486   ┆ null    ┆ null     ┆ null     ┆ … ┆ s.n            ┆ s.l       ┆ null        ┆ eng     │\n",
       "│ 101190  ┆ null    ┆ null     ┆ null     ┆ … ┆ s.n            ┆ s.l       ┆ USA         ┆ eng     │\n",
       "└─────────┴─────────┴──────────┴──────────┴───┴────────────────┴───────────┴─────────────┴─────────┘"
      ]
     },
     "execution_count": 7,
     "metadata": {},
     "output_type": "execute_result"
    }
   ],
   "source": [
    "dupes = inoid_df.filter(pl.struct('TITLE', 'DES_ALLPEOPLE').is_duplicated()).sort('TITLE') #check for duplicates\n",
    "dupes"
   ]
  },
  {
   "cell_type": "code",
   "execution_count": 8,
   "metadata": {},
   "outputs": [
    {
     "data": {
      "text/html": [
       "<div><style>\n",
       ".dataframe > thead > tr,\n",
       ".dataframe > tbody > tr {\n",
       "  text-align: right;\n",
       "  white-space: pre-wrap;\n",
       "}\n",
       "</style>\n",
       "<small>shape: (1_057, 2)</small><table border=\"1\" class=\"dataframe\"><thead><tr><th>TITLE</th><th>count</th></tr><tr><td>str</td><td>u32</td></tr></thead><tbody><tr><td>&quot;Editoriale&quot;</td><td>37</td></tr><tr><td>&quot;Prefazione&quot;</td><td>36</td></tr><tr><td>&quot;Introduzione&quot;</td><td>34</td></tr><tr><td>&quot;Presentazione&quot;</td><td>31</td></tr><tr><td>&quot;Osservatorio sulla giurisprude…</td><td>27</td></tr><tr><td>&quot;Progetto Ostia Marina&quot;</td><td>16</td></tr><tr><td>&quot;Quaderni costituzionali&quot;</td><td>15</td></tr><tr><td>&quot;La posta di Bruno D’Amore. Rub…</td><td>15</td></tr><tr><td>&quot;La rassegna dei lodi e dei ver…</td><td>13</td></tr><tr><td>&quot;Il Saggiatore musicale&quot;</td><td>13</td></tr><tr><td>&hellip;</td><td>&hellip;</td></tr><tr><td>&quot;Un processo penale: alcuni asp…</td><td>2</td></tr><tr><td>&quot;A computer assisted surgical t…</td><td>2</td></tr><tr><td>&quot;How to manage the dyspeptic pa…</td><td>2</td></tr><tr><td>&quot;Experimental hemorrhagic shock…</td><td>2</td></tr><tr><td>&quot;Scavo archeologico a Bibracte …</td><td>2</td></tr><tr><td>&quot;Ricerche archeologiche a Monte…</td><td>2</td></tr><tr><td>&quot;Regularities and Variations in…</td><td>2</td></tr><tr><td>&quot;Les représentations réciproque…</td><td>2</td></tr><tr><td>&quot;Amino-functionalized imidazoli…</td><td>2</td></tr><tr><td>&quot;Scavi nell&#x27;area della villa di…</td><td>2</td></tr></tbody></table></div>"
      ],
      "text/plain": [
       "shape: (1_057, 2)\n",
       "┌─────────────────────────────────┬───────┐\n",
       "│ TITLE                           ┆ count │\n",
       "│ ---                             ┆ ---   │\n",
       "│ str                             ┆ u32   │\n",
       "╞═════════════════════════════════╪═══════╡\n",
       "│ Editoriale                      ┆ 37    │\n",
       "│ Prefazione                      ┆ 36    │\n",
       "│ Introduzione                    ┆ 34    │\n",
       "│ Presentazione                   ┆ 31    │\n",
       "│ Osservatorio sulla giurisprude… ┆ 27    │\n",
       "│ Progetto Ostia Marina           ┆ 16    │\n",
       "│ Quaderni costituzionali         ┆ 15    │\n",
       "│ La posta di Bruno D’Amore. Rub… ┆ 15    │\n",
       "│ La rassegna dei lodi e dei ver… ┆ 13    │\n",
       "│ Il Saggiatore musicale          ┆ 13    │\n",
       "│ …                               ┆ …     │\n",
       "│ Un processo penale: alcuni asp… ┆ 2     │\n",
       "│ A computer assisted surgical t… ┆ 2     │\n",
       "│ How to manage the dyspeptic pa… ┆ 2     │\n",
       "│ Experimental hemorrhagic shock… ┆ 2     │\n",
       "│ Scavo archeologico a Bibracte … ┆ 2     │\n",
       "│ Ricerche archeologiche a Monte… ┆ 2     │\n",
       "│ Regularities and Variations in… ┆ 2     │\n",
       "│ Les représentations réciproque… ┆ 2     │\n",
       "│ Amino-functionalized imidazoli… ┆ 2     │\n",
       "│ Scavi nell'area della villa di… ┆ 2     │\n",
       "└─────────────────────────────────┴───────┘"
      ]
     },
     "execution_count": 8,
     "metadata": {},
     "output_type": "execute_result"
    }
   ],
   "source": [
    "pl.Config.set_tbl_rows(20)\n",
    "\n",
    "dupes.group_by('TITLE').agg(pl.count('TITLE').alias('count')).sort('count', descending=True) #check duplicates' types"
   ]
  },
  {
   "cell_type": "code",
   "execution_count": 9,
   "metadata": {},
   "outputs": [
    {
     "data": {
      "text/plain": [
       "101742"
      ]
     },
     "execution_count": 9,
     "metadata": {},
     "output_type": "execute_result"
    }
   ],
   "source": [
    "inoid_df = inoid_df.unique(('TITLE', 'DES_ALLPEOPLE'), keep='first', maintain_order=True) # keep first occurence of each duplicate\n",
    "inoid_df.__len__()"
   ]
  },
  {
   "cell_type": "code",
   "execution_count": 10,
   "metadata": {},
   "outputs": [
    {
     "data": {
      "text/html": [
       "<div><style>\n",
       ".dataframe > thead > tr,\n",
       ".dataframe > tbody > tr {\n",
       "  text-align: right;\n",
       "  white-space: pre-wrap;\n",
       "}\n",
       "</style>\n",
       "<small>shape: (3_309, 14)</small><table border=\"1\" class=\"dataframe\"><thead><tr><th>ITEM_ID</th><th>IDE_DOI</th><th>IDE_ISBN</th><th>IDE_PMID</th><th>OWNING_COLLECTION</th><th>OWNING_COLLECTION_DES</th><th>DES_ALLPEOPLE</th><th>DES_NUMBEROFAUTHORS</th><th>DATE_ISSUED_YEAR</th><th>TITLE</th><th>PUB_NAME</th><th>PUB_PLACE</th><th>PUB_COUNTRY</th><th>LAN_ISO</th></tr><tr><td>i64</td><td>str</td><td>str</td><td>str</td><td>i64</td><td>str</td><td>str</td><td>i64</td><td>i64</td><td>str</td><td>str</td><td>str</td><td>str</td><td>str</td></tr></thead><tbody><tr><td>181450</td><td>null</td><td>null</td><td>null</td><td>79</td><td>&quot;8.02 Ruolo editoriale in colla…</td><td>&quot;carla corradi&quot;</td><td>1</td><td>2012</td><td>&quot;&quot;Autunnonero. Studi sul folklo…</td><td>null</td><td>null</td><td>null</td><td>null</td></tr><tr><td>188635</td><td>null</td><td>null</td><td>null</td><td>79</td><td>&quot;8.02 Ruolo editoriale in colla…</td><td>&quot;carla, corradi musi&quot;</td><td>1</td><td>2014</td><td>&quot;&quot;Autunnonero. Studi sul folklo…</td><td>null</td><td>null</td><td>null</td><td>null</td></tr><tr><td>109455</td><td>null</td><td>null</td><td>null</td><td>78</td><td>&quot;8.01 Ruolo editoriale in rivis…</td><td>&quot;biondi c.&quot;</td><td>1</td><td>2008</td><td>&quot;&quot;Francofonia&quot;&quot;</td><td>&quot;Olschki&quot;</td><td>&quot;FIRENZE&quot;</td><td>&quot;ITA&quot;</td><td>null</td></tr><tr><td>86510</td><td>null</td><td>null</td><td>null</td><td>78</td><td>&quot;8.01 Ruolo editoriale in rivis…</td><td>&quot;c. biondi-direttore&quot;</td><td>1</td><td>2006</td><td>&quot;&quot;Francofonia&quot;&quot;</td><td>&quot;Olschki&quot;</td><td>&quot;FIRENZE&quot;</td><td>&quot;ITA&quot;</td><td>null</td></tr><tr><td>67340</td><td>null</td><td>null</td><td>null</td><td>78</td><td>&quot;8.01 Ruolo editoriale in rivis…</td><td>&quot;c.valenti&quot;</td><td>1</td><td>2005</td><td>&quot;&quot;ScenarioNews&quot;&quot;</td><td>&quot;www.associazionescenario.it&quot;</td><td>&quot;PERUGIA&quot;</td><td>&quot;ITA&quot;</td><td>null</td></tr><tr><td>87401</td><td>null</td><td>null</td><td>null</td><td>78</td><td>&quot;8.01 Ruolo editoriale in rivis…</td><td>&quot;cristina valenti&quot;</td><td>1</td><td>2006</td><td>&quot;&quot;ScenarioNews&quot;&quot;</td><td>&quot;www.associazionescenario.it&quot;</td><td>&quot;BOLOGNA&quot;</td><td>&quot;ITA&quot;</td><td>null</td></tr><tr><td>148807</td><td>null</td><td>null</td><td>null</td><td>57</td><td>&quot;4.01 Contributo in Atti di con…</td><td>&quot;g. martorana; r. schiavina; e.…</td><td>21</td><td>2007</td><td>&quot;11 C-CHOLINE-PET/CT FOR PREOPE…</td><td>&quot;s.n&quot;</td><td>&quot;s.l&quot;</td><td>null</td><td>&quot;eng&quot;</td></tr><tr><td>157687</td><td>null</td><td>null</td><td>null</td><td>58</td><td>&quot;4.02 Riassunto (Abstract)&quot;</td><td>&quot;martorana g.; schiavina r.; br…</td><td>21</td><td>2007</td><td>&quot;11 C-CHOLINE-PET/CT FOR PREOPE…</td><td>null</td><td>null</td><td>null</td><td>&quot;eng&quot;</td></tr><tr><td>89084</td><td>null</td><td>null</td><td>null</td><td>81</td><td>&quot;8.04 Coordinamento di progetti…</td><td>&quot;c. pozzana; a. russo; t. barlo…</td><td>4</td><td>2006</td><td>&quot;20th Century China Research Pr…</td><td>null</td><td>null</td><td>null</td><td>null</td></tr><tr><td>102321</td><td>null</td><td>null</td><td>null</td><td>81</td><td>&quot;8.04 Coordinamento di progetti…</td><td>&quot;pozzana claudia; russo alessan…</td><td>4</td><td>2007</td><td>&quot;20th Century China Research Pr…</td><td>null</td><td>null</td><td>null</td><td>null</td></tr><tr><td>&hellip;</td><td>&hellip;</td><td>&hellip;</td><td>&hellip;</td><td>&hellip;</td><td>&hellip;</td><td>&hellip;</td><td>&hellip;</td><td>&hellip;</td><td>&hellip;</td><td>&hellip;</td><td>&hellip;</td><td>&hellip;</td><td>&hellip;</td></tr><tr><td>250118</td><td>null</td><td>null</td><td>null</td><td>78</td><td>&quot;8.01 Ruolo editoriale in rivis…</td><td>&quot;ruini, cesarino&quot;</td><td>1</td><td>9999</td><td>&quot;«MUSICA DOCTA». Rivista digita…</td><td>null</td><td>null</td><td>null</td><td>null</td></tr><tr><td>171723</td><td>null</td><td>null</td><td>null</td><td>78</td><td>&quot;8.01 Ruolo editoriale in rivis…</td><td>&quot;ruini c.&quot;</td><td>1</td><td>2013</td><td>&quot;«MUSICA DOCTA». Rivista digita…</td><td>null</td><td>null</td><td>null</td><td>null</td></tr><tr><td>798200</td><td>null</td><td>null</td><td>null</td><td>78</td><td>&quot;8.01 Ruolo editoriale in rivis…</td><td>&quot;luca vaccaro&quot;</td><td>null</td><td>9999</td><td>&quot;«Schede Umanistiche. Antichi e…</td><td>null</td><td>null</td><td>null</td><td>null</td></tr><tr><td>672273</td><td>null</td><td>null</td><td>null</td><td>78</td><td>&quot;8.01 Ruolo editoriale in rivis…</td><td>&quot;vaccaro, luca&quot;</td><td>null</td><td>2022</td><td>&quot;«Schede Umanistiche. Antichi e…</td><td>null</td><td>null</td><td>null</td><td>null</td></tr><tr><td>628268</td><td>null</td><td>null</td><td>null</td><td>35</td><td>&quot;1.01 Articolo in rivista&quot;</td><td>&quot;yves bardière, cristiana cervi…</td><td>3</td><td>2021</td><td>&quot;Évaluation des acquisitions la…</td><td>null</td><td>null</td><td>null</td><td>&quot;fre&quot;</td></tr><tr><td>628271</td><td>null</td><td>null</td><td>null</td><td>50</td><td>&quot;3.02 Curatela&quot;</td><td>&quot;monica masperi, cristiana cerv…</td><td>3</td><td>2021</td><td>&quot;Évaluation des acquisitions la…</td><td>&quot;Mediazioni&quot;</td><td>&quot;Bologna/Forlì&quot;</td><td>&quot;ITA&quot;</td><td>&quot;eng; fre; ita&quot;</td></tr><tr><td>96401</td><td>null</td><td>null</td><td>null</td><td>81</td><td>&quot;8.04 Coordinamento di progetti…</td><td>&quot;r. baldelli&quot;</td><td>1</td><td>2007</td><td>&quot;“Monitoraggio sierologico per …</td><td>null</td><td>null</td><td>null</td><td>null</td></tr><tr><td>72115</td><td>null</td><td>null</td><td>null</td><td>81</td><td>&quot;8.04 Coordinamento di progetti…</td><td>&quot;raffaella baldelli&quot;</td><td>1</td><td>2004</td><td>&quot;“Monitoraggio sierologico per …</td><td>null</td><td>null</td><td>null</td><td>null</td></tr><tr><td>635160</td><td>null</td><td>null</td><td>null</td><td>41</td><td>&quot;2.01 Capitolo / saggio in libr…</td><td>&quot;marco lamandini; filippo annun…</td><td>2</td><td>2021</td><td>&quot;“Questo è un nodo avviluppato”…</td><td>&quot;Il Mulino&quot;</td><td>&quot;Bologna&quot;</td><td>&quot;ITA&quot;</td><td>&quot;ita&quot;</td></tr><tr><td>698848</td><td>null</td><td>null</td><td>null</td><td>35</td><td>&quot;1.01 Articolo in rivista&quot;</td><td>&quot;marco lamandini; filippo annun…</td><td>2</td><td>2022</td><td>&quot;“Questo è un nodo avviluppato”…</td><td>null</td><td>null</td><td>null</td><td>&quot;ita&quot;</td></tr></tbody></table></div>"
      ],
      "text/plain": [
       "shape: (3_309, 14)\n",
       "┌─────────┬─────────┬──────────┬──────────┬───┬─────────────┬────────────┬────────────┬────────────┐\n",
       "│ ITEM_ID ┆ IDE_DOI ┆ IDE_ISBN ┆ IDE_PMID ┆ … ┆ PUB_NAME    ┆ PUB_PLACE  ┆ PUB_COUNTR ┆ LAN_ISO    │\n",
       "│ ---     ┆ ---     ┆ ---      ┆ ---      ┆   ┆ ---         ┆ ---        ┆ Y          ┆ ---        │\n",
       "│ i64     ┆ str     ┆ str      ┆ str      ┆   ┆ str         ┆ str        ┆ ---        ┆ str        │\n",
       "│         ┆         ┆          ┆          ┆   ┆             ┆            ┆ str        ┆            │\n",
       "╞═════════╪═════════╪══════════╪══════════╪═══╪═════════════╪════════════╪════════════╪════════════╡\n",
       "│ 181450  ┆ null    ┆ null     ┆ null     ┆ … ┆ null        ┆ null       ┆ null       ┆ null       │\n",
       "│ 188635  ┆ null    ┆ null     ┆ null     ┆ … ┆ null        ┆ null       ┆ null       ┆ null       │\n",
       "│ 109455  ┆ null    ┆ null     ┆ null     ┆ … ┆ Olschki     ┆ FIRENZE    ┆ ITA        ┆ null       │\n",
       "│ 86510   ┆ null    ┆ null     ┆ null     ┆ … ┆ Olschki     ┆ FIRENZE    ┆ ITA        ┆ null       │\n",
       "│ 67340   ┆ null    ┆ null     ┆ null     ┆ … ┆ www.associa ┆ PERUGIA    ┆ ITA        ┆ null       │\n",
       "│         ┆         ┆          ┆          ┆   ┆ zionescenar ┆            ┆            ┆            │\n",
       "│         ┆         ┆          ┆          ┆   ┆ io.it       ┆            ┆            ┆            │\n",
       "│ 87401   ┆ null    ┆ null     ┆ null     ┆ … ┆ www.associa ┆ BOLOGNA    ┆ ITA        ┆ null       │\n",
       "│         ┆         ┆          ┆          ┆   ┆ zionescenar ┆            ┆            ┆            │\n",
       "│         ┆         ┆          ┆          ┆   ┆ io.it       ┆            ┆            ┆            │\n",
       "│ 148807  ┆ null    ┆ null     ┆ null     ┆ … ┆ s.n         ┆ s.l        ┆ null       ┆ eng        │\n",
       "│ 157687  ┆ null    ┆ null     ┆ null     ┆ … ┆ null        ┆ null       ┆ null       ┆ eng        │\n",
       "│ 89084   ┆ null    ┆ null     ┆ null     ┆ … ┆ null        ┆ null       ┆ null       ┆ null       │\n",
       "│ 102321  ┆ null    ┆ null     ┆ null     ┆ … ┆ null        ┆ null       ┆ null       ┆ null       │\n",
       "│ …       ┆ …       ┆ …        ┆ …        ┆ … ┆ …           ┆ …          ┆ …          ┆ …          │\n",
       "│ 250118  ┆ null    ┆ null     ┆ null     ┆ … ┆ null        ┆ null       ┆ null       ┆ null       │\n",
       "│ 171723  ┆ null    ┆ null     ┆ null     ┆ … ┆ null        ┆ null       ┆ null       ┆ null       │\n",
       "│ 798200  ┆ null    ┆ null     ┆ null     ┆ … ┆ null        ┆ null       ┆ null       ┆ null       │\n",
       "│ 672273  ┆ null    ┆ null     ┆ null     ┆ … ┆ null        ┆ null       ┆ null       ┆ null       │\n",
       "│ 628268  ┆ null    ┆ null     ┆ null     ┆ … ┆ null        ┆ null       ┆ null       ┆ fre        │\n",
       "│ 628271  ┆ null    ┆ null     ┆ null     ┆ … ┆ Mediazioni  ┆ Bologna/Fo ┆ ITA        ┆ eng; fre;  │\n",
       "│         ┆         ┆          ┆          ┆   ┆             ┆ rlì        ┆            ┆ ita        │\n",
       "│ 96401   ┆ null    ┆ null     ┆ null     ┆ … ┆ null        ┆ null       ┆ null       ┆ null       │\n",
       "│ 72115   ┆ null    ┆ null     ┆ null     ┆ … ┆ null        ┆ null       ┆ null       ┆ null       │\n",
       "│ 635160  ┆ null    ┆ null     ┆ null     ┆ … ┆ Il Mulino   ┆ Bologna    ┆ ITA        ┆ ita        │\n",
       "│ 698848  ┆ null    ┆ null     ┆ null     ┆ … ┆ null        ┆ null       ┆ null       ┆ ita        │\n",
       "└─────────┴─────────┴──────────┴──────────┴───┴─────────────┴────────────┴────────────┴────────────┘"
      ]
     },
     "execution_count": 10,
     "metadata": {},
     "output_type": "execute_result"
    }
   ],
   "source": [
    "dupes = inoid_df.filter(pl.struct('TITLE').is_duplicated()).sort('TITLE')\n",
    "dupes"
   ]
  },
  {
   "cell_type": "markdown",
   "metadata": {},
   "source": [
    "### Quantitative analysis"
   ]
  },
  {
   "cell_type": "markdown",
   "metadata": {},
   "source": [
    "#### Type analysis"
   ]
  },
  {
   "cell_type": "code",
   "execution_count": 15,
   "metadata": {},
   "outputs": [
    {
     "data": {
      "text/html": [
       "<div><style>\n",
       ".dataframe > thead > tr,\n",
       ".dataframe > tbody > tr {\n",
       "  text-align: right;\n",
       "  white-space: pre-wrap;\n",
       "}\n",
       "</style>\n",
       "<small>shape: (50, 3)</small><table border=\"1\" class=\"dataframe\"><thead><tr><th>OWNING_COLLECTION_DES</th><th>count</th><th>percentage</th></tr><tr><td>str</td><td>u32</td><td>f64</td></tr></thead><tbody><tr><td>&quot;1.01 Articolo in rivista&quot;</td><td>37463</td><td>36.821568</td></tr><tr><td>&quot;4.02 Riassunto (Abstract)&quot;</td><td>16162</td><td>15.885278</td></tr><tr><td>&quot;4.01 Contributo in Atti di con…</td><td>13163</td><td>12.937627</td></tr><tr><td>&quot;2.01 Capitolo / saggio in libr…</td><td>6587</td><td>6.474219</td></tr><tr><td>&quot;1.03 Recensione in rivista&quot;</td><td>5315</td><td>5.223998</td></tr><tr><td>&quot;8.01 Ruolo editoriale in rivis…</td><td>2604</td><td>2.559415</td></tr><tr><td>&quot;8.04 Coordinamento di progetti…</td><td>2363</td><td>2.322541</td></tr><tr><td>&quot;1.06 Abstract in rivista&quot;</td><td>2180</td><td>2.142675</td></tr><tr><td>&quot;4.03 Poster&quot;</td><td>1905</td><td>1.872383</td></tr><tr><td>&quot;7.12 Attività espositiva:Mostr…</td><td>1793</td><td>1.762301</td></tr><tr><td>&hellip;</td><td>&hellip;</td><td>&hellip;</td></tr><tr><td>&quot;3.07 Bibliografia&quot;</td><td>16</td><td>0.015726</td></tr><tr><td>&quot;7.15 Test psicologici&quot;</td><td>14</td><td>0.01376</td></tr><tr><td>&quot;7.07 Prodotto artistico e spet…</td><td>8</td><td>0.007863</td></tr><tr><td>&quot;7.08 Prodotto artistico e spet…</td><td>7</td><td>0.00688</td></tr><tr><td>&quot;3.06 Indice&quot;</td><td>6</td><td>0.005897</td></tr><tr><td>&quot;3.08 Edizione annotata/scolast…</td><td>4</td><td>0.003932</td></tr><tr><td>&quot;3.05 Concordanze&quot;</td><td>3</td><td>0.002949</td></tr><tr><td>&quot;7.06 Prodotto artistico e spet…</td><td>3</td><td>0.002949</td></tr><tr><td>&quot;7.11 Prodotto artistico e spet…</td><td>3</td><td>0.002949</td></tr><tr><td>null</td><td>0</td><td>0.0</td></tr></tbody></table></div>"
      ],
      "text/plain": [
       "shape: (50, 3)\n",
       "┌─────────────────────────────────┬───────┬────────────┐\n",
       "│ OWNING_COLLECTION_DES           ┆ count ┆ percentage │\n",
       "│ ---                             ┆ ---   ┆ ---        │\n",
       "│ str                             ┆ u32   ┆ f64        │\n",
       "╞═════════════════════════════════╪═══════╪════════════╡\n",
       "│ 1.01 Articolo in rivista        ┆ 37463 ┆ 36.821568  │\n",
       "│ 4.02 Riassunto (Abstract)       ┆ 16162 ┆ 15.885278  │\n",
       "│ 4.01 Contributo in Atti di con… ┆ 13163 ┆ 12.937627  │\n",
       "│ 2.01 Capitolo / saggio in libr… ┆ 6587  ┆ 6.474219   │\n",
       "│ 1.03 Recensione in rivista      ┆ 5315  ┆ 5.223998   │\n",
       "│ 8.01 Ruolo editoriale in rivis… ┆ 2604  ┆ 2.559415   │\n",
       "│ 8.04 Coordinamento di progetti… ┆ 2363  ┆ 2.322541   │\n",
       "│ 1.06 Abstract in rivista        ┆ 2180  ┆ 2.142675   │\n",
       "│ 4.03 Poster                     ┆ 1905  ┆ 1.872383   │\n",
       "│ 7.12 Attività espositiva:Mostr… ┆ 1793  ┆ 1.762301   │\n",
       "│ …                               ┆ …     ┆ …          │\n",
       "│ 3.07 Bibliografia               ┆ 16    ┆ 0.015726   │\n",
       "│ 7.15 Test psicologici           ┆ 14    ┆ 0.01376    │\n",
       "│ 7.07 Prodotto artistico e spet… ┆ 8     ┆ 0.007863   │\n",
       "│ 7.08 Prodotto artistico e spet… ┆ 7     ┆ 0.00688    │\n",
       "│ 3.06 Indice                     ┆ 6     ┆ 0.005897   │\n",
       "│ 3.08 Edizione annotata/scolast… ┆ 4     ┆ 0.003932   │\n",
       "│ 3.05 Concordanze                ┆ 3     ┆ 0.002949   │\n",
       "│ 7.06 Prodotto artistico e spet… ┆ 3     ┆ 0.002949   │\n",
       "│ 7.11 Prodotto artistico e spet… ┆ 3     ┆ 0.002949   │\n",
       "│ null                            ┆ 0     ┆ 0.0        │\n",
       "└─────────────────────────────────┴───────┴────────────┘"
      ]
     },
     "execution_count": 15,
     "metadata": {},
     "output_type": "execute_result"
    }
   ],
   "source": [
    "# type count\n",
    "inoid_df.group_by('OWNING_COLLECTION_DES').agg(pl.len()).sort('len', descending=True)\n",
    "\n",
    "#percentage of each type\n",
    "inoid_df.group_by('OWNING_COLLECTION_DES').agg(pl.count('OWNING_COLLECTION_DES').alias('count')).with_columns(\n",
    "    (pl.col('count') / inoid_df.__len__() * 100).alias('percentage')\n",
    ").sort('percentage', descending=True)"
   ]
  },
  {
   "cell_type": "markdown",
   "metadata": {},
   "source": [
    "#### Geographical analysis"
   ]
  },
  {
   "cell_type": "code",
   "execution_count": 32,
   "metadata": {},
   "outputs": [
    {
     "data": {
      "text/plain": [
       "73.40036563071298"
      ]
     },
     "execution_count": 32,
     "metadata": {},
     "output_type": "execute_result"
    }
   ],
   "source": [
    "74679 / inoid_df.__len__()   * 100"
   ]
  },
  {
   "cell_type": "code",
   "execution_count": 30,
   "metadata": {},
   "outputs": [
    {
     "data": {
      "text/html": [
       "<div><style>\n",
       ".dataframe > thead > tr,\n",
       ".dataframe > tbody > tr {\n",
       "  text-align: right;\n",
       "  white-space: pre-wrap;\n",
       "}\n",
       "</style>\n",
       "<small>shape: (115, 3)</small><table border=\"1\" class=\"dataframe\"><thead><tr><th>PUB_COUNTRY</th><th>count</th><th>percentage</th></tr><tr><td>str</td><td>u32</td><td>f64</td></tr></thead><tbody><tr><td>null</td><td>74679</td><td>73.400366</td></tr><tr><td>&quot;ITA&quot;</td><td>17764</td><td>17.459849</td></tr><tr><td>&quot;USA&quot;</td><td>1985</td><td>1.951013</td></tr><tr><td>&quot;GBR&quot;</td><td>1040</td><td>1.022193</td></tr><tr><td>&quot;DEU&quot;</td><td>983</td><td>0.966169</td></tr><tr><td>&quot;FRA&quot;</td><td>800</td><td>0.786303</td></tr><tr><td>&quot;ESP&quot;</td><td>534</td><td>0.524857</td></tr><tr><td>&quot;NLD&quot;</td><td>490</td><td>0.48161</td></tr><tr><td>&quot;BEL&quot;</td><td>350</td><td>0.344007</td></tr><tr><td>&quot;CHE&quot;</td><td>252</td><td>0.247685</td></tr><tr><td>&hellip;</td><td>&hellip;</td><td>&hellip;</td></tr><tr><td>&quot;BVT&quot;</td><td>1</td><td>0.000983</td></tr><tr><td>&quot;ATA&quot;</td><td>1</td><td>0.000983</td></tr><tr><td>&quot;LBN&quot;</td><td>1</td><td>0.000983</td></tr><tr><td>&quot;GAB&quot;</td><td>1</td><td>0.000983</td></tr><tr><td>&quot;BHR&quot;</td><td>1</td><td>0.000983</td></tr><tr><td>&quot;BLR&quot;</td><td>1</td><td>0.000983</td></tr><tr><td>&quot;BHS&quot;</td><td>1</td><td>0.000983</td></tr><tr><td>&quot;DZA&quot;</td><td>1</td><td>0.000983</td></tr><tr><td>&quot;KAZ&quot;</td><td>1</td><td>0.000983</td></tr><tr><td>&quot;PAN&quot;</td><td>1</td><td>0.000983</td></tr></tbody></table></div>"
      ],
      "text/plain": [
       "shape: (115, 3)\n",
       "┌─────────────┬───────┬────────────┐\n",
       "│ PUB_COUNTRY ┆ count ┆ percentage │\n",
       "│ ---         ┆ ---   ┆ ---        │\n",
       "│ str         ┆ u32   ┆ f64        │\n",
       "╞═════════════╪═══════╪════════════╡\n",
       "│ null        ┆ 74679 ┆ 73.400366  │\n",
       "│ ITA         ┆ 17764 ┆ 17.459849  │\n",
       "│ USA         ┆ 1985  ┆ 1.951013   │\n",
       "│ GBR         ┆ 1040  ┆ 1.022193   │\n",
       "│ DEU         ┆ 983   ┆ 0.966169   │\n",
       "│ FRA         ┆ 800   ┆ 0.786303   │\n",
       "│ ESP         ┆ 534   ┆ 0.524857   │\n",
       "│ NLD         ┆ 490   ┆ 0.48161    │\n",
       "│ BEL         ┆ 350   ┆ 0.344007   │\n",
       "│ CHE         ┆ 252   ┆ 0.247685   │\n",
       "│ …           ┆ …     ┆ …          │\n",
       "│ BVT         ┆ 1     ┆ 0.000983   │\n",
       "│ ATA         ┆ 1     ┆ 0.000983   │\n",
       "│ LBN         ┆ 1     ┆ 0.000983   │\n",
       "│ GAB         ┆ 1     ┆ 0.000983   │\n",
       "│ BHR         ┆ 1     ┆ 0.000983   │\n",
       "│ BLR         ┆ 1     ┆ 0.000983   │\n",
       "│ BHS         ┆ 1     ┆ 0.000983   │\n",
       "│ DZA         ┆ 1     ┆ 0.000983   │\n",
       "│ KAZ         ┆ 1     ┆ 0.000983   │\n",
       "│ PAN         ┆ 1     ┆ 0.000983   │\n",
       "└─────────────┴───────┴────────────┘"
      ]
     },
     "execution_count": 30,
     "metadata": {},
     "output_type": "execute_result"
    }
   ],
   "source": [
    "inoid_df.group_by('PUB_COUNTRY').agg(pl.len()).sort('len', descending=True)\n",
    "\n",
    "#percentage of each type\n",
    "inoid_df.group_by('PUB_COUNTRY').agg(pl.len().alias('count')).with_columns(\n",
    "    (pl.col('count') / inoid_df.__len__() * 100).alias('percentage')\n",
    ").sort('percentage', descending=True)"
   ]
  },
  {
   "cell_type": "markdown",
   "metadata": {},
   "source": [
    "#### Temporal analysis"
   ]
  },
  {
   "cell_type": "code",
   "execution_count": 34,
   "metadata": {},
   "outputs": [
    {
     "data": {
      "text/html": [
       "<div><style>\n",
       ".dataframe > thead > tr,\n",
       ".dataframe > tbody > tr {\n",
       "  text-align: right;\n",
       "  white-space: pre-wrap;\n",
       "}\n",
       "</style>\n",
       "<small>shape: (50, 2)</small><table border=\"1\" class=\"dataframe\"><thead><tr><th>DATE_ISSUED_YEAR</th><th>len</th></tr><tr><td>date</td><td>u32</td></tr></thead><tbody><tr><td>2005-01-01</td><td>8334</td></tr><tr><td>2006-01-01</td><td>8267</td></tr><tr><td>2007-01-01</td><td>7922</td></tr><tr><td>2004-01-01</td><td>7823</td></tr><tr><td>2008-01-01</td><td>6875</td></tr><tr><td>2009-01-01</td><td>6639</td></tr><tr><td>2010-01-01</td><td>5574</td></tr><tr><td>2012-01-01</td><td>5130</td></tr><tr><td>2013-01-01</td><td>4673</td></tr><tr><td>2011-01-01</td><td>4638</td></tr><tr><td>&hellip;</td><td>&hellip;</td></tr><tr><td>1985-01-01</td><td>14</td></tr><tr><td>1984-01-01</td><td>11</td></tr><tr><td>1983-01-01</td><td>11</td></tr><tr><td>1982-01-01</td><td>8</td></tr><tr><td>2025-01-01</td><td>6</td></tr><tr><td>1977-01-01</td><td>4</td></tr><tr><td>1980-01-01</td><td>3</td></tr><tr><td>1979-01-01</td><td>2</td></tr><tr><td>1981-01-01</td><td>2</td></tr><tr><td>1967-01-01</td><td>1</td></tr></tbody></table></div>"
      ],
      "text/plain": [
       "shape: (50, 2)\n",
       "┌──────────────────┬──────┐\n",
       "│ DATE_ISSUED_YEAR ┆ len  │\n",
       "│ ---              ┆ ---  │\n",
       "│ date             ┆ u32  │\n",
       "╞══════════════════╪══════╡\n",
       "│ 2005-01-01       ┆ 8334 │\n",
       "│ 2006-01-01       ┆ 8267 │\n",
       "│ 2007-01-01       ┆ 7922 │\n",
       "│ 2004-01-01       ┆ 7823 │\n",
       "│ 2008-01-01       ┆ 6875 │\n",
       "│ 2009-01-01       ┆ 6639 │\n",
       "│ 2010-01-01       ┆ 5574 │\n",
       "│ 2012-01-01       ┆ 5130 │\n",
       "│ 2013-01-01       ┆ 4673 │\n",
       "│ 2011-01-01       ┆ 4638 │\n",
       "│ …                ┆ …    │\n",
       "│ 1985-01-01       ┆ 14   │\n",
       "│ 1984-01-01       ┆ 11   │\n",
       "│ 1983-01-01       ┆ 11   │\n",
       "│ 1982-01-01       ┆ 8    │\n",
       "│ 2025-01-01       ┆ 6    │\n",
       "│ 1977-01-01       ┆ 4    │\n",
       "│ 1980-01-01       ┆ 3    │\n",
       "│ 1979-01-01       ┆ 2    │\n",
       "│ 1981-01-01       ┆ 2    │\n",
       "│ 1967-01-01       ┆ 1    │\n",
       "└──────────────────┴──────┘"
      ]
     },
     "execution_count": 34,
     "metadata": {},
     "output_type": "execute_result"
    }
   ],
   "source": [
    "year_df = inoid_df.with_columns(pl.col('DATE_ISSUED_YEAR').cast(pl.String).str.to_date(\"%Y\")).select(pl.col('DATE_ISSUED_YEAR')).group_by('DATE_ISSUED_YEAR').agg(pl.len()).sort('len', descending=True)\n",
    "\n",
    "year_df"
   ]
  },
  {
   "cell_type": "code",
   "execution_count": 35,
   "metadata": {},
   "outputs": [
    {
     "data": {
      "text/html": [
       "<div><style>\n",
       ".dataframe > thead > tr,\n",
       ".dataframe > tbody > tr {\n",
       "  text-align: right;\n",
       "  white-space: pre-wrap;\n",
       "}\n",
       "</style>\n",
       "<small>shape: (1, 2)</small><table border=\"1\" class=\"dataframe\"><thead><tr><th>DATE_ISSUED_YEAR</th><th>len</th></tr><tr><td>date</td><td>u32</td></tr></thead><tbody><tr><td>9999-01-01</td><td>2443</td></tr></tbody></table></div>"
      ],
      "text/plain": [
       "shape: (1, 2)\n",
       "┌──────────────────┬──────┐\n",
       "│ DATE_ISSUED_YEAR ┆ len  │\n",
       "│ ---              ┆ ---  │\n",
       "│ date             ┆ u32  │\n",
       "╞══════════════════╪══════╡\n",
       "│ 9999-01-01       ┆ 2443 │\n",
       "└──────────────────┴──────┘"
      ]
     },
     "execution_count": 35,
     "metadata": {},
     "output_type": "execute_result"
    }
   ],
   "source": [
    "year_df.filter(pl.col('DATE_ISSUED_YEAR').dt.year() > 2025)\n",
    "#2443 elements with year 9999"
   ]
  },
  {
   "cell_type": "code",
   "execution_count": 36,
   "metadata": {},
   "outputs": [],
   "source": [
    "iris_year_df = iris_df.with_columns(pl.col('DATE_ISSUED_YEAR').cast(pl.String).str.to_date(\"%Y\")).select(pl.col('DATE_ISSUED_YEAR')).group_by('DATE_ISSUED_YEAR').agg(pl.len()).sort('len', descending=True)"
   ]
  },
  {
   "cell_type": "code",
   "execution_count": 37,
   "metadata": {},
   "outputs": [
    {
     "data": {
      "application/vnd.microsoft.datawrangler.viewer.v0+json": {
       "columns": [
        {
         "name": "index",
         "rawType": "int64",
         "type": "integer"
        },
        {
         "name": "DATE_ISSUED_YEAR",
         "rawType": "int32",
         "type": "integer"
        },
        {
         "name": "len",
         "rawType": "uint32",
         "type": "integer"
        }
       ],
       "conversionMethod": "pd.DataFrame",
       "ref": "cec4dcfa-5f82-4e05-a1f6-0d399edaca4f",
       "rows": [
        [
         "0",
         "1967",
         "1"
        ],
        [
         "1",
         "1977",
         "4"
        ],
        [
         "2",
         "1979",
         "2"
        ],
        [
         "3",
         "1980",
         "3"
        ],
        [
         "4",
         "1981",
         "2"
        ],
        [
         "5",
         "1982",
         "8"
        ],
        [
         "6",
         "1983",
         "11"
        ],
        [
         "7",
         "1984",
         "11"
        ],
        [
         "8",
         "1985",
         "14"
        ],
        [
         "9",
         "1986",
         "19"
        ],
        [
         "10",
         "1987",
         "18"
        ],
        [
         "11",
         "1988",
         "27"
        ],
        [
         "12",
         "1989",
         "43"
        ],
        [
         "13",
         "1990",
         "52"
        ],
        [
         "14",
         "1991",
         "53"
        ],
        [
         "15",
         "1992",
         "65"
        ],
        [
         "16",
         "1993",
         "71"
        ],
        [
         "17",
         "1994",
         "63"
        ],
        [
         "18",
         "1995",
         "75"
        ],
        [
         "19",
         "1996",
         "111"
        ],
        [
         "20",
         "1997",
         "125"
        ],
        [
         "21",
         "1998",
         "129"
        ],
        [
         "22",
         "1999",
         "153"
        ],
        [
         "23",
         "2000",
         "168"
        ],
        [
         "24",
         "2001",
         "217"
        ],
        [
         "25",
         "2002",
         "213"
        ],
        [
         "26",
         "2003",
         "201"
        ],
        [
         "27",
         "2004",
         "7823"
        ],
        [
         "28",
         "2005",
         "8334"
        ],
        [
         "29",
         "2006",
         "8267"
        ],
        [
         "30",
         "2007",
         "7922"
        ],
        [
         "31",
         "2008",
         "6875"
        ],
        [
         "32",
         "2009",
         "6639"
        ],
        [
         "33",
         "2010",
         "5574"
        ],
        [
         "34",
         "2011",
         "4638"
        ],
        [
         "35",
         "2012",
         "5130"
        ],
        [
         "36",
         "2013",
         "4673"
        ],
        [
         "37",
         "2014",
         "3991"
        ],
        [
         "38",
         "2015",
         "3569"
        ],
        [
         "39",
         "2016",
         "3526"
        ],
        [
         "40",
         "2017",
         "3758"
        ],
        [
         "41",
         "2018",
         "3320"
        ],
        [
         "42",
         "2019",
         "3214"
        ],
        [
         "43",
         "2020",
         "2544"
        ],
        [
         "44",
         "2021",
         "2632"
        ],
        [
         "45",
         "2022",
         "2619"
        ],
        [
         "46",
         "2023",
         "2147"
        ],
        [
         "47",
         "2024",
         "239"
        ],
        [
         "48",
         "2025",
         "6"
        ]
       ],
       "shape": {
        "columns": 2,
        "rows": 49
       }
      },
      "text/html": [
       "<div>\n",
       "<style scoped>\n",
       "    .dataframe tbody tr th:only-of-type {\n",
       "        vertical-align: middle;\n",
       "    }\n",
       "\n",
       "    .dataframe tbody tr th {\n",
       "        vertical-align: top;\n",
       "    }\n",
       "\n",
       "    .dataframe thead th {\n",
       "        text-align: right;\n",
       "    }\n",
       "</style>\n",
       "<table border=\"1\" class=\"dataframe\">\n",
       "  <thead>\n",
       "    <tr style=\"text-align: right;\">\n",
       "      <th></th>\n",
       "      <th>DATE_ISSUED_YEAR</th>\n",
       "      <th>len</th>\n",
       "    </tr>\n",
       "  </thead>\n",
       "  <tbody>\n",
       "    <tr>\n",
       "      <th>0</th>\n",
       "      <td>1967</td>\n",
       "      <td>1</td>\n",
       "    </tr>\n",
       "    <tr>\n",
       "      <th>1</th>\n",
       "      <td>1977</td>\n",
       "      <td>4</td>\n",
       "    </tr>\n",
       "    <tr>\n",
       "      <th>2</th>\n",
       "      <td>1979</td>\n",
       "      <td>2</td>\n",
       "    </tr>\n",
       "    <tr>\n",
       "      <th>3</th>\n",
       "      <td>1980</td>\n",
       "      <td>3</td>\n",
       "    </tr>\n",
       "    <tr>\n",
       "      <th>4</th>\n",
       "      <td>1981</td>\n",
       "      <td>2</td>\n",
       "    </tr>\n",
       "    <tr>\n",
       "      <th>5</th>\n",
       "      <td>1982</td>\n",
       "      <td>8</td>\n",
       "    </tr>\n",
       "    <tr>\n",
       "      <th>6</th>\n",
       "      <td>1983</td>\n",
       "      <td>11</td>\n",
       "    </tr>\n",
       "    <tr>\n",
       "      <th>7</th>\n",
       "      <td>1984</td>\n",
       "      <td>11</td>\n",
       "    </tr>\n",
       "    <tr>\n",
       "      <th>8</th>\n",
       "      <td>1985</td>\n",
       "      <td>14</td>\n",
       "    </tr>\n",
       "    <tr>\n",
       "      <th>9</th>\n",
       "      <td>1986</td>\n",
       "      <td>19</td>\n",
       "    </tr>\n",
       "    <tr>\n",
       "      <th>10</th>\n",
       "      <td>1987</td>\n",
       "      <td>18</td>\n",
       "    </tr>\n",
       "    <tr>\n",
       "      <th>11</th>\n",
       "      <td>1988</td>\n",
       "      <td>27</td>\n",
       "    </tr>\n",
       "    <tr>\n",
       "      <th>12</th>\n",
       "      <td>1989</td>\n",
       "      <td>43</td>\n",
       "    </tr>\n",
       "    <tr>\n",
       "      <th>13</th>\n",
       "      <td>1990</td>\n",
       "      <td>52</td>\n",
       "    </tr>\n",
       "    <tr>\n",
       "      <th>14</th>\n",
       "      <td>1991</td>\n",
       "      <td>53</td>\n",
       "    </tr>\n",
       "    <tr>\n",
       "      <th>15</th>\n",
       "      <td>1992</td>\n",
       "      <td>65</td>\n",
       "    </tr>\n",
       "    <tr>\n",
       "      <th>16</th>\n",
       "      <td>1993</td>\n",
       "      <td>71</td>\n",
       "    </tr>\n",
       "    <tr>\n",
       "      <th>17</th>\n",
       "      <td>1994</td>\n",
       "      <td>63</td>\n",
       "    </tr>\n",
       "    <tr>\n",
       "      <th>18</th>\n",
       "      <td>1995</td>\n",
       "      <td>75</td>\n",
       "    </tr>\n",
       "    <tr>\n",
       "      <th>19</th>\n",
       "      <td>1996</td>\n",
       "      <td>111</td>\n",
       "    </tr>\n",
       "    <tr>\n",
       "      <th>20</th>\n",
       "      <td>1997</td>\n",
       "      <td>125</td>\n",
       "    </tr>\n",
       "    <tr>\n",
       "      <th>21</th>\n",
       "      <td>1998</td>\n",
       "      <td>129</td>\n",
       "    </tr>\n",
       "    <tr>\n",
       "      <th>22</th>\n",
       "      <td>1999</td>\n",
       "      <td>153</td>\n",
       "    </tr>\n",
       "    <tr>\n",
       "      <th>23</th>\n",
       "      <td>2000</td>\n",
       "      <td>168</td>\n",
       "    </tr>\n",
       "    <tr>\n",
       "      <th>24</th>\n",
       "      <td>2001</td>\n",
       "      <td>217</td>\n",
       "    </tr>\n",
       "    <tr>\n",
       "      <th>25</th>\n",
       "      <td>2002</td>\n",
       "      <td>213</td>\n",
       "    </tr>\n",
       "    <tr>\n",
       "      <th>26</th>\n",
       "      <td>2003</td>\n",
       "      <td>201</td>\n",
       "    </tr>\n",
       "    <tr>\n",
       "      <th>27</th>\n",
       "      <td>2004</td>\n",
       "      <td>7823</td>\n",
       "    </tr>\n",
       "    <tr>\n",
       "      <th>28</th>\n",
       "      <td>2005</td>\n",
       "      <td>8334</td>\n",
       "    </tr>\n",
       "    <tr>\n",
       "      <th>29</th>\n",
       "      <td>2006</td>\n",
       "      <td>8267</td>\n",
       "    </tr>\n",
       "    <tr>\n",
       "      <th>30</th>\n",
       "      <td>2007</td>\n",
       "      <td>7922</td>\n",
       "    </tr>\n",
       "    <tr>\n",
       "      <th>31</th>\n",
       "      <td>2008</td>\n",
       "      <td>6875</td>\n",
       "    </tr>\n",
       "    <tr>\n",
       "      <th>32</th>\n",
       "      <td>2009</td>\n",
       "      <td>6639</td>\n",
       "    </tr>\n",
       "    <tr>\n",
       "      <th>33</th>\n",
       "      <td>2010</td>\n",
       "      <td>5574</td>\n",
       "    </tr>\n",
       "    <tr>\n",
       "      <th>34</th>\n",
       "      <td>2011</td>\n",
       "      <td>4638</td>\n",
       "    </tr>\n",
       "    <tr>\n",
       "      <th>35</th>\n",
       "      <td>2012</td>\n",
       "      <td>5130</td>\n",
       "    </tr>\n",
       "    <tr>\n",
       "      <th>36</th>\n",
       "      <td>2013</td>\n",
       "      <td>4673</td>\n",
       "    </tr>\n",
       "    <tr>\n",
       "      <th>37</th>\n",
       "      <td>2014</td>\n",
       "      <td>3991</td>\n",
       "    </tr>\n",
       "    <tr>\n",
       "      <th>38</th>\n",
       "      <td>2015</td>\n",
       "      <td>3569</td>\n",
       "    </tr>\n",
       "    <tr>\n",
       "      <th>39</th>\n",
       "      <td>2016</td>\n",
       "      <td>3526</td>\n",
       "    </tr>\n",
       "    <tr>\n",
       "      <th>40</th>\n",
       "      <td>2017</td>\n",
       "      <td>3758</td>\n",
       "    </tr>\n",
       "    <tr>\n",
       "      <th>41</th>\n",
       "      <td>2018</td>\n",
       "      <td>3320</td>\n",
       "    </tr>\n",
       "    <tr>\n",
       "      <th>42</th>\n",
       "      <td>2019</td>\n",
       "      <td>3214</td>\n",
       "    </tr>\n",
       "    <tr>\n",
       "      <th>43</th>\n",
       "      <td>2020</td>\n",
       "      <td>2544</td>\n",
       "    </tr>\n",
       "    <tr>\n",
       "      <th>44</th>\n",
       "      <td>2021</td>\n",
       "      <td>2632</td>\n",
       "    </tr>\n",
       "    <tr>\n",
       "      <th>45</th>\n",
       "      <td>2022</td>\n",
       "      <td>2619</td>\n",
       "    </tr>\n",
       "    <tr>\n",
       "      <th>46</th>\n",
       "      <td>2023</td>\n",
       "      <td>2147</td>\n",
       "    </tr>\n",
       "    <tr>\n",
       "      <th>47</th>\n",
       "      <td>2024</td>\n",
       "      <td>239</td>\n",
       "    </tr>\n",
       "    <tr>\n",
       "      <th>48</th>\n",
       "      <td>2025</td>\n",
       "      <td>6</td>\n",
       "    </tr>\n",
       "  </tbody>\n",
       "</table>\n",
       "</div>"
      ],
      "text/plain": [
       "    DATE_ISSUED_YEAR   len\n",
       "0               1967     1\n",
       "1               1977     4\n",
       "2               1979     2\n",
       "3               1980     3\n",
       "4               1981     2\n",
       "5               1982     8\n",
       "6               1983    11\n",
       "7               1984    11\n",
       "8               1985    14\n",
       "9               1986    19\n",
       "10              1987    18\n",
       "11              1988    27\n",
       "12              1989    43\n",
       "13              1990    52\n",
       "14              1991    53\n",
       "15              1992    65\n",
       "16              1993    71\n",
       "17              1994    63\n",
       "18              1995    75\n",
       "19              1996   111\n",
       "20              1997   125\n",
       "21              1998   129\n",
       "22              1999   153\n",
       "23              2000   168\n",
       "24              2001   217\n",
       "25              2002   213\n",
       "26              2003   201\n",
       "27              2004  7823\n",
       "28              2005  8334\n",
       "29              2006  8267\n",
       "30              2007  7922\n",
       "31              2008  6875\n",
       "32              2009  6639\n",
       "33              2010  5574\n",
       "34              2011  4638\n",
       "35              2012  5130\n",
       "36              2013  4673\n",
       "37              2014  3991\n",
       "38              2015  3569\n",
       "39              2016  3526\n",
       "40              2017  3758\n",
       "41              2018  3320\n",
       "42              2019  3214\n",
       "43              2020  2544\n",
       "44              2021  2632\n",
       "45              2022  2619\n",
       "46              2023  2147\n",
       "47              2024   239\n",
       "48              2025     6"
      ]
     },
     "execution_count": 37,
     "metadata": {},
     "output_type": "execute_result"
    }
   ],
   "source": [
    "pdf"
   ]
  },
  {
   "cell_type": "code",
   "execution_count": 67,
   "metadata": {},
   "outputs": [
    {
     "data": {
      "text/plain": [
       "0         1\n",
       "3        10\n",
       "5        10\n",
       "6        12\n",
       "7        12\n",
       "8        26\n",
       "9        27\n",
       "10       27\n",
       "11       39\n",
       "12       54\n",
       "13       66\n",
       "14      117\n",
       "15      146\n",
       "16      148\n",
       "17      171\n",
       "18      255\n",
       "19      232\n",
       "20      261\n",
       "21      279\n",
       "22      363\n",
       "23      416\n",
       "24      450\n",
       "25      514\n",
       "26      568\n",
       "27      687\n",
       "28      807\n",
       "29      899\n",
       "30    14064\n",
       "31    14801\n",
       "32    15221\n",
       "33    15522\n",
       "34    15297\n",
       "35    15041\n",
       "36    14583\n",
       "37    14267\n",
       "38    15794\n",
       "39    15229\n",
       "40    14253\n",
       "41    13431\n",
       "42    13911\n",
       "43    14805\n",
       "44    14811\n",
       "45    14980\n",
       "46    14811\n",
       "47    15882\n",
       "48    14545\n",
       "49    12843\n",
       "50     1655\n",
       "51        6\n",
       "Name: len, dtype: uint32"
      ]
     },
     "execution_count": 67,
     "metadata": {},
     "output_type": "execute_result"
    }
   ],
   "source": [
    "iris_pdf[iris_mask]['len']"
   ]
  },
  {
   "cell_type": "code",
   "execution_count": 51,
   "metadata": {},
   "outputs": [
    {
     "ename": "ValueError",
     "evalue": "columns overlap but no suffix specified: Index(['DATE_ISSUED_YEAR', 'len'], dtype='object')",
     "output_type": "error",
     "traceback": [
      "\u001b[0;31m---------------------------------------------------------------------------\u001b[0m",
      "\u001b[0;31mValueError\u001b[0m                                Traceback (most recent call last)",
      "Cell \u001b[0;32mIn[51], line 2\u001b[0m\n\u001b[1;32m      1\u001b[0m \u001b[38;5;66;03m#pdf[pdf_mask].to_csv(\"inoid_time.csv\", index=False)\u001b[39;00m\n\u001b[0;32m----> 2\u001b[0m \u001b[43mpdf\u001b[49m\u001b[43m[\u001b[49m\u001b[43mpdf_mask\u001b[49m\u001b[43m]\u001b[49m\u001b[38;5;241;43m.\u001b[39;49m\u001b[43mjoin\u001b[49m\u001b[43m(\u001b[49m\u001b[43miris_pdf\u001b[49m\u001b[43m[\u001b[49m\u001b[43miris_mask\u001b[49m\u001b[43m]\u001b[49m\u001b[38;5;241;43m.\u001b[39;49m\u001b[43mrename\u001b[49m\u001b[43m(\u001b[49m\u001b[43m{\u001b[49m\u001b[38;5;124;43m'\u001b[39;49m\u001b[38;5;124;43mlen\u001b[39;49m\u001b[38;5;124;43m'\u001b[39;49m\u001b[43m:\u001b[49m\u001b[43m \u001b[49m\u001b[38;5;124;43m'\u001b[39;49m\u001b[38;5;124;43mlen2\u001b[39;49m\u001b[38;5;124;43m'\u001b[39;49m\u001b[43m}\u001b[49m\u001b[43m)\u001b[49m\u001b[43m,\u001b[49m\u001b[43m \u001b[49m\u001b[43mon\u001b[49m\u001b[38;5;241;43m=\u001b[39;49m\u001b[38;5;124;43m'\u001b[39;49m\u001b[38;5;124;43mDATE_ISSUED_YEAR\u001b[39;49m\u001b[38;5;124;43m'\u001b[39;49m\u001b[43m,\u001b[49m\u001b[43m \u001b[49m\u001b[43mhow\u001b[49m\u001b[38;5;241;43m=\u001b[39;49m\u001b[38;5;124;43m'\u001b[39;49m\u001b[38;5;124;43minner\u001b[39;49m\u001b[38;5;124;43m'\u001b[39;49m\u001b[43m)\u001b[49m\u001b[38;5;66;03m#.to_csv(\"inoid_time.csv\", index=False)\u001b[39;00m\n",
      "File \u001b[0;32m~/anaconda3/lib/python3.11/site-packages/pandas/core/frame.py:10757\u001b[0m, in \u001b[0;36mDataFrame.join\u001b[0;34m(self, other, on, how, lsuffix, rsuffix, sort, validate)\u001b[0m\n\u001b[1;32m  10747\u001b[0m     \u001b[38;5;28;01mif\u001b[39;00m how \u001b[38;5;241m==\u001b[39m \u001b[38;5;124m\"\u001b[39m\u001b[38;5;124mcross\u001b[39m\u001b[38;5;124m\"\u001b[39m:\n\u001b[1;32m  10748\u001b[0m         \u001b[38;5;28;01mreturn\u001b[39;00m merge(\n\u001b[1;32m  10749\u001b[0m             \u001b[38;5;28mself\u001b[39m,\n\u001b[1;32m  10750\u001b[0m             other,\n\u001b[0;32m   (...)\u001b[0m\n\u001b[1;32m  10755\u001b[0m             validate\u001b[38;5;241m=\u001b[39mvalidate,\n\u001b[1;32m  10756\u001b[0m         )\n\u001b[0;32m> 10757\u001b[0m     \u001b[38;5;28;01mreturn\u001b[39;00m \u001b[43mmerge\u001b[49m\u001b[43m(\u001b[49m\n\u001b[1;32m  10758\u001b[0m \u001b[43m        \u001b[49m\u001b[38;5;28;43mself\u001b[39;49m\u001b[43m,\u001b[49m\n\u001b[1;32m  10759\u001b[0m \u001b[43m        \u001b[49m\u001b[43mother\u001b[49m\u001b[43m,\u001b[49m\n\u001b[1;32m  10760\u001b[0m \u001b[43m        \u001b[49m\u001b[43mleft_on\u001b[49m\u001b[38;5;241;43m=\u001b[39;49m\u001b[43mon\u001b[49m\u001b[43m,\u001b[49m\n\u001b[1;32m  10761\u001b[0m \u001b[43m        \u001b[49m\u001b[43mhow\u001b[49m\u001b[38;5;241;43m=\u001b[39;49m\u001b[43mhow\u001b[49m\u001b[43m,\u001b[49m\n\u001b[1;32m  10762\u001b[0m \u001b[43m        \u001b[49m\u001b[43mleft_index\u001b[49m\u001b[38;5;241;43m=\u001b[39;49m\u001b[43mon\u001b[49m\u001b[43m \u001b[49m\u001b[38;5;129;43;01mis\u001b[39;49;00m\u001b[43m \u001b[49m\u001b[38;5;28;43;01mNone\u001b[39;49;00m\u001b[43m,\u001b[49m\n\u001b[1;32m  10763\u001b[0m \u001b[43m        \u001b[49m\u001b[43mright_index\u001b[49m\u001b[38;5;241;43m=\u001b[39;49m\u001b[38;5;28;43;01mTrue\u001b[39;49;00m\u001b[43m,\u001b[49m\n\u001b[1;32m  10764\u001b[0m \u001b[43m        \u001b[49m\u001b[43msuffixes\u001b[49m\u001b[38;5;241;43m=\u001b[39;49m\u001b[43m(\u001b[49m\u001b[43mlsuffix\u001b[49m\u001b[43m,\u001b[49m\u001b[43m \u001b[49m\u001b[43mrsuffix\u001b[49m\u001b[43m)\u001b[49m\u001b[43m,\u001b[49m\n\u001b[1;32m  10765\u001b[0m \u001b[43m        \u001b[49m\u001b[43msort\u001b[49m\u001b[38;5;241;43m=\u001b[39;49m\u001b[43msort\u001b[49m\u001b[43m,\u001b[49m\n\u001b[1;32m  10766\u001b[0m \u001b[43m        \u001b[49m\u001b[43mvalidate\u001b[49m\u001b[38;5;241;43m=\u001b[39;49m\u001b[43mvalidate\u001b[49m\u001b[43m,\u001b[49m\n\u001b[1;32m  10767\u001b[0m \u001b[43m    \u001b[49m\u001b[43m)\u001b[49m\n\u001b[1;32m  10768\u001b[0m \u001b[38;5;28;01melse\u001b[39;00m:\n\u001b[1;32m  10769\u001b[0m     \u001b[38;5;28;01mif\u001b[39;00m on \u001b[38;5;129;01mis\u001b[39;00m \u001b[38;5;129;01mnot\u001b[39;00m \u001b[38;5;28;01mNone\u001b[39;00m:\n",
      "File \u001b[0;32m~/anaconda3/lib/python3.11/site-packages/pandas/core/reshape/merge.py:184\u001b[0m, in \u001b[0;36mmerge\u001b[0;34m(left, right, how, on, left_on, right_on, left_index, right_index, sort, suffixes, copy, indicator, validate)\u001b[0m\n\u001b[1;32m    169\u001b[0m \u001b[38;5;28;01melse\u001b[39;00m:\n\u001b[1;32m    170\u001b[0m     op \u001b[38;5;241m=\u001b[39m _MergeOperation(\n\u001b[1;32m    171\u001b[0m         left_df,\n\u001b[1;32m    172\u001b[0m         right_df,\n\u001b[0;32m   (...)\u001b[0m\n\u001b[1;32m    182\u001b[0m         validate\u001b[38;5;241m=\u001b[39mvalidate,\n\u001b[1;32m    183\u001b[0m     )\n\u001b[0;32m--> 184\u001b[0m     \u001b[38;5;28;01mreturn\u001b[39;00m \u001b[43mop\u001b[49m\u001b[38;5;241;43m.\u001b[39;49m\u001b[43mget_result\u001b[49m\u001b[43m(\u001b[49m\u001b[43mcopy\u001b[49m\u001b[38;5;241;43m=\u001b[39;49m\u001b[43mcopy\u001b[49m\u001b[43m)\u001b[49m\n",
      "File \u001b[0;32m~/anaconda3/lib/python3.11/site-packages/pandas/core/reshape/merge.py:888\u001b[0m, in \u001b[0;36m_MergeOperation.get_result\u001b[0;34m(self, copy)\u001b[0m\n\u001b[1;32m    884\u001b[0m     \u001b[38;5;28mself\u001b[39m\u001b[38;5;241m.\u001b[39mleft, \u001b[38;5;28mself\u001b[39m\u001b[38;5;241m.\u001b[39mright \u001b[38;5;241m=\u001b[39m \u001b[38;5;28mself\u001b[39m\u001b[38;5;241m.\u001b[39m_indicator_pre_merge(\u001b[38;5;28mself\u001b[39m\u001b[38;5;241m.\u001b[39mleft, \u001b[38;5;28mself\u001b[39m\u001b[38;5;241m.\u001b[39mright)\n\u001b[1;32m    886\u001b[0m join_index, left_indexer, right_indexer \u001b[38;5;241m=\u001b[39m \u001b[38;5;28mself\u001b[39m\u001b[38;5;241m.\u001b[39m_get_join_info()\n\u001b[0;32m--> 888\u001b[0m result \u001b[38;5;241m=\u001b[39m \u001b[38;5;28;43mself\u001b[39;49m\u001b[38;5;241;43m.\u001b[39;49m\u001b[43m_reindex_and_concat\u001b[49m\u001b[43m(\u001b[49m\n\u001b[1;32m    889\u001b[0m \u001b[43m    \u001b[49m\u001b[43mjoin_index\u001b[49m\u001b[43m,\u001b[49m\u001b[43m \u001b[49m\u001b[43mleft_indexer\u001b[49m\u001b[43m,\u001b[49m\u001b[43m \u001b[49m\u001b[43mright_indexer\u001b[49m\u001b[43m,\u001b[49m\u001b[43m \u001b[49m\u001b[43mcopy\u001b[49m\u001b[38;5;241;43m=\u001b[39;49m\u001b[43mcopy\u001b[49m\n\u001b[1;32m    890\u001b[0m \u001b[43m\u001b[49m\u001b[43m)\u001b[49m\n\u001b[1;32m    891\u001b[0m result \u001b[38;5;241m=\u001b[39m result\u001b[38;5;241m.\u001b[39m__finalize__(\u001b[38;5;28mself\u001b[39m, method\u001b[38;5;241m=\u001b[39m\u001b[38;5;28mself\u001b[39m\u001b[38;5;241m.\u001b[39m_merge_type)\n\u001b[1;32m    893\u001b[0m \u001b[38;5;28;01mif\u001b[39;00m \u001b[38;5;28mself\u001b[39m\u001b[38;5;241m.\u001b[39mindicator:\n",
      "File \u001b[0;32m~/anaconda3/lib/python3.11/site-packages/pandas/core/reshape/merge.py:840\u001b[0m, in \u001b[0;36m_MergeOperation._reindex_and_concat\u001b[0;34m(self, join_index, left_indexer, right_indexer, copy)\u001b[0m\n\u001b[1;32m    837\u001b[0m left \u001b[38;5;241m=\u001b[39m \u001b[38;5;28mself\u001b[39m\u001b[38;5;241m.\u001b[39mleft[:]\n\u001b[1;32m    838\u001b[0m right \u001b[38;5;241m=\u001b[39m \u001b[38;5;28mself\u001b[39m\u001b[38;5;241m.\u001b[39mright[:]\n\u001b[0;32m--> 840\u001b[0m llabels, rlabels \u001b[38;5;241m=\u001b[39m \u001b[43m_items_overlap_with_suffix\u001b[49m\u001b[43m(\u001b[49m\n\u001b[1;32m    841\u001b[0m \u001b[43m    \u001b[49m\u001b[38;5;28;43mself\u001b[39;49m\u001b[38;5;241;43m.\u001b[39;49m\u001b[43mleft\u001b[49m\u001b[38;5;241;43m.\u001b[39;49m\u001b[43m_info_axis\u001b[49m\u001b[43m,\u001b[49m\u001b[43m \u001b[49m\u001b[38;5;28;43mself\u001b[39;49m\u001b[38;5;241;43m.\u001b[39;49m\u001b[43mright\u001b[49m\u001b[38;5;241;43m.\u001b[39;49m\u001b[43m_info_axis\u001b[49m\u001b[43m,\u001b[49m\u001b[43m \u001b[49m\u001b[38;5;28;43mself\u001b[39;49m\u001b[38;5;241;43m.\u001b[39;49m\u001b[43msuffixes\u001b[49m\n\u001b[1;32m    842\u001b[0m \u001b[43m\u001b[49m\u001b[43m)\u001b[49m\n\u001b[1;32m    844\u001b[0m \u001b[38;5;28;01mif\u001b[39;00m left_indexer \u001b[38;5;129;01mis\u001b[39;00m \u001b[38;5;129;01mnot\u001b[39;00m \u001b[38;5;28;01mNone\u001b[39;00m \u001b[38;5;129;01mand\u001b[39;00m \u001b[38;5;129;01mnot\u001b[39;00m is_range_indexer(left_indexer, \u001b[38;5;28mlen\u001b[39m(left)):\n\u001b[1;32m    845\u001b[0m     \u001b[38;5;66;03m# Pinning the index here (and in the right code just below) is not\u001b[39;00m\n\u001b[1;32m    846\u001b[0m     \u001b[38;5;66;03m#  necessary, but makes the `.take` more performant if we have e.g.\u001b[39;00m\n\u001b[1;32m    847\u001b[0m     \u001b[38;5;66;03m#  a MultiIndex for left.index.\u001b[39;00m\n\u001b[1;32m    848\u001b[0m     lmgr \u001b[38;5;241m=\u001b[39m left\u001b[38;5;241m.\u001b[39m_mgr\u001b[38;5;241m.\u001b[39mreindex_indexer(\n\u001b[1;32m    849\u001b[0m         join_index,\n\u001b[1;32m    850\u001b[0m         left_indexer,\n\u001b[0;32m   (...)\u001b[0m\n\u001b[1;32m    855\u001b[0m         use_na_proxy\u001b[38;5;241m=\u001b[39m\u001b[38;5;28;01mTrue\u001b[39;00m,\n\u001b[1;32m    856\u001b[0m     )\n",
      "File \u001b[0;32m~/anaconda3/lib/python3.11/site-packages/pandas/core/reshape/merge.py:2721\u001b[0m, in \u001b[0;36m_items_overlap_with_suffix\u001b[0;34m(left, right, suffixes)\u001b[0m\n\u001b[1;32m   2718\u001b[0m lsuffix, rsuffix \u001b[38;5;241m=\u001b[39m suffixes\n\u001b[1;32m   2720\u001b[0m \u001b[38;5;28;01mif\u001b[39;00m \u001b[38;5;129;01mnot\u001b[39;00m lsuffix \u001b[38;5;129;01mand\u001b[39;00m \u001b[38;5;129;01mnot\u001b[39;00m rsuffix:\n\u001b[0;32m-> 2721\u001b[0m     \u001b[38;5;28;01mraise\u001b[39;00m \u001b[38;5;167;01mValueError\u001b[39;00m(\u001b[38;5;124mf\u001b[39m\u001b[38;5;124m\"\u001b[39m\u001b[38;5;124mcolumns overlap but no suffix specified: \u001b[39m\u001b[38;5;132;01m{\u001b[39;00mto_rename\u001b[38;5;132;01m}\u001b[39;00m\u001b[38;5;124m\"\u001b[39m)\n\u001b[1;32m   2723\u001b[0m \u001b[38;5;28;01mdef\u001b[39;00m \u001b[38;5;21mrenamer\u001b[39m(x, suffix: \u001b[38;5;28mstr\u001b[39m \u001b[38;5;241m|\u001b[39m \u001b[38;5;28;01mNone\u001b[39;00m):\n\u001b[1;32m   2724\u001b[0m \u001b[38;5;250m    \u001b[39m\u001b[38;5;124;03m\"\"\"\u001b[39;00m\n\u001b[1;32m   2725\u001b[0m \u001b[38;5;124;03m    Rename the left and right indices.\u001b[39;00m\n\u001b[1;32m   2726\u001b[0m \n\u001b[0;32m   (...)\u001b[0m\n\u001b[1;32m   2737\u001b[0m \u001b[38;5;124;03m    x : renamed column name\u001b[39;00m\n\u001b[1;32m   2738\u001b[0m \u001b[38;5;124;03m    \"\"\"\u001b[39;00m\n",
      "\u001b[0;31mValueError\u001b[0m: columns overlap but no suffix specified: Index(['DATE_ISSUED_YEAR', 'len'], dtype='object')"
     ]
    }
   ],
   "source": [
    "#pdf[pdf_mask].to_csv(\"inoid_time.csv\", index=False)\n",
    "pdf[pdf_mask].join(iris_pdf[iris_mask].rename({'len': 'len2'}), on='DATE_ISSUED_YEAR', how='inner')#.to_csv(\"inoid_time.csv\", index=False)"
   ]
  },
  {
   "cell_type": "code",
   "execution_count": 44,
   "metadata": {},
   "outputs": [],
   "source": [
    "iris_pdf[iris_mask].to_csv(\"iris_time.csv\", index=False)"
   ]
  },
  {
   "cell_type": "code",
   "execution_count": 38,
   "metadata": {},
   "outputs": [
    {
     "data": {
      "image/png": "[encoded data removed]",
      "text/plain": [
       "<Figure size 1500x600 with 1 Axes>"
      ]
     },
     "metadata": {},
     "output_type": "display_data"
    }
   ],
   "source": [
    "# plot\n",
    "pdf = year_df.filter(pl.col('DATE_ISSUED_YEAR').dt.year() <= 2025).with_columns(pl.col('DATE_ISSUED_YEAR').dt.year()).sort('DATE_ISSUED_YEAR').to_pandas()\n",
    "iris_pdf = iris_year_df.filter(pl.col('DATE_ISSUED_YEAR').dt.year() <= 2025).with_columns(pl.col('DATE_ISSUED_YEAR').dt.year()).sort('DATE_ISSUED_YEAR').to_pandas()\n",
    "\n",
    "\n",
    "common_years = sorted(set(pdf['DATE_ISSUED_YEAR']).intersection(set(iris_pdf['DATE_ISSUED_YEAR'])))\n",
    "\n",
    "pdf_mask = pdf['DATE_ISSUED_YEAR'].isin(common_years)\n",
    "iris_mask = iris_pdf['DATE_ISSUED_YEAR'].isin(common_years)\n",
    "\n",
    "\n",
    "fig, ax = plt.subplots(figsize=(15, 6))\n",
    "\n",
    "plt.plot(pdf['DATE_ISSUED_YEAR'], pdf['len'],\n",
    "         marker='o',\n",
    "         linewidth=2,\n",
    "         markersize=6,\n",
    "         color='red')\n",
    "plt.plot(iris_pdf['DATE_ISSUED_YEAR'], iris_pdf['len'],\n",
    "         marker='o',\n",
    "         linewidth=2,\n",
    "         markersize=6,\n",
    "         color='steelblue')\n",
    "\n",
    "plt.title('Number of Items Published by Year', pad=20, size=14)\n",
    "plt.xlabel('Year')\n",
    "plt.ylabel('Number of Items')\n",
    "ax.yaxis.grid(True, linestyle='--', alpha=0.7)\n",
    "\n",
    "plt.fill_between(common_years,\n",
    "                 pdf[pdf_mask]['len'],\n",
    "                 iris_pdf[iris_mask]['len'],\n",
    "                 alpha=0.3,\n",
    "                 color='grey')\n",
    "\n",
    "plt.legend(['Iris No ID', 'IRIS dump'], loc='upper left')\n",
    "\n",
    "\n",
    "plt.xticks(iris_pdf['DATE_ISSUED_YEAR'], rotation=-45, ha='left', va='top', rotation_mode='anchor')\n",
    "plt.tight_layout()\n",
    "plt.show()\n"
   ]
  },
  {
   "cell_type": "markdown",
   "metadata": {},
   "source": [
    "#### Linguistic analysis"
   ]
  },
  {
   "cell_type": "code",
   "execution_count": 17,
   "metadata": {},
   "outputs": [
    {
     "data": {
      "text/html": [
       "<div><style>\n",
       ".dataframe > thead > tr,\n",
       ".dataframe > tbody > tr {\n",
       "  text-align: right;\n",
       "  white-space: pre-wrap;\n",
       "}\n",
       "</style>\n",
       "<small>shape: (215, 2)</small><table border=\"1\" class=\"dataframe\"><thead><tr><th>LAN_ISO</th><th>len</th></tr><tr><td>str</td><td>u32</td></tr></thead><tbody><tr><td>&quot;ita&quot;</td><td>48604</td></tr><tr><td>&quot;eng&quot;</td><td>39153</td></tr><tr><td>null</td><td>8509</td></tr><tr><td>&quot;fre&quot;</td><td>1318</td></tr><tr><td>&quot;eng; ita&quot;</td><td>1125</td></tr><tr><td>&quot;spa&quot;</td><td>1097</td></tr><tr><td>&quot;ger&quot;</td><td>461</td></tr><tr><td>&quot;por&quot;</td><td>247</td></tr><tr><td>&quot;rus&quot;</td><td>112</td></tr><tr><td>&quot;ita; eng&quot;</td><td>91</td></tr><tr><td>&hellip;</td><td>&hellip;</td></tr><tr><td>&quot;ita; heb; grc; lat&quot;</td><td>1</td></tr><tr><td>&quot;eng; por; ita&quot;</td><td>1</td></tr><tr><td>&quot;arm&quot;</td><td>1</td></tr><tr><td>&quot;ger; eng; jpn; ita; spa&quot;</td><td>1</td></tr><tr><td>&quot;ita; tur&quot;</td><td>1</td></tr><tr><td>&quot;alb; eng&quot;</td><td>1</td></tr><tr><td>&quot;ita; fre; rus&quot;</td><td>1</td></tr><tr><td>&quot;eng; tur&quot;</td><td>1</td></tr><tr><td>&quot;eng; fre; ita; por; spa; ger&quot;</td><td>1</td></tr><tr><td>&quot;eng; ita; ger; hun&quot;</td><td>1</td></tr></tbody></table></div>"
      ],
      "text/plain": [
       "shape: (215, 2)\n",
       "┌──────────────────────────────┬───────┐\n",
       "│ LAN_ISO                      ┆ len   │\n",
       "│ ---                          ┆ ---   │\n",
       "│ str                          ┆ u32   │\n",
       "╞══════════════════════════════╪═══════╡\n",
       "│ ita                          ┆ 48604 │\n",
       "│ eng                          ┆ 39153 │\n",
       "│ null                         ┆ 8509  │\n",
       "│ fre                          ┆ 1318  │\n",
       "│ eng; ita                     ┆ 1125  │\n",
       "│ spa                          ┆ 1097  │\n",
       "│ ger                          ┆ 461   │\n",
       "│ por                          ┆ 247   │\n",
       "│ rus                          ┆ 112   │\n",
       "│ ita; eng                     ┆ 91    │\n",
       "│ …                            ┆ …     │\n",
       "│ ita; heb; grc; lat           ┆ 1     │\n",
       "│ eng; por; ita                ┆ 1     │\n",
       "│ arm                          ┆ 1     │\n",
       "│ ger; eng; jpn; ita; spa      ┆ 1     │\n",
       "│ ita; tur                     ┆ 1     │\n",
       "│ alb; eng                     ┆ 1     │\n",
       "│ ita; fre; rus                ┆ 1     │\n",
       "│ eng; tur                     ┆ 1     │\n",
       "│ eng; fre; ita; por; spa; ger ┆ 1     │\n",
       "│ eng; ita; ger; hun           ┆ 1     │\n",
       "└──────────────────────────────┴───────┘"
      ]
     },
     "execution_count": 17,
     "metadata": {},
     "output_type": "execute_result"
    }
   ],
   "source": [
    "inoid_df.group_by('LAN_ISO').agg(pl.len()).sort('len', descending=True)"
   ]
  },
  {
   "cell_type": "markdown",
   "metadata": {},
   "source": [
    "---\n",
    "\n",
    "## ID Reconciliation with Crossref"
   ]
  },
  {
   "cell_type": "code",
   "execution_count": 31,
   "metadata": {},
   "outputs": [],
   "source": [
    "found_df = pl.read_csv(\"./crossref_results.csv\")"
   ]
  },
  {
   "cell_type": "code",
   "execution_count": 32,
   "metadata": {},
   "outputs": [
    {
     "data": {
      "text/plain": [
       "18498"
      ]
     },
     "execution_count": 32,
     "metadata": {},
     "output_type": "execute_result"
    }
   ],
   "source": [
    "found_df = found_df.join(inoid_df, left_on='item_id', right_on=\"ITEM_ID\")\n",
    "found_df.__len__()"
   ]
  },
  {
   "cell_type": "code",
   "execution_count": 106,
   "metadata": {},
   "outputs": [
    {
     "data": {
      "text/html": [
       "<div><style>\n",
       ".dataframe > thead > tr,\n",
       ".dataframe > tbody > tr {\n",
       "  text-align: right;\n",
       "  white-space: pre-wrap;\n",
       "}\n",
       "</style>\n",
       "<small>shape: (5_754, 19)</small><table border=\"1\" class=\"dataframe\"><thead><tr><th>item_id</th><th>matched_title</th><th>doi</th><th>issn</th><th>ambiguous_match</th><th>score</th><th>IDE_DOI</th><th>IDE_ISBN</th><th>IDE_PMID</th><th>OWNING_COLLECTION</th><th>OWNING_COLLECTION_DES</th><th>DES_ALLPEOPLE</th><th>DES_NUMBEROFAUTHORS</th><th>DATE_ISSUED_YEAR</th><th>TITLE</th><th>PUB_NAME</th><th>PUB_PLACE</th><th>PUB_COUNTRY</th><th>LAN_ISO</th></tr><tr><td>i64</td><td>str</td><td>str</td><td>str</td><td>bool</td><td>f64</td><td>str</td><td>str</td><td>str</td><td>i64</td><td>str</td><td>str</td><td>i64</td><td>i64</td><td>str</td><td>str</td><td>str</td><td>str</td><td>str</td></tr></thead><tbody><tr><td>92281</td><td>&quot;Vascular endothelial growth fa…</td><td>&quot;10.1002/1529-0131(200011)43:11…</td><td>&quot;0004-3591&quot;</td><td>false</td><td>95.99477</td><td>null</td><td>null</td><td>null</td><td>35</td><td>&quot;1.01 Articolo in rivista&quot;</td><td>&quot;pulsatelli l.; dolzani p.; sil…</td><td>7</td><td>2007</td><td>&quot;Circulating RANKL/OPG in polym…</td><td>null</td><td>null</td><td>null</td><td>&quot;eng&quot;</td></tr><tr><td>58651</td><td>&quot;Vascular endothelial growth fa…</td><td>&quot;10.1002/1529-0131(200011)43:11…</td><td>&quot;0004-3591&quot;</td><td>false</td><td>87.60318</td><td>null</td><td>null</td><td>null</td><td>35</td><td>&quot;1.01 Articolo in rivista&quot;</td><td>&quot;pulsatelli l.; dolzani p.; sil…</td><td>6</td><td>2005</td><td>&quot;Vascular endothelial growth fa…</td><td>null</td><td>null</td><td>null</td><td>&quot;eng&quot;</td></tr><tr><td>85384</td><td>&quot;Vascular endothelial growth fa…</td><td>&quot;10.1002/1529-0131(200011)43:11…</td><td>&quot;0004-3591&quot;</td><td>false</td><td>98.22835</td><td>null</td><td>null</td><td>null</td><td>35</td><td>&quot;1.01 Articolo in rivista&quot;</td><td>&quot;pulsatelli l.; dolzani p.; sil…</td><td>8</td><td>2006</td><td>&quot;Synovial expression of vasoact…</td><td>null</td><td>null</td><td>null</td><td>&quot;eng&quot;</td></tr><tr><td>290836</td><td>&quot;Hydrologically Induced Karst D…</td><td>&quot;10.1002/2017jb015252&quot;</td><td>&quot;2169-9313&quot;</td><td>false</td><td>86.940384</td><td>null</td><td>null</td><td>null</td><td>58</td><td>&quot;4.02 Riassunto (Abstract)&quot;</td><td>&quot;serpelloni, enrico; gualandi, …</td><td>8</td><td>2017</td><td>&quot;Rainfall modulated deformation…</td><td>null</td><td>null</td><td>null</td><td>&quot;eng&quot;</td></tr><tr><td>339294</td><td>&quot;Hydrologically Induced Karst D…</td><td>&quot;10.1002/2017jb015252&quot;</td><td>&quot;2169-9313&quot;</td><td>false</td><td>86.940704</td><td>null</td><td>null</td><td>null</td><td>58</td><td>&quot;4.02 Riassunto (Abstract)&quot;</td><td>&quot;enrico serpelloni, adriano gua…</td><td>8</td><td>2017</td><td>&quot;Rainfall modulated deformation…</td><td>null</td><td>null</td><td>null</td><td>&quot;eng&quot;</td></tr><tr><td>339136</td><td>&quot;Hydrologically Induced Karst D…</td><td>&quot;10.1002/2017jb015252&quot;</td><td>&quot;2169-9313&quot;</td><td>false</td><td>94.24468</td><td>null</td><td>null</td><td>null</td><td>58</td><td>&quot;4.02 Riassunto (Abstract)&quot;</td><td>&quot;enrico serpelloni; francesco p…</td><td>8</td><td>2017</td><td>&quot;Hydrological deformation signa…</td><td>null</td><td>null</td><td>null</td><td>&quot;eng&quot;</td></tr><tr><td>87874</td><td>&quot;Dolomite‐Rich Condensed Sectio…</td><td>&quot;10.1002/9781118485347.ch9&quot;</td><td>null</td><td>false</td><td>128.15959</td><td>null</td><td>null</td><td>null</td><td>58</td><td>&quot;4.02 Riassunto (Abstract)&quot;</td><td>&quot;caja m.a.; marfil r.; garcia d…</td><td>7</td><td>2006</td><td>&quot;Petrography and geochemistry o…</td><td>&quot;EGU&quot;</td><td>&quot;STRASBOURG&quot;</td><td>&quot;FRA&quot;</td><td>&quot;eng&quot;</td></tr><tr><td>100243</td><td>&quot;Dolomite‐Rich Condensed Sectio…</td><td>&quot;10.1002/9781118485347.ch9&quot;</td><td>null</td><td>false</td><td>100.55068</td><td>null</td><td>null</td><td>null</td><td>58</td><td>&quot;4.02 Riassunto (Abstract)&quot;</td><td>&quot;garcia d.;|caja m.a.; marfil r…</td><td>7</td><td>2007</td><td>&quot;K-feldspar albitization in the…</td><td>&quot;s.n&quot;</td><td>&quot;s.l&quot;</td><td>null</td><td>&quot;eng&quot;</td></tr><tr><td>100238</td><td>&quot;Dolomite‐Rich Condensed Sectio…</td><td>&quot;10.1002/9781118485347.ch9&quot;</td><td>null</td><td>false</td><td>115.86204</td><td>null</td><td>null</td><td>null</td><td>58</td><td>&quot;4.02 Riassunto (Abstract)&quot;</td><td>&quot;caja m.a.; marfil r.; garcia d…</td><td>7</td><td>2007</td><td>&quot;Provenance and reservoir quali…</td><td>&quot;s.n&quot;</td><td>&quot;s.l&quot;</td><td>null</td><td>&quot;eng&quot;</td></tr><tr><td>124484</td><td>&quot;Lithium‐ion Batteries and Supe…</td><td>&quot;10.1002/9781118615515.ch12&quot;</td><td>null</td><td>false</td><td>92.7725</td><td>null</td><td>null</td><td>null</td><td>57</td><td>&quot;4.01 Contributo in Atti di con…</td><td>&quot;m. mastragostino; c. arbizzani…</td><td>6</td><td>2009</td><td>&quot;Lithium ion batteries and supe…</td><td>&quot;s.n&quot;</td><td>&quot;s.l&quot;</td><td>null</td><td>&quot;eng&quot;</td></tr><tr><td>&hellip;</td><td>&hellip;</td><td>&hellip;</td><td>&hellip;</td><td>&hellip;</td><td>&hellip;</td><td>&hellip;</td><td>&hellip;</td><td>&hellip;</td><td>&hellip;</td><td>&hellip;</td><td>&hellip;</td><td>&hellip;</td><td>&hellip;</td><td>&hellip;</td><td>&hellip;</td><td>&hellip;</td><td>&hellip;</td><td>&hellip;</td></tr><tr><td>369685</td><td>&quot;Taphonomy and taxonomy of a ju…</td><td>&quot;10.7717/peerj.11290&quot;</td><td>&quot;2167-8359&quot;</td><td>false</td><td>85.57446</td><td>null</td><td>null</td><td>null</td><td>58</td><td>&quot;4.02 Riassunto (Abstract)&quot;</td><td>&quot;larson d; vavrek m; bell p; ca…</td><td>7</td><td>2018</td><td>&quot;A high-latitude assemblage of …</td><td>null</td><td>null</td><td>null</td><td>&quot;eng&quot;</td></tr><tr><td>521030</td><td>&quot;Taphonomy and taxonomy of a ju…</td><td>&quot;10.7717/peerj.11290&quot;</td><td>&quot;2167-8359&quot;</td><td>false</td><td>100.02224</td><td>null</td><td>null</td><td>null</td><td>58</td><td>&quot;4.02 Riassunto (Abstract)&quot;</td><td>&quot;sullivan c., campione n., bell…</td><td>7</td><td>2019</td><td>&quot;A juvenile lambeosaurine dinos…</td><td>null</td><td>null</td><td>null</td><td>&quot;eng&quot;</td></tr><tr><td>138205</td><td>&quot;Figure 4: Headspace solid phas…</td><td>&quot;10.7717/peerj.2961/fig-4&quot;</td><td>null</td><td>false</td><td>98.09943</td><td>null</td><td>null</td><td>null</td><td>58</td><td>&quot;4.02 Riassunto (Abstract)&quot;</td><td>&quot;j. fiori; m. naldi; r. gotti&quot;</td><td>3</td><td>2010</td><td>&quot;HEADSPACE SOLID-PHASE MICROEXT…</td><td>&quot;s.n&quot;</td><td>&quot;ANTWERP&quot;</td><td>&quot;BEL&quot;</td><td>&quot;eng&quot;</td></tr><tr><td>132320</td><td>&quot;Figure 4: Headspace solid phas…</td><td>&quot;10.7717/peerj.2961/fig-4&quot;</td><td>null</td><td>false</td><td>98.11343</td><td>null</td><td>null</td><td>null</td><td>58</td><td>&quot;4.02 Riassunto (Abstract)&quot;</td><td>&quot;j. fiori; m. naldi; r. gotti&quot;</td><td>3</td><td>2010</td><td>&quot;Headspace solid-phase microext…</td><td>&quot;s.n&quot;</td><td>&quot;ANTWERP&quot;</td><td>&quot;BEL&quot;</td><td>&quot;eng&quot;</td></tr><tr><td>103271</td><td>&quot;Studio bolognese e formazione …</td><td>&quot;10.7767/zrgka.1994.80.1.536&quot;</td><td>&quot;2304-4896&quot;</td><td>false</td><td>120.87205</td><td>null</td><td>null</td><td>null</td><td>76</td><td>&quot;7.12 Attività espositiva:Mostr…</td><td>&quot;minganti f.&quot;</td><td>1</td><td>2008</td><td>&quot;Convegno internazionale &quot;Woody…</td><td>null</td><td>null</td><td>null</td><td>null</td></tr><tr><td>94366</td><td>&quot;Studio bolognese e formazione …</td><td>&quot;10.7767/zrgka.1994.80.1.536&quot;</td><td>&quot;2304-4896&quot;</td><td>false</td><td>149.86417</td><td>null</td><td>null</td><td>null</td><td>76</td><td>&quot;7.12 Attività espositiva:Mostr…</td><td>&quot;a. destro; a. segrè; e. raimon…</td><td>11</td><td>2007</td><td>&quot;Testi agronomici d&#x27;area e Rina…</td><td>null</td><td>null</td><td>null</td><td>null</td></tr><tr><td>419979</td><td>&quot;A New Distributed Framework fo…</td><td>&quot;10.7873/date.2015.0939&quot;</td><td>null</td><td>false</td><td>89.59141</td><td>null</td><td>null</td><td>null</td><td>59</td><td>&quot;4.03 Poster&quot;</td><td>&quot;brundu, francesco gavino; patt…</td><td>10</td><td>2014</td><td>&quot;DIMCloud – a distributed infra…</td><td>null</td><td>null</td><td>null</td><td>&quot;eng&quot;</td></tr><tr><td>420074</td><td>&quot;A New Distributed Framework fo…</td><td>&quot;10.7873/date.2015.0939&quot;</td><td>null</td><td>false</td><td>120.94695</td><td>null</td><td>null</td><td>null</td><td>57</td><td>&quot;4.01 Contributo in Atti di con…</td><td>&quot;brundu, francesco gavino; patt…</td><td>7</td><td>2015</td><td>&quot;A new distributed framework fo…</td><td>&quot;IEEE&quot;</td><td>null</td><td>null</td><td>&quot;eng&quot;</td></tr><tr><td>291699</td><td>&quot;UPDATE OF THE EUROTOP MANUAL: …</td><td>&quot;10.9753/icce.v35.structures.40&quot;</td><td>&quot;2156-1028&quot;</td><td>false</td><td>128.336</td><td>null</td><td>null</td><td>null</td><td>49</td><td>&quot;3.01 Monografia / trattato sci…</td><td>&quot;van der meer, j.w.; allsop, n.…</td><td>9</td><td>2016</td><td>&quot;EurOtop -  Manual on wave over…</td><td>&quot;-&quot;</td><td>&quot;-&quot;</td><td>&quot;GBR&quot;</td><td>&quot;eng&quot;</td></tr><tr><td>292932</td><td>&quot;UPDATE OF THE EUROTOP MANUAL: …</td><td>&quot;10.9753/icce.v35.structures.40&quot;</td><td>&quot;2156-1028&quot;</td><td>false</td><td>126.81754</td><td>null</td><td>null</td><td>null</td><td>57</td><td>&quot;4.01 Contributo in Atti di con…</td><td>&quot;van der meer, j.w.; allsop, n.…</td><td>8</td><td>9999</td><td>&quot;Update of the EurOtop Manual: …</td><td>null</td><td>null</td><td>null</td><td>&quot;eng&quot;</td></tr></tbody></table></div>"
      ],
      "text/plain": [
       "shape: (5_754, 19)\n",
       "┌─────────┬────────────┬────────────┬───────────┬───┬──────────┬────────────┬────────────┬─────────┐\n",
       "│ item_id ┆ matched_ti ┆ doi        ┆ issn      ┆ … ┆ PUB_NAME ┆ PUB_PLACE  ┆ PUB_COUNTR ┆ LAN_ISO │\n",
       "│ ---     ┆ tle        ┆ ---        ┆ ---       ┆   ┆ ---      ┆ ---        ┆ Y          ┆ ---     │\n",
       "│ i64     ┆ ---        ┆ str        ┆ str       ┆   ┆ str      ┆ str        ┆ ---        ┆ str     │\n",
       "│         ┆ str        ┆            ┆           ┆   ┆          ┆            ┆ str        ┆         │\n",
       "╞═════════╪════════════╪════════════╪═══════════╪═══╪══════════╪════════════╪════════════╪═════════╡\n",
       "│ 92281   ┆ Vascular   ┆ 10.1002/15 ┆ 0004-3591 ┆ … ┆ null     ┆ null       ┆ null       ┆ eng     │\n",
       "│         ┆ endothelia ┆ 29-0131(20 ┆           ┆   ┆          ┆            ┆            ┆         │\n",
       "│         ┆ l growth   ┆ 0011)43:11 ┆           ┆   ┆          ┆            ┆            ┆         │\n",
       "│         ┆ fa…        ┆ …          ┆           ┆   ┆          ┆            ┆            ┆         │\n",
       "│ 58651   ┆ Vascular   ┆ 10.1002/15 ┆ 0004-3591 ┆ … ┆ null     ┆ null       ┆ null       ┆ eng     │\n",
       "│         ┆ endothelia ┆ 29-0131(20 ┆           ┆   ┆          ┆            ┆            ┆         │\n",
       "│         ┆ l growth   ┆ 0011)43:11 ┆           ┆   ┆          ┆            ┆            ┆         │\n",
       "│         ┆ fa…        ┆ …          ┆           ┆   ┆          ┆            ┆            ┆         │\n",
       "│ 85384   ┆ Vascular   ┆ 10.1002/15 ┆ 0004-3591 ┆ … ┆ null     ┆ null       ┆ null       ┆ eng     │\n",
       "│         ┆ endothelia ┆ 29-0131(20 ┆           ┆   ┆          ┆            ┆            ┆         │\n",
       "│         ┆ l growth   ┆ 0011)43:11 ┆           ┆   ┆          ┆            ┆            ┆         │\n",
       "│         ┆ fa…        ┆ …          ┆           ┆   ┆          ┆            ┆            ┆         │\n",
       "│ 290836  ┆ Hydrologic ┆ 10.1002/20 ┆ 2169-9313 ┆ … ┆ null     ┆ null       ┆ null       ┆ eng     │\n",
       "│         ┆ ally       ┆ 17jb015252 ┆           ┆   ┆          ┆            ┆            ┆         │\n",
       "│         ┆ Induced    ┆            ┆           ┆   ┆          ┆            ┆            ┆         │\n",
       "│         ┆ Karst D…   ┆            ┆           ┆   ┆          ┆            ┆            ┆         │\n",
       "│ 339294  ┆ Hydrologic ┆ 10.1002/20 ┆ 2169-9313 ┆ … ┆ null     ┆ null       ┆ null       ┆ eng     │\n",
       "│         ┆ ally       ┆ 17jb015252 ┆           ┆   ┆          ┆            ┆            ┆         │\n",
       "│         ┆ Induced    ┆            ┆           ┆   ┆          ┆            ┆            ┆         │\n",
       "│         ┆ Karst D…   ┆            ┆           ┆   ┆          ┆            ┆            ┆         │\n",
       "│ 339136  ┆ Hydrologic ┆ 10.1002/20 ┆ 2169-9313 ┆ … ┆ null     ┆ null       ┆ null       ┆ eng     │\n",
       "│         ┆ ally       ┆ 17jb015252 ┆           ┆   ┆          ┆            ┆            ┆         │\n",
       "│         ┆ Induced    ┆            ┆           ┆   ┆          ┆            ┆            ┆         │\n",
       "│         ┆ Karst D…   ┆            ┆           ┆   ┆          ┆            ┆            ┆         │\n",
       "│ 87874   ┆ Dolomite‐R ┆ 10.1002/97 ┆ null      ┆ … ┆ EGU      ┆ STRASBOURG ┆ FRA        ┆ eng     │\n",
       "│         ┆ ich        ┆ 8111848534 ┆           ┆   ┆          ┆            ┆            ┆         │\n",
       "│         ┆ Condensed  ┆ 7.ch9      ┆           ┆   ┆          ┆            ┆            ┆         │\n",
       "│         ┆ Sectio…    ┆            ┆           ┆   ┆          ┆            ┆            ┆         │\n",
       "│ 100243  ┆ Dolomite‐R ┆ 10.1002/97 ┆ null      ┆ … ┆ s.n      ┆ s.l        ┆ null       ┆ eng     │\n",
       "│         ┆ ich        ┆ 8111848534 ┆           ┆   ┆          ┆            ┆            ┆         │\n",
       "│         ┆ Condensed  ┆ 7.ch9      ┆           ┆   ┆          ┆            ┆            ┆         │\n",
       "│         ┆ Sectio…    ┆            ┆           ┆   ┆          ┆            ┆            ┆         │\n",
       "│ 100238  ┆ Dolomite‐R ┆ 10.1002/97 ┆ null      ┆ … ┆ s.n      ┆ s.l        ┆ null       ┆ eng     │\n",
       "│         ┆ ich        ┆ 8111848534 ┆           ┆   ┆          ┆            ┆            ┆         │\n",
       "│         ┆ Condensed  ┆ 7.ch9      ┆           ┆   ┆          ┆            ┆            ┆         │\n",
       "│         ┆ Sectio…    ┆            ┆           ┆   ┆          ┆            ┆            ┆         │\n",
       "│ 124484  ┆ Lithium‐io ┆ 10.1002/97 ┆ null      ┆ … ┆ s.n      ┆ s.l        ┆ null       ┆ eng     │\n",
       "│         ┆ n          ┆ 8111861551 ┆           ┆   ┆          ┆            ┆            ┆         │\n",
       "│         ┆ Batteries  ┆ 5.ch12     ┆           ┆   ┆          ┆            ┆            ┆         │\n",
       "│         ┆ and Supe…  ┆            ┆           ┆   ┆          ┆            ┆            ┆         │\n",
       "│ …       ┆ …          ┆ …          ┆ …         ┆ … ┆ …        ┆ …          ┆ …          ┆ …       │\n",
       "│ 369685  ┆ Taphonomy  ┆ 10.7717/pe ┆ 2167-8359 ┆ … ┆ null     ┆ null       ┆ null       ┆ eng     │\n",
       "│         ┆ and        ┆ erj.11290  ┆           ┆   ┆          ┆            ┆            ┆         │\n",
       "│         ┆ taxonomy   ┆            ┆           ┆   ┆          ┆            ┆            ┆         │\n",
       "│         ┆ of a ju…   ┆            ┆           ┆   ┆          ┆            ┆            ┆         │\n",
       "│ 521030  ┆ Taphonomy  ┆ 10.7717/pe ┆ 2167-8359 ┆ … ┆ null     ┆ null       ┆ null       ┆ eng     │\n",
       "│         ┆ and        ┆ erj.11290  ┆           ┆   ┆          ┆            ┆            ┆         │\n",
       "│         ┆ taxonomy   ┆            ┆           ┆   ┆          ┆            ┆            ┆         │\n",
       "│         ┆ of a ju…   ┆            ┆           ┆   ┆          ┆            ┆            ┆         │\n",
       "│ 138205  ┆ Figure 4:  ┆ 10.7717/pe ┆ null      ┆ … ┆ s.n      ┆ ANTWERP    ┆ BEL        ┆ eng     │\n",
       "│         ┆ Headspace  ┆ erj.2961/f ┆           ┆   ┆          ┆            ┆            ┆         │\n",
       "│         ┆ solid      ┆ ig-4       ┆           ┆   ┆          ┆            ┆            ┆         │\n",
       "│         ┆ phas…      ┆            ┆           ┆   ┆          ┆            ┆            ┆         │\n",
       "│ 132320  ┆ Figure 4:  ┆ 10.7717/pe ┆ null      ┆ … ┆ s.n      ┆ ANTWERP    ┆ BEL        ┆ eng     │\n",
       "│         ┆ Headspace  ┆ erj.2961/f ┆           ┆   ┆          ┆            ┆            ┆         │\n",
       "│         ┆ solid      ┆ ig-4       ┆           ┆   ┆          ┆            ┆            ┆         │\n",
       "│         ┆ phas…      ┆            ┆           ┆   ┆          ┆            ┆            ┆         │\n",
       "│ 103271  ┆ Studio     ┆ 10.7767/zr ┆ 2304-4896 ┆ … ┆ null     ┆ null       ┆ null       ┆ null    │\n",
       "│         ┆ bolognese  ┆ gka.1994.8 ┆           ┆   ┆          ┆            ┆            ┆         │\n",
       "│         ┆ e          ┆ 0.1.536    ┆           ┆   ┆          ┆            ┆            ┆         │\n",
       "│         ┆ formazione ┆            ┆           ┆   ┆          ┆            ┆            ┆         │\n",
       "│         ┆ …          ┆            ┆           ┆   ┆          ┆            ┆            ┆         │\n",
       "│ 94366   ┆ Studio     ┆ 10.7767/zr ┆ 2304-4896 ┆ … ┆ null     ┆ null       ┆ null       ┆ null    │\n",
       "│         ┆ bolognese  ┆ gka.1994.8 ┆           ┆   ┆          ┆            ┆            ┆         │\n",
       "│         ┆ e          ┆ 0.1.536    ┆           ┆   ┆          ┆            ┆            ┆         │\n",
       "│         ┆ formazione ┆            ┆           ┆   ┆          ┆            ┆            ┆         │\n",
       "│         ┆ …          ┆            ┆           ┆   ┆          ┆            ┆            ┆         │\n",
       "│ 419979  ┆ A New Dist ┆ 10.7873/da ┆ null      ┆ … ┆ null     ┆ null       ┆ null       ┆ eng     │\n",
       "│         ┆ ributed    ┆ te.2015.09 ┆           ┆   ┆          ┆            ┆            ┆         │\n",
       "│         ┆ Framework  ┆ 39         ┆           ┆   ┆          ┆            ┆            ┆         │\n",
       "│         ┆ fo…        ┆            ┆           ┆   ┆          ┆            ┆            ┆         │\n",
       "│ 420074  ┆ A New Dist ┆ 10.7873/da ┆ null      ┆ … ┆ IEEE     ┆ null       ┆ null       ┆ eng     │\n",
       "│         ┆ ributed    ┆ te.2015.09 ┆           ┆   ┆          ┆            ┆            ┆         │\n",
       "│         ┆ Framework  ┆ 39         ┆           ┆   ┆          ┆            ┆            ┆         │\n",
       "│         ┆ fo…        ┆            ┆           ┆   ┆          ┆            ┆            ┆         │\n",
       "│ 291699  ┆ UPDATE OF  ┆ 10.9753/ic ┆ 2156-1028 ┆ … ┆ -        ┆ -          ┆ GBR        ┆ eng     │\n",
       "│         ┆ THE        ┆ ce.v35.str ┆           ┆   ┆          ┆            ┆            ┆         │\n",
       "│         ┆ EUROTOP    ┆ uctures.40 ┆           ┆   ┆          ┆            ┆            ┆         │\n",
       "│         ┆ MANUAL: …  ┆            ┆           ┆   ┆          ┆            ┆            ┆         │\n",
       "│ 292932  ┆ UPDATE OF  ┆ 10.9753/ic ┆ 2156-1028 ┆ … ┆ null     ┆ null       ┆ null       ┆ eng     │\n",
       "│         ┆ THE        ┆ ce.v35.str ┆           ┆   ┆          ┆            ┆            ┆         │\n",
       "│         ┆ EUROTOP    ┆ uctures.40 ┆           ┆   ┆          ┆            ┆            ┆         │\n",
       "│         ┆ MANUAL: …  ┆            ┆           ┆   ┆          ┆            ┆            ┆         │\n",
       "└─────────┴────────────┴────────────┴───────────┴───┴──────────┴────────────┴────────────┴─────────┘"
      ]
     },
     "execution_count": 106,
     "metadata": {},
     "output_type": "execute_result"
    }
   ],
   "source": [
    "found_df.filter(pl.col('doi').is_duplicated()).sort('doi')"
   ]
  },
  {
   "cell_type": "code",
   "execution_count": 109,
   "metadata": {},
   "outputs": [
    {
     "data": {
      "text/html": [
       "<div><style>\n",
       ".dataframe > thead > tr,\n",
       ".dataframe > tbody > tr {\n",
       "  text-align: right;\n",
       "  white-space: pre-wrap;\n",
       "}\n",
       "</style>\n",
       "<small>shape: (14_989, 1)</small><table border=\"1\" class=\"dataframe\"><thead><tr><th>id</th></tr><tr><td>str</td></tr></thead><tbody><tr><td>&quot;doi:10.1111/j.1365-2869.2007.0…</td></tr><tr><td>&quot;doi:10.4081/mm.2005.3596&quot;</td></tr><tr><td>&quot;doi:10.1163/27725472-05002014&quot;</td></tr><tr><td>&quot;doi:10.1016/j.jchromb.2011.05.…</td></tr><tr><td>&quot;doi:10.1016/j.jcpa.2009.06.003&quot;</td></tr><tr><td>&quot;doi:10.21071/calh.vi11.16753&quot;</td></tr><tr><td>&quot;doi:10.1200/jco.2004.99.220&quot;</td></tr><tr><td>&quot;doi:10.1007/978-3-031-38294-9_…</td></tr><tr><td>&quot;doi:10.1109/ceidp.1996.564513&quot;</td></tr><tr><td>&quot;doi:10.1093/jee/99.4.1268&quot;</td></tr><tr><td>&hellip;</td></tr><tr><td>&quot;doi:10.1016/j.rvsc.2014.10.010&quot;</td></tr><tr><td>&quot;doi:10.1002/chem.200802533&quot;</td></tr><tr><td>&quot;doi:10.1016/j.apacoust.2016.07…</td></tr><tr><td>&quot;doi:10.1515/kl-2018-0033&quot;</td></tr><tr><td>&quot;doi:10.1093/eurpub/ckab165.392&quot;</td></tr><tr><td>&quot;doi:10.1109/cleoe-eqec.2019.88…</td></tr><tr><td>&quot;doi:10.1203/01.pdr.0000190575.…</td></tr><tr><td>&quot;doi:10.1016/s0966-6362(05)8008…</td></tr><tr><td>&quot;doi:10.3280/siss2015-002010&quot;</td></tr><tr><td>&quot;doi:10.12775/spi.2020.3.009&quot;</td></tr></tbody></table></div>"
      ],
      "text/plain": [
       "shape: (14_989, 1)\n",
       "┌─────────────────────────────────┐\n",
       "│ id                              │\n",
       "│ ---                             │\n",
       "│ str                             │\n",
       "╞═════════════════════════════════╡\n",
       "│ doi:10.1111/j.1365-2869.2007.0… │\n",
       "│ doi:10.4081/mm.2005.3596        │\n",
       "│ doi:10.1163/27725472-05002014   │\n",
       "│ doi:10.1016/j.jchromb.2011.05.… │\n",
       "│ doi:10.1016/j.jcpa.2009.06.003  │\n",
       "│ doi:10.21071/calh.vi11.16753    │\n",
       "│ doi:10.1200/jco.2004.99.220     │\n",
       "│ doi:10.1007/978-3-031-38294-9_… │\n",
       "│ doi:10.1109/ceidp.1996.564513   │\n",
       "│ doi:10.1093/jee/99.4.1268       │\n",
       "│ …                               │\n",
       "│ doi:10.1016/j.rvsc.2014.10.010  │\n",
       "│ doi:10.1002/chem.200802533      │\n",
       "│ doi:10.1016/j.apacoust.2016.07… │\n",
       "│ doi:10.1515/kl-2018-0033        │\n",
       "│ doi:10.1093/eurpub/ckab165.392  │\n",
       "│ doi:10.1109/cleoe-eqec.2019.88… │\n",
       "│ doi:10.1203/01.pdr.0000190575.… │\n",
       "│ doi:10.1016/s0966-6362(05)8008… │\n",
       "│ doi:10.3280/siss2015-002010     │\n",
       "│ doi:10.12775/spi.2020.3.009     │\n",
       "└─────────────────────────────────┘"
      ]
     },
     "execution_count": 109,
     "metadata": {},
     "output_type": "execute_result"
    }
   ],
   "source": [
    "doi_list = found_df.with_columns(('doi:' + pl.col('doi')).str.to_lowercase().alias('id')).select('id')\n",
    "doi_list.unique()"
   ]
  },
  {
   "cell_type": "code",
   "execution_count": 75,
   "metadata": {},
   "outputs": [
    {
     "data": {
      "text/html": [
       "<div><style>\n",
       ".dataframe > thead > tr,\n",
       ".dataframe > tbody > tr {\n",
       "  text-align: right;\n",
       "  white-space: pre-wrap;\n",
       "}\n",
       "</style>\n",
       "<small>shape: (2_245, 19)</small><table border=\"1\" class=\"dataframe\"><thead><tr><th>item_id</th><th>matched_title</th><th>doi</th><th>issn</th><th>ambiguous_match</th><th>score</th><th>IDE_DOI</th><th>IDE_ISBN</th><th>IDE_PMID</th><th>OWNING_COLLECTION</th><th>OWNING_COLLECTION_DES</th><th>DES_ALLPEOPLE</th><th>DES_NUMBEROFAUTHORS</th><th>DATE_ISSUED_YEAR</th><th>TITLE</th><th>PUB_NAME</th><th>PUB_PLACE</th><th>PUB_COUNTRY</th><th>LAN_ISO</th></tr><tr><td>i64</td><td>str</td><td>str</td><td>str</td><td>bool</td><td>f64</td><td>str</td><td>str</td><td>str</td><td>i64</td><td>str</td><td>str</td><td>i64</td><td>i64</td><td>str</td><td>str</td><td>str</td><td>str</td><td>str</td></tr></thead><tbody><tr><td>61904</td><td>&quot;Effect of Mg, Ca and Ba on the…</td><td>&quot;10.1016/j.apcatb.2006.05.017&quot;</td><td>&quot;0926-3373&quot;</td><td>false</td><td>92.68019</td><td>null</td><td>null</td><td>null</td><td>58</td><td>&quot;4.02 Riassunto (Abstract)&quot;</td><td>&quot;m. livi; f. basile; g. fornasa…</td><td>5</td><td>2004</td><td>&quot;Role of the effect of Mg, Ca a…</td><td>&quot;s.n&quot;</td><td>&quot;VENEZIA&quot;</td><td>&quot;ITA&quot;</td><td>&quot;eng&quot;</td></tr><tr><td>343686</td><td>&quot;Ultra-Deep Sequencing (UDS) Al…</td><td>&quot;10.1182/blood.v124.21.1856.185…</td><td>&quot;0006-4971&quot;</td><td>false</td><td>244.3336</td><td>null</td><td>null</td><td>null</td><td>40</td><td>&quot;1.06 Abstract in rivista&quot;</td><td>&quot;caterina de benedittis, simona…</td><td>21</td><td>2014</td><td>&quot;Ultra-Deep Sequencing (UDS) Al…</td><td>null</td><td>null</td><td>null</td><td>&quot;eng&quot;</td></tr><tr><td>253817</td><td>&quot;First Report of Resistance of …</td><td>&quot;10.1094/pdis-02-16-0237-pdn&quot;</td><td>&quot;0191-2917&quot;</td><td>false</td><td>106.64693</td><td>null</td><td>null</td><td>null</td><td>59</td><td>&quot;4.03 Poster&quot;</td><td>&quot;collina, m.; merighi, m; minut…</td><td>5</td><td>2015</td><td>&quot;Efficacy of fungicides against…</td><td>null</td><td>null</td><td>&quot;DEU&quot;</td><td>&quot;eng&quot;</td></tr><tr><td>124801</td><td>&quot;Effects of mechanical pre-bloo…</td><td>&quot;10.20870/oeno-one.2011.45.1.14…</td><td>&quot;2494-1271&quot;</td><td>false</td><td>119.387054</td><td>null</td><td>null</td><td>null</td><td>57</td><td>&quot;4.01 Contributo in Atti di con…</td><td>&quot;filippetti i.; allegro g.l.; v…</td><td>6</td><td>2009</td><td>&quot;Effects of pre-bloom defoliati…</td><td>&quot;s.n&quot;</td><td>&quot;DAVIS&quot;</td><td>&quot;USA&quot;</td><td>&quot;eng&quot;</td></tr><tr><td>56616</td><td>&quot;Detection of hepatitis E virus…</td><td>&quot;10.1136/vr.161.12.422&quot;</td><td>&quot;0042-4900&quot;</td><td>false</td><td>113.0577</td><td>null</td><td>null</td><td>null</td><td>58</td><td>&quot;4.02 Riassunto (Abstract)&quot;</td><td>&quot;caprioli a.; martelli f.; di b…</td><td>7</td><td>2005</td><td>&quot;PCR detection of swine hepatit…</td><td>&quot;s.n&quot;</td><td>&quot;ORVIETO&quot;</td><td>&quot;ITA&quot;</td><td>&quot;eng&quot;</td></tr><tr><td>170593</td><td>&quot;Identification of A Pharmacoge…</td><td>&quot;10.1182/blood.v116.21.967.967&quot;</td><td>&quot;0006-4971&quot;</td><td>false</td><td>237.88379</td><td>null</td><td>null</td><td>null</td><td>58</td><td>&quot;4.02 Riassunto (Abstract)&quot;</td><td>&quot;i iacobucci ;a lonetti ;a cand…</td><td>22</td><td>2011</td><td>&quot;PHARMACOGENOMIC PROFILE ASSOCI…</td><td>null</td><td>null</td><td>null</td><td>&quot;eng&quot;</td></tr><tr><td>808441</td><td>&quot;Il Progetto 4CH per un Centro …</td><td>&quot;10.36253/rar-14320&quot;</td><td>&quot;2465-2377&quot;</td><td>false</td><td>138.37381</td><td>null</td><td>null</td><td>null</td><td>35</td><td>&quot;1.01 Articolo in rivista&quot;</td><td>&quot;favaretto g., longo d., orland…</td><td>6</td><td>2023</td><td>&quot;Abilità tradizionali ed emerge…</td><td>null</td><td>null</td><td>null</td><td>&quot;ita&quot;</td></tr><tr><td>87261</td><td>&quot;Anthropometric and strength va…</td><td>&quot;10.1016/s0021-9290(06)85294-2&quot;</td><td>&quot;0021-9290&quot;</td><td>false</td><td>126.290184</td><td>null</td><td>null</td><td>null</td><td>58</td><td>&quot;4.02 Riassunto (Abstract)&quot;</td><td>&quot;m. l. zampagni; d. casino; g. …</td><td>8</td><td>2006</td><td>&quot;Anthropometric and strength va…</td><td>null</td><td>null</td><td>null</td><td>&quot;eng&quot;</td></tr><tr><td>325195</td><td>&quot;:&lt;i&gt;Corpi invasi e viaggi dell…</td><td>&quot;10.1086/scj23076903&quot;</td><td>&quot;0361-0160&quot;</td><td>false</td><td>145.2306</td><td>null</td><td>null</td><td>null</td><td>37</td><td>&quot;1.03 Recensione in rivista&quot;</td><td>&quot;v. lavenia&quot;</td><td>1</td><td>2010</td><td>&quot;Anime inquiete, menti insane, …</td><td>null</td><td>null</td><td>null</td><td>&quot;ita&quot;</td></tr><tr><td>95988</td><td>&quot;Positioning Accuracy and Preci…</td><td>&quot;10.1109/nssmic.2008.4774290&quot;</td><td>null</td><td>false</td><td>89.31942</td><td>null</td><td>null</td><td>null</td><td>35</td><td>&quot;1.01 Articolo in rivista&quot;</td><td>&quot;g. baldazzi; m. bello; p. bocc…</td><td>6</td><td>2007</td><td>&quot;Scintillation camera control o…</td><td>null</td><td>null</td><td>null</td><td>&quot;eng&quot;</td></tr><tr><td>&hellip;</td><td>&hellip;</td><td>&hellip;</td><td>&hellip;</td><td>&hellip;</td><td>&hellip;</td><td>&hellip;</td><td>&hellip;</td><td>&hellip;</td><td>&hellip;</td><td>&hellip;</td><td>&hellip;</td><td>&hellip;</td><td>&hellip;</td><td>&hellip;</td><td>&hellip;</td><td>&hellip;</td><td>&hellip;</td><td>&hellip;</td></tr><tr><td>177207</td><td>&quot;454 The impact of fat infiltra…</td><td>&quot;10.1016/s1569-9056(13)60938-0&quot;</td><td>&quot;1569-9056&quot;</td><td>false</td><td>112.85651</td><td>null</td><td>null</td><td>null</td><td>57</td><td>&quot;4.01 Contributo in Atti di con…</td><td>&quot;rocca gc;schiavina r;brunocill…</td><td>15</td><td>2012</td><td>&quot;Prognostic factors of kidney t…</td><td>null</td><td>null</td><td>null</td><td>&quot;eng&quot;</td></tr><tr><td>173322</td><td>&quot;Investigation on different org…</td><td>&quot;10.1557/proc-1029-f02-03&quot;</td><td>&quot;0272-9172&quot;</td><td>false</td><td>119.86625</td><td>null</td><td>null</td><td>null</td><td>35</td><td>&quot;1.01 Articolo in rivista&quot;</td><td>&quot;orgiu e.; taki m.; fraboni b.;…</td><td>5</td><td>2008</td><td>&quot;Investigation on different org…</td><td>null</td><td>null</td><td>null</td><td>&quot;eng&quot;</td></tr><tr><td>291434</td><td>&quot;Rassegna di giurisprudenza eur…</td><td>&quot;10.3280/diri2015-003009&quot;</td><td>&quot;1720-433X&quot;</td><td>false</td><td>124.81013</td><td>null</td><td>null</td><td>null</td><td>35</td><td>&quot;1.01 Articolo in rivista&quot;</td><td>&quot;marco balboni; carmelo danisi&quot;</td><td>2</td><td>2017</td><td>&quot;Rassegna di giurisprudenza eur…</td><td>null</td><td>null</td><td>null</td><td>&quot;ita&quot;</td></tr><tr><td>149355</td><td>&quot;Development of an attached-gro…</td><td>&quot;10.1007/s10532-013-9664-z&quot;</td><td>&quot;0923-9820&quot;</td><td>false</td><td>124.304245</td><td>null</td><td>null</td><td>null</td><td>40</td><td>&quot;1.06 Abstract in rivista&quot;</td><td>&quot;g. bucchi; r. ciavarelli; f. d…</td><td>9</td><td>2012</td><td>&quot;Bioremediation of aquifers pol…</td><td>null</td><td>null</td><td>null</td><td>&quot;eng&quot;</td></tr><tr><td>217972</td><td>&quot;Minimum thickness of all-poly …</td><td>&quot;10.1007/s00167-013-2578-9&quot;</td><td>&quot;0942-2056&quot;</td><td>false</td><td>101.3444</td><td>null</td><td>null</td><td>null</td><td>59</td><td>&quot;4.03 Poster&quot;</td><td>&quot;bruni, d.; gagliardi, m.; mark…</td><td>9</td><td>2014</td><td>&quot;Unicompartimental knee replace…</td><td>null</td><td>null</td><td>null</td><td>&quot;eng&quot;</td></tr><tr><td>595668</td><td>&quot;Sur le vide d’une rencontre : …</td><td>&quot;10.4000/grm.623&quot;</td><td>&quot;1775-3902&quot;</td><td>false</td><td>97.75455</td><td>null</td><td>null</td><td>null</td><td>35</td><td>&quot;1.01 Articolo in rivista&quot;</td><td>&quot;del lucchese f&quot;</td><td>1</td><td>2015</td><td>&quot;Sur le vide d’une rencontre: A…</td><td>null</td><td>null</td><td>null</td><td>&quot;fre&quot;</td></tr><tr><td>645627</td><td>&quot;5 P Are alarm symptoms of clin…</td><td>&quot;10.1016/s1590-8658(02)90421-4&quot;</td><td>&quot;1590-8658&quot;</td><td>false</td><td>85.72343</td><td>null</td><td>null</td><td>null</td><td>35</td><td>&quot;1.01 Articolo in rivista&quot;</td><td>&quot;lunedei v.; bazzoli f.; pozzat…</td><td>9</td><td>2002</td><td>&quot;Endoscopic surveillance in Bar…</td><td>null</td><td>null</td><td>null</td><td>&quot;eng&quot;</td></tr><tr><td>79047</td><td>&quot;Influence of temperature, sali…</td><td>&quot;10.1016/j.hal.2007.02.006&quot;</td><td>&quot;1568-9883&quot;</td><td>false</td><td>124.10274</td><td>null</td><td>null</td><td>null</td><td>35</td><td>&quot;1.01 Articolo in rivista&quot;</td><td>&quot;guerrini f; silvestri c; pisto…</td><td>9</td><td>2006</td><td>&quot;Salinity effect on growth, yes…</td><td>null</td><td>null</td><td>null</td><td>&quot;ita&quot;</td></tr><tr><td>182855</td><td>&quot;Environmental implications of …</td><td>&quot;10.1016/j.zool.2011.04.003&quot;</td><td>&quot;0944-2006&quot;</td><td>false</td><td>88.26745</td><td>null</td><td>null</td><td>null</td><td>58</td><td>&quot;4.02 Riassunto (Abstract)&quot;</td><td>&quot;prada f.; caroselli e.; capacc…</td><td>8</td><td>2013</td><td>&quot;Different sensitivities among …</td><td>null</td><td>null</td><td>null</td><td>&quot;eng&quot;</td></tr><tr><td>136141</td><td>&quot;Association Between Imatinib (…</td><td>&quot;10.1182/blood.v114.22.3283.328…</td><td>&quot;0006-4971&quot;</td><td>false</td><td>157.1328</td><td>null</td><td>null</td><td>null</td><td>58</td><td>&quot;4.02 Riassunto (Abstract)&quot;</td><td>&quot;angelini s.; s. poverini; e. t…</td><td>22</td><td>2010</td><td>&quot;Association between genotypes …</td><td>&quot;s.n&quot;</td><td>&quot;s.l&quot;</td><td>null</td><td>&quot;eng&quot;</td></tr></tbody></table></div>"
      ],
      "text/plain": [
       "shape: (2_245, 19)\n",
       "┌─────────┬─────────────┬────────────┬───────────┬───┬──────────┬───────────┬────────────┬─────────┐\n",
       "│ item_id ┆ matched_tit ┆ doi        ┆ issn      ┆ … ┆ PUB_NAME ┆ PUB_PLACE ┆ PUB_COUNTR ┆ LAN_ISO │\n",
       "│ ---     ┆ le          ┆ ---        ┆ ---       ┆   ┆ ---      ┆ ---       ┆ Y          ┆ ---     │\n",
       "│ i64     ┆ ---         ┆ str        ┆ str       ┆   ┆ str      ┆ str       ┆ ---        ┆ str     │\n",
       "│         ┆ str         ┆            ┆           ┆   ┆          ┆           ┆ str        ┆         │\n",
       "╞═════════╪═════════════╪════════════╪═══════════╪═══╪══════════╪═══════════╪════════════╪═════════╡\n",
       "│ 61904   ┆ Effect of   ┆ 10.1016/j. ┆ 0926-3373 ┆ … ┆ s.n      ┆ VENEZIA   ┆ ITA        ┆ eng     │\n",
       "│         ┆ Mg, Ca and  ┆ apcatb.200 ┆           ┆   ┆          ┆           ┆            ┆         │\n",
       "│         ┆ Ba on the…  ┆ 6.05.017   ┆           ┆   ┆          ┆           ┆            ┆         │\n",
       "│ 343686  ┆ Ultra-Deep  ┆ 10.1182/bl ┆ 0006-4971 ┆ … ┆ null     ┆ null      ┆ null       ┆ eng     │\n",
       "│         ┆ Sequencing  ┆ ood.v124.2 ┆           ┆   ┆          ┆           ┆            ┆         │\n",
       "│         ┆ (UDS) Al…   ┆ 1.1856.185 ┆           ┆   ┆          ┆           ┆            ┆         │\n",
       "│         ┆             ┆ …          ┆           ┆   ┆          ┆           ┆            ┆         │\n",
       "│ 253817  ┆ First       ┆ 10.1094/pd ┆ 0191-2917 ┆ … ┆ null     ┆ null      ┆ DEU        ┆ eng     │\n",
       "│         ┆ Report of   ┆ is-02-16-0 ┆           ┆   ┆          ┆           ┆            ┆         │\n",
       "│         ┆ Resistance  ┆ 237-pdn    ┆           ┆   ┆          ┆           ┆            ┆         │\n",
       "│         ┆ of …        ┆            ┆           ┆   ┆          ┆           ┆            ┆         │\n",
       "│ 124801  ┆ Effects of  ┆ 10.20870/o ┆ 2494-1271 ┆ … ┆ s.n      ┆ DAVIS     ┆ USA        ┆ eng     │\n",
       "│         ┆ mechanical  ┆ eno-one.20 ┆           ┆   ┆          ┆           ┆            ┆         │\n",
       "│         ┆ pre-bloo…   ┆ 11.45.1.14 ┆           ┆   ┆          ┆           ┆            ┆         │\n",
       "│         ┆             ┆ …          ┆           ┆   ┆          ┆           ┆            ┆         │\n",
       "│ 56616   ┆ Detection   ┆ 10.1136/vr ┆ 0042-4900 ┆ … ┆ s.n      ┆ ORVIETO   ┆ ITA        ┆ eng     │\n",
       "│         ┆ of          ┆ .161.12.42 ┆           ┆   ┆          ┆           ┆            ┆         │\n",
       "│         ┆ hepatitis E ┆ 2          ┆           ┆   ┆          ┆           ┆            ┆         │\n",
       "│         ┆ virus…      ┆            ┆           ┆   ┆          ┆           ┆            ┆         │\n",
       "│ 170593  ┆ Identificat ┆ 10.1182/bl ┆ 0006-4971 ┆ … ┆ null     ┆ null      ┆ null       ┆ eng     │\n",
       "│         ┆ ion of A    ┆ ood.v116.2 ┆           ┆   ┆          ┆           ┆            ┆         │\n",
       "│         ┆ Pharmacoge… ┆ 1.967.967  ┆           ┆   ┆          ┆           ┆            ┆         │\n",
       "│ 808441  ┆ Il Progetto ┆ 10.36253/r ┆ 2465-2377 ┆ … ┆ null     ┆ null      ┆ null       ┆ ita     │\n",
       "│         ┆ 4CH per un  ┆ ar-14320   ┆           ┆   ┆          ┆           ┆            ┆         │\n",
       "│         ┆ Centro …    ┆            ┆           ┆   ┆          ┆           ┆            ┆         │\n",
       "│ 87261   ┆ Anthropomet ┆ 10.1016/s0 ┆ 0021-9290 ┆ … ┆ null     ┆ null      ┆ null       ┆ eng     │\n",
       "│         ┆ ric and     ┆ 021-9290(0 ┆           ┆   ┆          ┆           ┆            ┆         │\n",
       "│         ┆ strength    ┆ 6)85294-2  ┆           ┆   ┆          ┆           ┆            ┆         │\n",
       "│         ┆ va…         ┆            ┆           ┆   ┆          ┆           ┆            ┆         │\n",
       "│ 325195  ┆ :<i>Corpi   ┆ 10.1086/sc ┆ 0361-0160 ┆ … ┆ null     ┆ null      ┆ null       ┆ ita     │\n",
       "│         ┆ invasi e    ┆ j23076903  ┆           ┆   ┆          ┆           ┆            ┆         │\n",
       "│         ┆ viaggi      ┆            ┆           ┆   ┆          ┆           ┆            ┆         │\n",
       "│         ┆ dell…       ┆            ┆           ┆   ┆          ┆           ┆            ┆         │\n",
       "│ 95988   ┆ Positioning ┆ 10.1109/ns ┆ null      ┆ … ┆ null     ┆ null      ┆ null       ┆ eng     │\n",
       "│         ┆ Accuracy    ┆ smic.2008. ┆           ┆   ┆          ┆           ┆            ┆         │\n",
       "│         ┆ and Preci…  ┆ 4774290    ┆           ┆   ┆          ┆           ┆            ┆         │\n",
       "│ …       ┆ …           ┆ …          ┆ …         ┆ … ┆ …        ┆ …         ┆ …          ┆ …       │\n",
       "│ 177207  ┆ 454 The     ┆ 10.1016/s1 ┆ 1569-9056 ┆ … ┆ null     ┆ null      ┆ null       ┆ eng     │\n",
       "│         ┆ impact of   ┆ 569-9056(1 ┆           ┆   ┆          ┆           ┆            ┆         │\n",
       "│         ┆ fat         ┆ 3)60938-0  ┆           ┆   ┆          ┆           ┆            ┆         │\n",
       "│         ┆ infiltra…   ┆            ┆           ┆   ┆          ┆           ┆            ┆         │\n",
       "│ 173322  ┆ Investigati ┆ 10.1557/pr ┆ 0272-9172 ┆ … ┆ null     ┆ null      ┆ null       ┆ eng     │\n",
       "│         ┆ on on       ┆ oc-1029-f0 ┆           ┆   ┆          ┆           ┆            ┆         │\n",
       "│         ┆ different   ┆ 2-03       ┆           ┆   ┆          ┆           ┆            ┆         │\n",
       "│         ┆ org…        ┆            ┆           ┆   ┆          ┆           ┆            ┆         │\n",
       "│ 291434  ┆ Rassegna di ┆ 10.3280/di ┆ 1720-433X ┆ … ┆ null     ┆ null      ┆ null       ┆ ita     │\n",
       "│         ┆ giurisprude ┆ ri2015-003 ┆           ┆   ┆          ┆           ┆            ┆         │\n",
       "│         ┆ nza eur…    ┆ 009        ┆           ┆   ┆          ┆           ┆            ┆         │\n",
       "│ 149355  ┆ Development ┆ 10.1007/s1 ┆ 0923-9820 ┆ … ┆ null     ┆ null      ┆ null       ┆ eng     │\n",
       "│         ┆ of an attac ┆ 0532-013-9 ┆           ┆   ┆          ┆           ┆            ┆         │\n",
       "│         ┆ hed-gro…    ┆ 664-z      ┆           ┆   ┆          ┆           ┆            ┆         │\n",
       "│ 217972  ┆ Minimum     ┆ 10.1007/s0 ┆ 0942-2056 ┆ … ┆ null     ┆ null      ┆ null       ┆ eng     │\n",
       "│         ┆ thickness   ┆ 0167-013-2 ┆           ┆   ┆          ┆           ┆            ┆         │\n",
       "│         ┆ of all-poly ┆ 578-9      ┆           ┆   ┆          ┆           ┆            ┆         │\n",
       "│         ┆ …           ┆            ┆           ┆   ┆          ┆           ┆            ┆         │\n",
       "│ 595668  ┆ Sur le vide ┆ 10.4000/gr ┆ 1775-3902 ┆ … ┆ null     ┆ null      ┆ null       ┆ fre     │\n",
       "│         ┆ d’une       ┆ m.623      ┆           ┆   ┆          ┆           ┆            ┆         │\n",
       "│         ┆ rencontre : ┆            ┆           ┆   ┆          ┆           ┆            ┆         │\n",
       "│         ┆ …           ┆            ┆           ┆   ┆          ┆           ┆            ┆         │\n",
       "│ 645627  ┆ 5 P Are     ┆ 10.1016/s1 ┆ 1590-8658 ┆ … ┆ null     ┆ null      ┆ null       ┆ eng     │\n",
       "│         ┆ alarm       ┆ 590-8658(0 ┆           ┆   ┆          ┆           ┆            ┆         │\n",
       "│         ┆ symptoms of ┆ 2)90421-4  ┆           ┆   ┆          ┆           ┆            ┆         │\n",
       "│         ┆ clin…       ┆            ┆           ┆   ┆          ┆           ┆            ┆         │\n",
       "│ 79047   ┆ Influence   ┆ 10.1016/j. ┆ 1568-9883 ┆ … ┆ null     ┆ null      ┆ null       ┆ ita     │\n",
       "│         ┆ of temperat ┆ hal.2007.0 ┆           ┆   ┆          ┆           ┆            ┆         │\n",
       "│         ┆ ure, sali…  ┆ 2.006      ┆           ┆   ┆          ┆           ┆            ┆         │\n",
       "│ 182855  ┆ Environment ┆ 10.1016/j. ┆ 0944-2006 ┆ … ┆ null     ┆ null      ┆ null       ┆ eng     │\n",
       "│         ┆ al implicat ┆ zool.2011. ┆           ┆   ┆          ┆           ┆            ┆         │\n",
       "│         ┆ ions of …   ┆ 04.003     ┆           ┆   ┆          ┆           ┆            ┆         │\n",
       "│ 136141  ┆ Association ┆ 10.1182/bl ┆ 0006-4971 ┆ … ┆ s.n      ┆ s.l       ┆ null       ┆ eng     │\n",
       "│         ┆ Between     ┆ ood.v114.2 ┆           ┆   ┆          ┆           ┆            ┆         │\n",
       "│         ┆ Imatinib (… ┆ 2.3283.328 ┆           ┆   ┆          ┆           ┆            ┆         │\n",
       "│         ┆             ┆ …          ┆           ┆   ┆          ┆           ┆            ┆         │\n",
       "└─────────┴─────────────┴────────────┴───────────┴───┴──────────┴───────────┴────────────┴─────────┘"
      ]
     },
     "execution_count": 75,
     "metadata": {},
     "output_type": "execute_result"
    }
   ],
   "source": [
    "dupes_found = found_df.filter(pl.col('doi').is_duplicated()).sort('doi')\n",
    "\n",
    "dupes_found.unique('doi')"
   ]
  },
  {
   "cell_type": "markdown",
   "metadata": {},
   "source": [
    "## Search within OpenCitations"
   ]
  },
  {
   "cell_type": "code",
   "execution_count": 127,
   "metadata": {},
   "outputs": [],
   "source": [
    "import os\n",
    "import tempfile\n",
    "from zipfile import ZipFile\n",
    "from tqdm import tqdm\n",
    "\n",
    "\n",
    "def process_meta_zip(zip_path, pid_list):\n",
    "    zip_file = ZipFile(zip_path)\n",
    "    files_list = [zipfile for zipfile in zip_file.namelist()\n",
    "                  if zipfile.endswith('.csv')]\n",
    "\n",
    "    output_iim = Path(\"./inoid_in_meta\")\n",
    "    output_iim.mkdir(parents=True, exist_ok=True)\n",
    "\n",
    "    dois_isbns_pmids_lf = pid_list.lazy()\n",
    "\n",
    "\n",
    "    for csv_file in tqdm(files_list, desc=\"Processing Meta CSV files\"):\n",
    "        with zip_file.open(csv_file, 'r') as file:\n",
    "            with tempfile.NamedTemporaryFile() as tf:\n",
    "                tf.write(file.read())\n",
    "                tf.seek(0)\n",
    "                os.makedirs(output_iim, exist_ok=True)\n",
    "                df = (\n",
    "                    pl.scan_csv(tf.name)\n",
    "                    .select(['id', 'title', 'type'])\n",
    "                    .with_columns(\n",
    "                        (pl.col('id').str.extract(\n",
    "                            r\"(omid:[^\\s]+)\")).alias('omid'),\n",
    "                        (pl.col('id').str.extract(\n",
    "                            r\"((?:doi):[^\\s\\\"]+)\")).alias('doi'),\n",
    "                        (pl.col('id').str.extract(\n",
    "                            r\"((?:pmid):[^\\s\\\"]+)\")).alias('pmid'),\n",
    "                        (pl.col('id').str.extract(\n",
    "                            r\"((?:isbn):[^\\s\\\"]+)\")).alias('isbn'),\n",
    "                    )\n",
    "                    .with_columns(\n",
    "                        pl.coalesce([pl.col('doi'), pl.col('pmid'),\n",
    "                                     pl.col('isbn')]).alias('id')\n",
    "                    )\n",
    "                    .drop(['doi', 'pmid', 'isbn'])\n",
    "                    .drop_nulls('id')\n",
    "                    .join(dois_isbns_pmids_lf, on='id', how='inner')\n",
    "                    .collect(streaming=True)\n",
    "                )\n",
    "\n",
    "            if not df.is_empty():\n",
    "                df.write_parquet(os.path.join(output_iim, os.path.basename(\n",
    "                    csv_file).replace('.csv', '.parquet')))\n",
    "\n",
    "    (\n",
    "        pl.scan_parquet(output_iim / \"*.parquet\")\n",
    "    ).sink_parquet(output_iim / \"inoid_in_meta.parquet\")\n",
    "\n",
    "    for file in os.listdir(output_iim):\n",
    "        if file != 'inoid_in_meta.parquet':\n",
    "            os.remove(os.path.join(output_iim, file))\n",
    "\n",
    "    print(f\"Iris In Meta saved to '{output_iim}/inoid_in_meta.parquet'\")"
   ]
  },
  {
   "cell_type": "code",
   "execution_count": 118,
   "metadata": {},
   "outputs": [
    {
     "name": "stderr",
     "output_type": "stream",
     "text": [
      "Processing Meta CSV files: 100%|██████████| 28248/28248 [08:51<00:00, 53.19it/s]\n"
     ]
    },
    {
     "name": "stdout",
     "output_type": "stream",
     "text": [
      "Iris In Meta saved to 'inoid_in_meta/inoid_in_meta.parquet'\n"
     ]
    }
   ],
   "source": [
    "process_meta_zip(\"../../data/csv_openalex.zip\", doi_list.unique())"
   ]
  },
  {
   "cell_type": "code",
   "execution_count": 121,
   "metadata": {},
   "outputs": [
    {
     "data": {
      "text/html": [
       "<div><style>\n",
       ".dataframe > thead > tr,\n",
       ".dataframe > tbody > tr {\n",
       "  text-align: right;\n",
       "  white-space: pre-wrap;\n",
       "}\n",
       "</style>\n",
       "<small>shape: (10_387, 4)</small><table border=\"1\" class=\"dataframe\"><thead><tr><th>id</th><th>title</th><th>type</th><th>omid</th></tr><tr><td>str</td><td>str</td><td>str</td><td>str</td></tr></thead><tbody><tr><td>&quot;doi:10.1097/brs.0b013e3181859a…</td><td>&quot;Eosinophilic Granuloma Of The …</td><td>&quot;journal article&quot;</td><td>&quot;omid:br/0690102323&quot;</td></tr><tr><td>&quot;doi:10.1016/j.jimonfin.2015.02…</td><td>&quot;The Macroeconomic Impact Of Fi…</td><td>&quot;journal article&quot;</td><td>&quot;omid:br/06902667041&quot;</td></tr><tr><td>&quot;doi:10.1016/j.jimonfin.2015.02…</td><td>&quot;Announcements Of ECB Unconvent…</td><td>&quot;journal article&quot;</td><td>&quot;omid:br/06902667046&quot;</td></tr><tr><td>&quot;doi:10.1007/978-3-319-08660-6_…</td><td>&quot;Submarine Mass-Movements On Vo…</td><td>&quot;book chapter&quot;</td><td>&quot;omid:br/06902661957&quot;</td></tr><tr><td>&quot;doi:10.1163/9789004281769&quot;</td><td>&quot;Echoes Of An Invisible World&quot;</td><td>&quot;book&quot;</td><td>&quot;omid:br/06902663318&quot;</td></tr><tr><td>&quot;doi:10.5194/hessd-3-201-2006&quot;</td><td>&quot;Classification Of Heterogeneou…</td><td>&quot;web content&quot;</td><td>&quot;omid:br/06903205011&quot;</td></tr><tr><td>&quot;doi:10.1111/aor.12106&quot;</td><td>&quot;Extracorporeal Detoxification …</td><td>&quot;journal article&quot;</td><td>&quot;omid:br/06902198134&quot;</td></tr><tr><td>&quot;doi:10.4081/monaldi.2008.397&quot;</td><td>&quot;The Value Of Transbronchial Lu…</td><td>&quot;journal article&quot;</td><td>&quot;omid:br/06901533236&quot;</td></tr><tr><td>&quot;doi:10.47109/0102200109&quot;</td><td>&quot;Se La Tv È Un White Cube. Tras…</td><td>&quot;journal article&quot;</td><td>&quot;omid:br/06901532594&quot;</td></tr><tr><td>&quot;doi:10.1016/j.aquatox.2016.08.…</td><td>&quot;Inhibitory Effect Of Polyunsat…</td><td>&quot;journal article&quot;</td><td>&quot;omid:br/0690261637&quot;</td></tr><tr><td>&hellip;</td><td>&hellip;</td><td>&hellip;</td><td>&hellip;</td></tr><tr><td>&quot;doi:10.1159/000227201&quot;</td><td>&quot;Female Thyroid Cancer: The Rol…</td><td>&quot;journal article&quot;</td><td>&quot;omid:br/0690761630&quot;</td></tr><tr><td>&quot;doi:10.1007/s00420-002-0379-4&quot;</td><td>&quot;Proposal For Single And Mixtur…</td><td>&quot;journal article&quot;</td><td>&quot;omid:br/06901781816&quot;</td></tr><tr><td>&quot;doi:10.11646/zootaxa.821.1.1&quot;</td><td>&quot;Notes On Fossil Chitons. 1. A …</td><td>&quot;journal article&quot;</td><td>&quot;omid:br/06903123742&quot;</td></tr><tr><td>&quot;doi:10.1007/978-0-387-33012-9_…</td><td>&quot;Analysis Of The N Protein In F…</td><td>&quot;book chapter&quot;</td><td>&quot;omid:br/06903127888&quot;</td></tr><tr><td>&quot;doi:10.1053/jlts.2002.22459&quot;</td><td>&quot;Effectiveness Of Preoperative …</td><td>&quot;journal article&quot;</td><td>&quot;omid:br/06902181699&quot;</td></tr><tr><td>&quot;doi:10.1007/s00299-009-0719-x&quot;</td><td>&quot;Expression Of The PsMT A1 Gene…</td><td>&quot;journal article&quot;</td><td>&quot;omid:br/06902446166&quot;</td></tr><tr><td>&quot;doi:10.1016/j.polymdegradstab.…</td><td>&quot;Novel Biocompatible PBS-based …</td><td>&quot;journal article&quot;</td><td>&quot;omid:br/06902778239&quot;</td></tr><tr><td>&quot;doi:10.1055/s-2006-926852&quot;</td><td>&quot;Astigmatismus Bei Kongenitalem…</td><td>&quot;journal article&quot;</td><td>&quot;omid:br/06902774365&quot;</td></tr><tr><td>&quot;doi:10.1016/j.polymdegradstab.…</td><td>&quot;Micro/nanoparticles Fabricated…</td><td>&quot;journal article&quot;</td><td>&quot;omid:br/06902777524&quot;</td></tr><tr><td>&quot;doi:10.1016/j.bmc.2004.11.043&quot;</td><td>&quot;Diphenylcyclohexylamine Deriva…</td><td>&quot;journal article&quot;</td><td>&quot;omid:br/0690748006&quot;</td></tr></tbody></table></div>"
      ],
      "text/plain": [
       "shape: (10_387, 4)\n",
       "┌─────────────────────────────┬────────────────────────────┬─────────────────┬─────────────────────┐\n",
       "│ id                          ┆ title                      ┆ type            ┆ omid                │\n",
       "│ ---                         ┆ ---                        ┆ ---             ┆ ---                 │\n",
       "│ str                         ┆ str                        ┆ str             ┆ str                 │\n",
       "╞═════════════════════════════╪════════════════════════════╪═════════════════╪═════════════════════╡\n",
       "│ doi:10.1097/brs.0b013e31818 ┆ Eosinophilic Granuloma Of  ┆ journal article ┆ omid:br/0690102323  │\n",
       "│ 59a…                        ┆ The …                      ┆                 ┆                     │\n",
       "│ doi:10.1016/j.jimonfin.2015 ┆ The Macroeconomic Impact   ┆ journal article ┆ omid:br/06902667041 │\n",
       "│ .02…                        ┆ Of Fi…                     ┆                 ┆                     │\n",
       "│ doi:10.1016/j.jimonfin.2015 ┆ Announcements Of ECB       ┆ journal article ┆ omid:br/06902667046 │\n",
       "│ .02…                        ┆ Unconvent…                 ┆                 ┆                     │\n",
       "│ doi:10.1007/978-3-319-08660 ┆ Submarine Mass-Movements   ┆ book chapter    ┆ omid:br/06902661957 │\n",
       "│ -6_…                        ┆ On Vo…                     ┆                 ┆                     │\n",
       "│ doi:10.1163/9789004281769   ┆ Echoes Of An Invisible     ┆ book            ┆ omid:br/06902663318 │\n",
       "│                             ┆ World                      ┆                 ┆                     │\n",
       "│ doi:10.5194/hessd-3-201-200 ┆ Classification Of          ┆ web content     ┆ omid:br/06903205011 │\n",
       "│ 6                           ┆ Heterogeneou…              ┆                 ┆                     │\n",
       "│ doi:10.1111/aor.12106       ┆ Extracorporeal             ┆ journal article ┆ omid:br/06902198134 │\n",
       "│                             ┆ Detoxification …           ┆                 ┆                     │\n",
       "│ doi:10.4081/monaldi.2008.39 ┆ The Value Of               ┆ journal article ┆ omid:br/06901533236 │\n",
       "│ 7                           ┆ Transbronchial Lu…         ┆                 ┆                     │\n",
       "│ doi:10.47109/0102200109     ┆ Se La Tv È Un White Cube.  ┆ journal article ┆ omid:br/06901532594 │\n",
       "│                             ┆ Tras…                      ┆                 ┆                     │\n",
       "│ doi:10.1016/j.aquatox.2016. ┆ Inhibitory Effect Of       ┆ journal article ┆ omid:br/0690261637  │\n",
       "│ 08.…                        ┆ Polyunsat…                 ┆                 ┆                     │\n",
       "│ …                           ┆ …                          ┆ …               ┆ …                   │\n",
       "│ doi:10.1159/000227201       ┆ Female Thyroid Cancer: The ┆ journal article ┆ omid:br/0690761630  │\n",
       "│                             ┆ Rol…                       ┆                 ┆                     │\n",
       "│ doi:10.1007/s00420-002-0379 ┆ Proposal For Single And    ┆ journal article ┆ omid:br/06901781816 │\n",
       "│ -4                          ┆ Mixtur…                    ┆                 ┆                     │\n",
       "│ doi:10.11646/zootaxa.821.1. ┆ Notes On Fossil Chitons.   ┆ journal article ┆ omid:br/06903123742 │\n",
       "│ 1                           ┆ 1. A …                     ┆                 ┆                     │\n",
       "│ doi:10.1007/978-0-387-33012 ┆ Analysis Of The N Protein  ┆ book chapter    ┆ omid:br/06903127888 │\n",
       "│ -9_…                        ┆ In F…                      ┆                 ┆                     │\n",
       "│ doi:10.1053/jlts.2002.22459 ┆ Effectiveness Of           ┆ journal article ┆ omid:br/06902181699 │\n",
       "│                             ┆ Preoperative …             ┆                 ┆                     │\n",
       "│ doi:10.1007/s00299-009-0719 ┆ Expression Of The PsMT A1  ┆ journal article ┆ omid:br/06902446166 │\n",
       "│ -x                          ┆ Gene…                      ┆                 ┆                     │\n",
       "│ doi:10.1016/j.polymdegradst ┆ Novel Biocompatible        ┆ journal article ┆ omid:br/06902778239 │\n",
       "│ ab.…                        ┆ PBS-based …                ┆                 ┆                     │\n",
       "│ doi:10.1055/s-2006-926852   ┆ Astigmatismus Bei          ┆ journal article ┆ omid:br/06902774365 │\n",
       "│                             ┆ Kongenitalem…              ┆                 ┆                     │\n",
       "│ doi:10.1016/j.polymdegradst ┆ Micro/nanoparticles        ┆ journal article ┆ omid:br/06902777524 │\n",
       "│ ab.…                        ┆ Fabricated…                ┆                 ┆                     │\n",
       "│ doi:10.1016/j.bmc.2004.11.0 ┆ Diphenylcyclohexylamine    ┆ journal article ┆ omid:br/0690748006  │\n",
       "│ 43                          ┆ Deriva…                    ┆                 ┆                     │\n",
       "└─────────────────────────────┴────────────────────────────┴─────────────────┴─────────────────────┘"
      ]
     },
     "execution_count": 121,
     "metadata": {},
     "output_type": "execute_result"
    }
   ],
   "source": [
    "df = pl.scan_parquet(\"./inoid_in_meta/*.parquet\").collect()\n",
    "df"
   ]
  },
  {
   "cell_type": "code",
   "execution_count": 123,
   "metadata": {},
   "outputs": [
    {
     "data": {
      "text/plain": [
       "10.209156493876668"
      ]
     },
     "execution_count": 123,
     "metadata": {},
     "output_type": "execute_result"
    }
   ],
   "source": [
    "df.__len__() / inoid_df.__len__() * 100"
   ]
  }
 ],
 "metadata": {
  "kernelspec": {
   "display_name": "base",
   "language": "python",
   "name": "python3"
  },
  "language_info": {
   "codemirror_mode": {
    "name": "ipython",
    "version": 3
   },
   "file_extension": ".py",
   "mimetype": "text/x-python",
   "name": "python",
   "nbconvert_exporter": "python",
   "pygments_lexer": "ipython3",
   "version": "3.11.5"
  }
 },
 "nbformat": 4,
 "nbformat_minor": 2
}
